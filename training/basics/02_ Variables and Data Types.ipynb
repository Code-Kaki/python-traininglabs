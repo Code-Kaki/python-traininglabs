{
 "cells": [
  {
   "cell_type": "markdown",
   "metadata": {
    "id": "0fO5omuHvQ6y"
   },
   "source": [
    "# Hello Pythoneer!\n",
    "\n",
    "You've learnt about Python conventions and common practices in the previous lesson. Today, you will execute the first few lines of Python code (Spoiler: Sorry, not HelloWorld).\n",
    "\n",
    "*Author: Yu Yuen Hern, Skymind Holdings Berhad*"
   ]
  },
  {
   "cell_type": "markdown",
   "metadata": {
    "id": "1rqokl756-0j"
   },
   "source": [
    "# Variables"
   ]
  },
  {
   "cell_type": "markdown",
   "metadata": {
    "id": "r923vW3ewdI0"
   },
   "source": [
    "## Recap: Naming rules for variables\n",
    "\n",
    "Let's recap some of the naming rules for variables."
   ]
  },
  {
   "cell_type": "markdown",
   "metadata": {
    "id": "BHiu8-1pwnLt"
   },
   "source": [
    "1. Python variables can only begin with a letter (A-Z or a-z) or an underscore."
   ]
  },
  {
   "cell_type": "code",
   "execution_count": null,
   "metadata": {
    "colab": {
     "base_uri": "https://localhost:8080/",
     "height": 128
    },
    "executionInfo": {
     "elapsed": 769,
     "status": "error",
     "timestamp": 1606548882562,
     "user": {
      "displayName": "Yuen Hern Yu",
      "photoUrl": "",
      "userId": "17516954092065775720"
     },
     "user_tz": -480
    },
    "id": "NjFVgcVivCBI",
    "outputId": "4c5217e5-05f3-4d26-ea21-5c901287859b"
   },
   "outputs": [
    {
     "ename": "SyntaxError",
     "evalue": "ignored",
     "output_type": "error",
     "traceback": [
      "\u001b[0;36m  File \u001b[0;32m\"<ipython-input-1-f1bccf0d8d21>\"\u001b[0;36m, line \u001b[0;32m1\u001b[0m\n\u001b[0;31m    9lives=9\u001b[0m\n\u001b[0m         ^\u001b[0m\n\u001b[0;31mSyntaxError\u001b[0m\u001b[0;31m:\u001b[0m invalid syntax\n"
     ]
    }
   ],
   "source": [
    "9lives=9"
   ]
  },
  {
   "cell_type": "markdown",
   "metadata": {
    "id": "DVBXcZvKwzI4"
   },
   "source": [
    "*Quiz: Did you find any other convention violations in the above code line?*"
   ]
  },
  {
   "cell_type": "markdown",
   "metadata": {
    "id": "sLP8CaCYxDnI"
   },
   "source": [
    "The correct way:\n"
   ]
  },
  {
   "cell_type": "code",
   "execution_count": null,
   "metadata": {
    "colab": {
     "base_uri": "https://localhost:8080/"
    },
    "executionInfo": {
     "elapsed": 783,
     "status": "ok",
     "timestamp": 1606549050158,
     "user": {
      "displayName": "Yuen Hern Yu",
      "photoUrl": "",
      "userId": "17516954092065775720"
     },
     "user_tz": -480
    },
    "id": "Y--TaCD0xIMa",
    "outputId": "68b636b3-ce4a-444d-f71a-21af8e073743"
   },
   "outputs": [
    {
     "data": {
      "text/plain": [
       "0"
      ]
     },
     "execution_count": 4,
     "metadata": {
      "tags": []
     },
     "output_type": "execute_result"
    }
   ],
   "source": [
    "# Correct\n",
    "var = 0\n",
    "var"
   ]
  },
  {
   "cell_type": "code",
   "execution_count": null,
   "metadata": {
    "colab": {
     "base_uri": "https://localhost:8080/",
     "height": 35
    },
    "executionInfo": {
     "elapsed": 757,
     "status": "ok",
     "timestamp": 1606548887475,
     "user": {
      "displayName": "Yuen Hern Yu",
      "photoUrl": "",
      "userId": "17516954092065775720"
     },
     "user_tz": -480
    },
    "id": "9_R3R3lgxbNK",
    "outputId": "055f0eec-3952-48f0-cba0-5696e95a713f"
   },
   "outputs": [
    {
     "data": {
      "application/vnd.google.colaboratory.intrinsic+json": {
       "type": "string"
      },
      "text/plain": [
       "'cat'"
      ]
     },
     "execution_count": 3,
     "metadata": {
      "tags": []
     },
     "output_type": "execute_result"
    }
   ],
   "source": [
    "# Correct\n",
    "_9lives = \"cat\"\n",
    "_9lives"
   ]
  },
  {
   "cell_type": "markdown",
   "metadata": {
    "id": "Xb9sUi6qxsWm"
   },
   "source": [
    "2. The rest of the identifier may contain letters (A-Z or a-z), underscores(_) and numbers (0-9)."
   ]
  },
  {
   "cell_type": "code",
   "execution_count": null,
   "metadata": {
    "id": "XyqmlriFxpSQ"
   },
   "outputs": [],
   "source": [
    "# Correct\n",
    "year2 = \"Sophomore\"\n",
    "year2"
   ]
  },
  {
   "cell_type": "code",
   "execution_count": null,
   "metadata": {
    "colab": {
     "base_uri": "https://localhost:8080/",
     "height": 128
    },
    "executionInfo": {
     "elapsed": 813,
     "status": "error",
     "timestamp": 1606549129595,
     "user": {
      "displayName": "Yuen Hern Yu",
      "photoUrl": "",
      "userId": "17516954092065775720"
     },
     "user_tz": -480
    },
    "id": "UThIq7FeyYY0",
    "outputId": "d95c5829-aa67-407d-9d99-73960549d5d3"
   },
   "outputs": [
    {
     "ename": "SyntaxError",
     "evalue": "ignored",
     "output_type": "error",
     "traceback": [
      "\u001b[0;36m  File \u001b[0;32m\"<ipython-input-7-19c573613cb9>\"\u001b[0;36m, line \u001b[0;32m2\u001b[0m\n\u001b[0;31m    _$$ = 7\u001b[0m\n\u001b[0m     ^\u001b[0m\n\u001b[0;31mSyntaxError\u001b[0m\u001b[0;31m:\u001b[0m invalid syntax\n"
     ]
    }
   ],
   "source": [
    "# Incorrect\n",
    "_$$ = 7"
   ]
  },
  {
   "cell_type": "markdown",
   "metadata": {
    "id": "UQCWgXsKynzl"
   },
   "source": [
    "3. Python is case-sensitive. \"Name\" and \"name\" are two different identifiers."
   ]
  },
  {
   "cell_type": "code",
   "execution_count": null,
   "metadata": {
    "id": "0yfccYQhyhZP"
   },
   "outputs": [],
   "source": [
    "name = \"Skymind\" # declare a string variable here"
   ]
  },
  {
   "cell_type": "code",
   "execution_count": null,
   "metadata": {
    "colab": {
     "base_uri": "https://localhost:8080/",
     "height": 35
    },
    "executionInfo": {
     "elapsed": 496,
     "status": "ok",
     "timestamp": 1606549268957,
     "user": {
      "displayName": "Yuen Hern Yu",
      "photoUrl": "",
      "userId": "17516954092065775720"
     },
     "user_tz": -480
    },
    "id": "IisEhoa8zDZu",
    "outputId": "f5de5541-2235-44e6-ec22-7be58e1e8b4a"
   },
   "outputs": [
    {
     "data": {
      "application/vnd.google.colaboratory.intrinsic+json": {
       "type": "string"
      },
      "text/plain": [
       "'Skymind'"
      ]
     },
     "execution_count": 9,
     "metadata": {
      "tags": []
     },
     "output_type": "execute_result"
    }
   ],
   "source": [
    "name"
   ]
  },
  {
   "cell_type": "code",
   "execution_count": null,
   "metadata": {
    "colab": {
     "base_uri": "https://localhost:8080/",
     "height": 162
    },
    "executionInfo": {
     "elapsed": 834,
     "status": "error",
     "timestamp": 1606549270483,
     "user": {
      "displayName": "Yuen Hern Yu",
      "photoUrl": "",
      "userId": "17516954092065775720"
     },
     "user_tz": -480
    },
    "id": "7c44doQTzFbm",
    "outputId": "35c4ea5d-fa5b-4f7e-81d2-efcc9bc26a01"
   },
   "outputs": [
    {
     "ename": "NameError",
     "evalue": "ignored",
     "output_type": "error",
     "traceback": [
      "\u001b[0;31m---------------------------------------------------------------------------\u001b[0m",
      "\u001b[0;31mNameError\u001b[0m                                 Traceback (most recent call last)",
      "\u001b[0;32m<ipython-input-10-da845b228b4c>\u001b[0m in \u001b[0;36m<module>\u001b[0;34m()\u001b[0m\n\u001b[0;32m----> 1\u001b[0;31m \u001b[0mName\u001b[0m\u001b[0;34m\u001b[0m\u001b[0;34m\u001b[0m\u001b[0m\n\u001b[0m",
      "\u001b[0;31mNameError\u001b[0m: name 'Name' is not defined"
     ]
    }
   ],
   "source": [
    "Name"
   ]
  },
  {
   "cell_type": "markdown",
   "metadata": {
    "id": "gCiBt5TYzDE0"
   },
   "source": [
    "4. Reserved words (keywords) cannot be used as identifier names."
   ]
  },
  {
   "cell_type": "markdown",
   "metadata": {
    "id": "do4jZrvczmTu"
   },
   "source": [
    "--- | --- | Reserved | Keywords | --- | ---\n",
    "--- | --- | ----- | ------ | --- | ---\n",
    "and\t| def\t| False | import | not | True\n",
    "as | del | finally | in | or | try\n",
    "assert | elif | for | is | pass | while\n",
    "break | else | from | lambda | print | with\n",
    "class | except | global | None | raise | yield\n",
    "continue | exec | if | nonlocal | return\t\n",
    "\n"
   ]
  },
  {
   "cell_type": "code",
   "execution_count": null,
   "metadata": {
    "colab": {
     "base_uri": "https://localhost:8080/",
     "height": 128
    },
    "executionInfo": {
     "elapsed": 831,
     "status": "error",
     "timestamp": 1606550720609,
     "user": {
      "displayName": "Yuen Hern Yu",
      "photoUrl": "",
      "userId": "17516954092065775720"
     },
     "user_tz": -480
    },
    "id": "CQ555PAp4lFw",
    "outputId": "79bc91eb-7bd6-4879-9edb-0f5fd1d7bfd3"
   },
   "outputs": [
    {
     "ename": "SyntaxError",
     "evalue": "ignored",
     "output_type": "error",
     "traceback": [
      "\u001b[0;36m  File \u001b[0;32m\"<ipython-input-16-f2c436d608ac>\"\u001b[0;36m, line \u001b[0;32m1\u001b[0m\n\u001b[0;31m    False = 7\u001b[0m\n\u001b[0m             ^\u001b[0m\n\u001b[0;31mSyntaxError\u001b[0m\u001b[0;31m:\u001b[0m can't assign to keyword\n"
     ]
    }
   ],
   "source": [
    "False = 7"
   ]
  },
  {
   "cell_type": "markdown",
   "metadata": {
    "id": "sY9-lW2-3EgV"
   },
   "source": [
    "## Assigning and reassigning"
   ]
  },
  {
   "cell_type": "markdown",
   "metadata": {
    "id": "8IFkZUx33Wiv"
   },
   "source": [
    "1. To assign a value, just name a variable and type the value after the equal sign. No type declaration needed."
   ]
  },
  {
   "cell_type": "code",
   "execution_count": null,
   "metadata": {
    "colab": {
     "base_uri": "https://localhost:8080/"
    },
    "executionInfo": {
     "elapsed": 756,
     "status": "ok",
     "timestamp": 1606550750231,
     "user": {
      "displayName": "Yuen Hern Yu",
      "photoUrl": "",
      "userId": "17516954092065775720"
     },
     "user_tz": -480
    },
    "id": "SXCMoTT0zlpi",
    "outputId": "cf0e9543-cc7d-432d-e1af-12d8f2146714"
   },
   "outputs": [
    {
     "name": "stdout",
     "output_type": "stream",
     "text": [
      "18\n"
     ]
    }
   ],
   "source": [
    "age = 18\n",
    "print(age)"
   ]
  },
  {
   "cell_type": "code",
   "execution_count": null,
   "metadata": {
    "colab": {
     "base_uri": "https://localhost:8080/"
    },
    "executionInfo": {
     "elapsed": 774,
     "status": "ok",
     "timestamp": 1606550499532,
     "user": {
      "displayName": "Yuen Hern Yu",
      "photoUrl": "",
      "userId": "17516954092065775720"
     },
     "user_tz": -480
    },
    "id": "Kp7E8Gsy3uMP",
    "outputId": "60227fb5-9186-44b9-d871-022e4cdaab92"
   },
   "outputs": [
    {
     "name": "stdout",
     "output_type": "stream",
     "text": [
      "Dinosaur\n"
     ]
    }
   ],
   "source": [
    "age = \"Dinosaur\"\n",
    "print(age)"
   ]
  },
  {
   "cell_type": "markdown",
   "metadata": {
    "id": "jYu41D0n3ziL"
   },
   "source": [
    "However, keep in mind to avoid declaring nonsensical variable names. Thus, `age = Dinosaur` doesn't make sense."
   ]
  },
  {
   "cell_type": "markdown",
   "metadata": {
    "id": "IxoUgdVH4C1-"
   },
   "source": [
    "2. Variables in Python are unusable until a value is assigned."
   ]
  },
  {
   "cell_type": "code",
   "execution_count": null,
   "metadata": {
    "colab": {
     "base_uri": "https://localhost:8080/",
     "height": 162
    },
    "executionInfo": {
     "elapsed": 964,
     "status": "error",
     "timestamp": 1606550657776,
     "user": {
      "displayName": "Yuen Hern Yu",
      "photoUrl": "",
      "userId": "17516954092065775720"
     },
     "user_tz": -480
    },
    "id": "4jfdyhoc0WLl",
    "outputId": "9fb51181-03e1-4d31-99b3-c85a37a06e96"
   },
   "outputs": [
    {
     "ename": "NameError",
     "evalue": "ignored",
     "output_type": "error",
     "traceback": [
      "\u001b[0;31m---------------------------------------------------------------------------\u001b[0m",
      "\u001b[0;31mNameError\u001b[0m                                 Traceback (most recent call last)",
      "\u001b[0;32m<ipython-input-15-d1c399588194>\u001b[0m in \u001b[0;36m<module>\u001b[0;34m()\u001b[0m\n\u001b[0;32m----> 1\u001b[0;31m \u001b[0munassigned_variable\u001b[0m\u001b[0;34m\u001b[0m\u001b[0;34m\u001b[0m\u001b[0m\n\u001b[0m",
      "\u001b[0;31mNameError\u001b[0m: name 'unassigned_variable' is not defined"
     ]
    }
   ],
   "source": [
    "unassigned_variable"
   ]
  },
  {
   "cell_type": "markdown",
   "metadata": {
    "id": "SmclClew4crM"
   },
   "source": [
    "3. Identifier can only be at the left-hand side of the equal sign."
   ]
  },
  {
   "cell_type": "code",
   "execution_count": null,
   "metadata": {
    "colab": {
     "base_uri": "https://localhost:8080/",
     "height": 128
    },
    "executionInfo": {
     "elapsed": 776,
     "status": "error",
     "timestamp": 1606550745250,
     "user": {
      "displayName": "Yuen Hern Yu",
      "photoUrl": "",
      "userId": "17516954092065775720"
     },
     "user_tz": -480
    },
    "id": "JQ3ENdKZ4Ujs",
    "outputId": "0d2d5298-9f97-443f-a750-4ea8741b4ce2"
   },
   "outputs": [
    {
     "ename": "SyntaxError",
     "evalue": "ignored",
     "output_type": "error",
     "traceback": [
      "\u001b[0;36m  File \u001b[0;32m\"<ipython-input-18-a45d7fe50b6c>\"\u001b[0;36m, line \u001b[0;32m1\u001b[0m\n\u001b[0;31m    18 = age\u001b[0m\n\u001b[0m            ^\u001b[0m\n\u001b[0;31mSyntaxError\u001b[0m\u001b[0;31m:\u001b[0m can't assign to literal\n"
     ]
    }
   ],
   "source": [
    "18 = age"
   ]
  },
  {
   "cell_type": "markdown",
   "metadata": {
    "id": "2SuUNan040i7"
   },
   "source": [
    "4. Multiple assignments are possible in Python."
   ]
  },
  {
   "cell_type": "code",
   "execution_count": null,
   "metadata": {
    "colab": {
     "base_uri": "https://localhost:8080/"
    },
    "executionInfo": {
     "elapsed": 763,
     "status": "ok",
     "timestamp": 1606550853082,
     "user": {
      "displayName": "Yuen Hern Yu",
      "photoUrl": "",
      "userId": "17516954092065775720"
     },
     "user_tz": -480
    },
    "id": "epDk9DHk4t53",
    "outputId": "713b569f-09b2-4856-b7e6-5656532f3a94"
   },
   "outputs": [
    {
     "name": "stdout",
     "output_type": "stream",
     "text": [
      "18 Kuala Lumpur\n"
     ]
    }
   ],
   "source": [
    "age, city = 18, \"Kuala Lumpur\"\n",
    "print(age,city)"
   ]
  },
  {
   "cell_type": "markdown",
   "metadata": {
    "id": "_OHHyeBb5LZN"
   },
   "source": [
    "5. You can also assign same value to multiple Python variables."
   ]
  },
  {
   "cell_type": "code",
   "execution_count": null,
   "metadata": {
    "colab": {
     "base_uri": "https://localhost:8080/"
    },
    "executionInfo": {
     "elapsed": 749,
     "status": "ok",
     "timestamp": 1606550922689,
     "user": {
      "displayName": "Yuen Hern Yu",
      "photoUrl": "",
      "userId": "17516954092065775720"
     },
     "user_tz": -480
    },
    "id": "ChXCPQw35JK0",
    "outputId": "7a158461-a380-4f94-91cd-0898daa7570c"
   },
   "outputs": [
    {
     "name": "stdout",
     "output_type": "stream",
     "text": [
      "20 20\n"
     ]
    }
   ],
   "source": [
    "age = num = 20\n",
    "print(age,num)"
   ]
  },
  {
   "cell_type": "markdown",
   "metadata": {
    "id": "Ct43jSy_5ejV"
   },
   "source": [
    "## Swapping Variables"
   ]
  },
  {
   "cell_type": "code",
   "execution_count": null,
   "metadata": {
    "colab": {
     "base_uri": "https://localhost:8080/"
    },
    "executionInfo": {
     "elapsed": 932,
     "status": "ok",
     "timestamp": 1606551205783,
     "user": {
      "displayName": "Yuen Hern Yu",
      "photoUrl": "",
      "userId": "17516954092065775720"
     },
     "user_tz": -480
    },
    "id": "gGewKX575YkQ",
    "outputId": "590db801-fc5f-486c-fe6b-d609514c4fe4"
   },
   "outputs": [
    {
     "name": "stdout",
     "output_type": "stream",
     "text": [
      "keyboard mouse\n"
     ]
    }
   ],
   "source": [
    "var1, var2 = \"mouse\", \"keyboard\"\n",
    "var1, var2 = var2, var1\n",
    "print(var1,var2)"
   ]
  },
  {
   "cell_type": "markdown",
   "metadata": {
    "id": "CGqP7hKR6iAz"
   },
   "source": [
    "## Deleting variables"
   ]
  },
  {
   "cell_type": "code",
   "execution_count": null,
   "metadata": {
    "colab": {
     "base_uri": "https://localhost:8080/",
     "height": 195
    },
    "collapsed": true,
    "executionInfo": {
     "elapsed": 722,
     "status": "error",
     "timestamp": 1606551315279,
     "user": {
      "displayName": "Yuen Hern Yu",
      "photoUrl": "",
      "userId": "17516954092065775720"
     },
     "user_tz": -480
    },
    "id": "ZO4FQZEk6fPK",
    "outputId": "f7daa65d-d3bc-4efb-9cce-40b5f429d0c7"
   },
   "outputs": [
    {
     "ename": "NameError",
     "evalue": "ignored",
     "output_type": "error",
     "traceback": [
      "\u001b[0;31m---------------------------------------------------------------------------\u001b[0m",
      "\u001b[0;31mNameError\u001b[0m                                 Traceback (most recent call last)",
      "\u001b[0;32m<ipython-input-26-c008340fc1eb>\u001b[0m in \u001b[0;36m<module>\u001b[0;34m()\u001b[0m\n\u001b[1;32m      1\u001b[0m \u001b[0mvar\u001b[0m \u001b[0;34m=\u001b[0m \u001b[0;34m\"I am Yuen Hern\"\u001b[0m\u001b[0;34m\u001b[0m\u001b[0;34m\u001b[0m\u001b[0m\n\u001b[1;32m      2\u001b[0m \u001b[0;32mdel\u001b[0m \u001b[0mvar\u001b[0m\u001b[0;34m\u001b[0m\u001b[0;34m\u001b[0m\u001b[0m\n\u001b[0;32m----> 3\u001b[0;31m \u001b[0mprint\u001b[0m\u001b[0;34m(\u001b[0m\u001b[0mvar\u001b[0m\u001b[0;34m)\u001b[0m\u001b[0;34m\u001b[0m\u001b[0;34m\u001b[0m\u001b[0m\n\u001b[0m",
      "\u001b[0;31mNameError\u001b[0m: name 'var' is not defined"
     ]
    }
   ],
   "source": [
    "var = # put any string\n",
    "del var\n",
    "print(var)"
   ]
  },
  {
   "cell_type": "markdown",
   "metadata": {
    "id": "_nEBrHnt7E5T"
   },
   "source": [
    "## End: Variables\n",
    "\n",
    "You have known more about variables than you have ever been. Let's go over to data types!"
   ]
  },
  {
   "cell_type": "markdown",
   "metadata": {
    "id": "EjdkM8rj7DXR"
   },
   "source": [
    "# Data Types\n",
    "\n",
    "Data types are important in order to perform operations. Different data types have different performable operations.\n",
    "\n",
    "There are four numeric data types in Python: `int`, `float`, `long` (deprecated in Python 3.x) and `complex`.\n",
    "\n",
    "You can use *type()* to check the data types of variables."
   ]
  },
  {
   "cell_type": "markdown",
   "metadata": {
    "id": "-dd8XpKm7V-y"
   },
   "source": [
    "## Integers or int\n",
    "\n",
    "Integers are the most basic data type, holding signed integers.\n",
    "\n",
    "\"Signed\" means it has positive and negative signs."
   ]
  },
  {
   "cell_type": "code",
   "execution_count": null,
   "metadata": {
    "colab": {
     "base_uri": "https://localhost:8080/"
    },
    "executionInfo": {
     "elapsed": 737,
     "status": "ok",
     "timestamp": 1606551871166,
     "user": {
      "displayName": "Yuen Hern Yu",
      "photoUrl": "",
      "userId": "17516954092065775720"
     },
     "user_tz": -480
    },
    "id": "XR3BD2sw83np",
    "outputId": "a0b761d8-3f77-4154-fed3-7fd3cf1c8727"
   },
   "outputs": [
    {
     "name": "stdout",
     "output_type": "stream",
     "text": [
      "<class 'int'>\n"
     ]
    }
   ],
   "source": [
    "var1 = # try both positive and negative number\n",
    "print(type(var1))"
   ]
  },
  {
   "cell_type": "markdown",
   "metadata": {
    "id": "1GkL3BMm78En"
   },
   "source": [
    "Integers can be of any length, with the only limitation being the available memory."
   ]
  },
  {
   "cell_type": "code",
   "execution_count": null,
   "metadata": {
    "colab": {
     "base_uri": "https://localhost:8080/"
    },
    "executionInfo": {
     "elapsed": 707,
     "status": "ok",
     "timestamp": 1606551922506,
     "user": {
      "displayName": "Yuen Hern Yu",
      "photoUrl": "",
      "userId": "17516954092065775720"
     },
     "user_tz": -480
    },
    "id": "mbUe1IOh9JeY",
    "outputId": "42c12c4c-640d-423f-a812-ca2ef124e721"
   },
   "outputs": [
    {
     "name": "stdout",
     "output_type": "stream",
     "text": [
      "<class 'int'>\n"
     ]
    }
   ],
   "source": [
    "var2 = # put a very long number, try 99999999999999999999999999999999999999999999999\n",
    "print(type(var2))"
   ]
  },
  {
   "cell_type": "markdown",
   "metadata": {
    "id": "gwJuTS3l9QQJ"
   },
   "source": [
    "## Float or float\n",
    "\n",
    "Float holds floating-point real values. The difference between int and float is that int can only store \"3\" but float can store \"3.3\"."
   ]
  },
  {
   "cell_type": "code",
   "execution_count": null,
   "metadata": {
    "colab": {
     "base_uri": "https://localhost:8080/"
    },
    "executionInfo": {
     "elapsed": 680,
     "status": "ok",
     "timestamp": 1606552041655,
     "user": {
      "displayName": "Yuen Hern Yu",
      "photoUrl": "",
      "userId": "17516954092065775720"
     },
     "user_tz": -480
    },
    "id": "6JWK5Mai9ORa",
    "outputId": "02141bc3-a2a9-40ec-fb37-37c2be5c68a6"
   },
   "outputs": [
    {
     "name": "stdout",
     "output_type": "stream",
     "text": [
      "<class 'float'>\n"
     ]
    }
   ],
   "source": [
    "var3 = # put a number with decimals\n",
    "print(type(var3))"
   ]
  },
  {
   "cell_type": "markdown",
   "metadata": {
    "id": "KompMSZj9sgA"
   },
   "source": [
    "Let's do a quick example to demonstrate the difference between int and float."
   ]
  },
  {
   "cell_type": "code",
   "execution_count": null,
   "metadata": {
    "colab": {
     "base_uri": "https://localhost:8080/"
    },
    "executionInfo": {
     "elapsed": 744,
     "status": "ok",
     "timestamp": 1606552163187,
     "user": {
      "displayName": "Yuen Hern Yu",
      "photoUrl": "",
      "userId": "17516954092065775720"
     },
     "user_tz": -480
    },
    "id": "aoqzDYdB98c7",
    "outputId": "28e5cd17-b76d-4aa4-c321-cf830311fddc"
   },
   "outputs": [
    {
     "name": "stdout",
     "output_type": "stream",
     "text": [
      "<class 'float'>\n"
     ]
    }
   ],
   "source": [
    "# Store a float in var_float\n",
    "var_float = # put a decimal number with several floating points\n",
    "print(type(var_float))"
   ]
  },
  {
   "cell_type": "code",
   "execution_count": null,
   "metadata": {
    "colab": {
     "base_uri": "https://localhost:8080/"
    },
    "executionInfo": {
     "elapsed": 712,
     "status": "ok",
     "timestamp": 1606552208729,
     "user": {
      "displayName": "Yuen Hern Yu",
      "photoUrl": "",
      "userId": "17516954092065775720"
     },
     "user_tz": -480
    },
    "id": "dHmgx0ie9rXH",
    "outputId": "e372a30c-9dc1-4891-ee62-d5ef8152f884"
   },
   "outputs": [
    {
     "name": "stdout",
     "output_type": "stream",
     "text": [
      "3\n",
      "<class 'int'>\n"
     ]
    }
   ],
   "source": [
    "var_int = int(var_float) # Convert into int\n",
    "print(var_int)\n",
    "print(type(var_int))"
   ]
  },
  {
   "cell_type": "markdown",
   "metadata": {
    "id": "CJFYwLly-a4L"
   },
   "source": [
    "## Long\n",
    "\n",
    "Long is deprecated in Python 3.x so let's not waste time on this."
   ]
  },
  {
   "cell_type": "markdown",
   "metadata": {
    "id": "oVDNfqjX-nV0"
   },
   "source": [
    "## Complex\n",
    "\n",
    "This data type holds a complex number. Essentially, a complex number looks like this:\n",
    "\n",
    "$a + bj$\n",
    "\n",
    "where $a$ and $b$ are the real parts of the number, and $j$ is imaginary.\n",
    "\n",
    "\n"
   ]
  },
  {
   "cell_type": "code",
   "execution_count": null,
   "metadata": {
    "colab": {
     "base_uri": "https://localhost:8080/"
    },
    "executionInfo": {
     "elapsed": 720,
     "status": "ok",
     "timestamp": 1606553369607,
     "user": {
      "displayName": "Yuen Hern Yu",
      "photoUrl": "",
      "userId": "17516954092065775720"
     },
     "user_tz": -480
    },
    "id": "RAuGeeb9-UJm",
    "outputId": "8c1e4be5-1025-44c3-8791-a80b2a57a488"
   },
   "outputs": [
    {
     "name": "stdout",
     "output_type": "stream",
     "text": [
      "<class 'complex'>\n"
     ]
    }
   ],
   "source": [
    "var_cplx = # put a complex number\n",
    "print(type(var_cplx))"
   ]
  },
  {
   "cell_type": "markdown",
   "metadata": {
    "id": "XzrHUTZYCw7-"
   },
   "source": [
    "Other than `type()`, you can also check if a Python variable belongs to a particular class using `isinstance(variable,class)`."
   ]
  },
  {
   "cell_type": "code",
   "execution_count": null,
   "metadata": {
    "colab": {
     "base_uri": "https://localhost:8080/"
    },
    "executionInfo": {
     "elapsed": 712,
     "status": "ok",
     "timestamp": 1606553560513,
     "user": {
      "displayName": "Yuen Hern Yu",
      "photoUrl": "",
      "userId": "17516954092065775720"
     },
     "user_tz": -480
    },
    "id": "EbaCyoSdCvjt",
    "outputId": "d56fd00e-9654-4a22-9f40-db88138b60ff"
   },
   "outputs": [
    {
     "name": "stdout",
     "output_type": "stream",
     "text": [
      "True\n"
     ]
    }
   ],
   "source": [
    "print(isinstance(var_cplx,complex))"
   ]
  },
  {
   "cell_type": "markdown",
   "metadata": {
    "id": "I5VLVZyWDgfU"
   },
   "source": [
    "## Strings\n",
    "\n",
    "`String` is a sequence of characters. In Python, there are no `char` data type, which is common in C++ or Java (wanna learn more about Java?).\n",
    "\n",
    "You can delimit a string using single quotes or double quotes, but pick one method and stick to it. (Check Module 2-1 in this course or PEP8 for more information.)"
   ]
  },
  {
   "cell_type": "code",
   "execution_count": null,
   "metadata": {
    "colab": {
     "base_uri": "https://localhost:8080/"
    },
    "executionInfo": {
     "elapsed": 714,
     "status": "ok",
     "timestamp": 1606553716184,
     "user": {
      "displayName": "Yuen Hern Yu",
      "photoUrl": "",
      "userId": "17516954092065775720"
     },
     "user_tz": -480
    },
    "id": "9bl-m99RDeK2",
    "outputId": "f57cda72-c25b-4fc1-a63d-65bdd2d0d823"
   },
   "outputs": [
    {
     "name": "stdout",
     "output_type": "stream",
     "text": [
      "Kuala Lumpur\n"
     ]
    }
   ],
   "source": [
    "my_city = # put any string with double quotes\n",
    "print(my_city)"
   ]
  },
  {
   "cell_type": "code",
   "execution_count": null,
   "metadata": {
    "colab": {
     "base_uri": "https://localhost:8080/"
    },
    "executionInfo": {
     "elapsed": 692,
     "status": "ok",
     "timestamp": 1606553804374,
     "user": {
      "displayName": "Yuen Hern Yu",
      "photoUrl": "",
      "userId": "17516954092065775720"
     },
     "user_tz": -480
    },
    "id": "sd4Tkmn8EELN",
    "outputId": "9d3a0523-cdd8-4fe2-9ff4-91166dcfa9cd"
   },
   "outputs": [
    {
     "name": "stdout",
     "output_type": "stream",
     "text": [
      "Kuala Lumpur\n"
     ]
    }
   ],
   "source": [
    "my_city = # put any string with single quotes\n",
    "print(my_city)"
   ]
  },
  {
   "cell_type": "markdown",
   "metadata": {
    "id": "o4EzNuSQE2PR"
   },
   "source": [
    "**What can you do with a `String`?**"
   ]
  },
  {
   "cell_type": "markdown",
   "metadata": {
    "id": "mNw1UnitEjDi"
   },
   "source": [
    "1. Spanning `string` across lines"
   ]
  },
  {
   "cell_type": "code",
   "execution_count": null,
   "metadata": {
    "colab": {
     "base_uri": "https://localhost:8080/"
    },
    "executionInfo": {
     "elapsed": 1330,
     "status": "ok",
     "timestamp": 1606553980844,
     "user": {
      "displayName": "Yuen Hern Yu",
      "photoUrl": "",
      "userId": "17516954092065775720"
     },
     "user_tz": -480
    },
    "id": "PAgkeprfEZtp",
    "outputId": "d021eaed-fd42-4698-9cad-ae851ea7ef3e"
   },
   "outputs": [
    {
     "name": "stdout",
     "output_type": "stream",
     "text": [
      "I love\n",
      "Skymind\n"
     ]
    }
   ],
   "source": [
    "var_str = \"\"\"I love\n",
    "Skymind\"\"\"\n",
    "print(var_str)"
   ]
  },
  {
   "cell_type": "markdown",
   "metadata": {
    "id": "YwEBVfKZFIlp"
   },
   "source": [
    "Quiz: What does `\\n` and `\\t` means?"
   ]
  },
  {
   "cell_type": "code",
   "execution_count": null,
   "metadata": {
    "colab": {
     "base_uri": "https://localhost:8080/"
    },
    "executionInfo": {
     "elapsed": 703,
     "status": "ok",
     "timestamp": 1606554222388,
     "user": {
      "displayName": "Yuen Hern Yu",
      "photoUrl": "",
      "userId": "17516954092065775720"
     },
     "user_tz": -480
    },
    "id": "1MKmBg5TFEpH",
    "outputId": "e637d465-882c-494b-bad0-f96cc9c173bc"
   },
   "outputs": [
    {
     "name": "stdout",
     "output_type": "stream",
     "text": [
      "This is \n",
      "a newline\n"
     ]
    }
   ],
   "source": [
    "var_str = # write a string with \"\\n\" in the middle of the string\n",
    "print(var_str)"
   ]
  },
  {
   "cell_type": "code",
   "execution_count": null,
   "metadata": {
    "colab": {
     "base_uri": "https://localhost:8080/"
    },
    "executionInfo": {
     "elapsed": 714,
     "status": "ok",
     "timestamp": 1606554226380,
     "user": {
      "displayName": "Yuen Hern Yu",
      "photoUrl": "",
      "userId": "17516954092065775720"
     },
     "user_tz": -480
    },
    "id": "m1tkp7oYFa37",
    "outputId": "64438c12-eb7d-477c-bb83-4d456c16e4bc"
   },
   "outputs": [
    {
     "name": "stdout",
     "output_type": "stream",
     "text": [
      "This is \ta tab\n"
     ]
    }
   ],
   "source": [
    "var_str = # write a string with \"\\t\" in the middle of the string\n",
    "print(var_str)"
   ]
  },
  {
   "cell_type": "markdown",
   "metadata": {
    "id": "ezWUEHhrGHNa"
   },
   "source": [
    "2. Displaying part of a `string`\n"
   ]
  },
  {
   "cell_type": "markdown",
   "metadata": {
    "id": "UCrCZ2vUHgoP"
   },
   "source": [
    "You can display a character from a string using indexing. Note that all indexing in Python starts with 0 (beware, Matlab users!)"
   ]
  },
  {
   "cell_type": "code",
   "execution_count": null,
   "metadata": {
    "colab": {
     "base_uri": "https://localhost:8080/"
    },
    "executionInfo": {
     "elapsed": 666,
     "status": "ok",
     "timestamp": 1606554427499,
     "user": {
      "displayName": "Yuen Hern Yu",
      "photoUrl": "",
      "userId": "17516954092065775720"
     },
     "user_tz": -480
    },
    "id": "09XbMEsfFtof",
    "outputId": "ee00fba2-2f7f-418b-dc16-3bcded8e5db0"
   },
   "outputs": [
    {
     "name": "stdout",
     "output_type": "stream",
     "text": [
      "u\n"
     ]
    }
   ],
   "source": [
    "longest_english_word = \"pneumonoultramicroscopicsilicovolcanoconiosis\"\n",
    "print(longest_english_word[3])"
   ]
  },
  {
   "cell_type": "markdown",
   "metadata": {
    "id": "Y5gd_EGrG2X_"
   },
   "source": [
    "**Fun fact:** \"*pneumonoultramicroscopicsilicovolcanoconiosi*s\" is actually the longest English word in any major English dictionaries."
   ]
  },
  {
   "cell_type": "markdown",
   "metadata": {
    "id": "sUfZ96mWHb-v"
   },
   "source": [
    "You can also display more than one character using slicing."
   ]
  },
  {
   "cell_type": "code",
   "execution_count": null,
   "metadata": {
    "colab": {
     "base_uri": "https://localhost:8080/"
    },
    "executionInfo": {
     "elapsed": 744,
     "status": "ok",
     "timestamp": 1606554668053,
     "user": {
      "displayName": "Yuen Hern Yu",
      "photoUrl": "",
      "userId": "17516954092065775720"
     },
     "user_tz": -480
    },
    "id": "OMRr80CMGnXD",
    "outputId": "b8fd0e1f-0296-4783-eac7-21c44ab03b8b"
   },
   "outputs": [
    {
     "name": "stdout",
     "output_type": "stream",
     "text": [
      "um\n"
     ]
    }
   ],
   "source": [
    "print(longest_english_word[3:5])"
   ]
  },
  {
   "cell_type": "markdown",
   "metadata": {
    "id": "a8BHvfSFHtkX"
   },
   "source": [
    "Quiz: Why only two characters displayed and not three?"
   ]
  },
  {
   "cell_type": "markdown",
   "metadata": {
    "id": "drjh1_-2H3dL"
   },
   "source": [
    "3. Formatting `string`\n",
    "\n",
    "String formatters allow us to print characters and values at once. There are three methods:"
   ]
  },
  {
   "cell_type": "markdown",
   "metadata": {
    "id": "h06sYUOwISQk"
   },
   "source": [
    "3a. Using `%` operator"
   ]
  },
  {
   "cell_type": "code",
   "execution_count": null,
   "metadata": {
    "colab": {
     "base_uri": "https://localhost:8080/"
    },
    "executionInfo": {
     "elapsed": 735,
     "status": "ok",
     "timestamp": 1606555051808,
     "user": {
      "displayName": "Yuen Hern Yu",
      "photoUrl": "",
      "userId": "17516954092065775720"
     },
     "user_tz": -480
    },
    "id": "wCDbVE19Hsjz",
    "outputId": "61c12f2e-27ad-437c-ff18-dd949d134e78"
   },
   "outputs": [
    {
     "name": "stdout",
     "output_type": "stream",
     "text": [
      "I am a graduate of Universiti Tun Hussein Onn Malaysia after completing my 4-year degree.\n"
     ]
    }
   ],
   "source": [
    "degree_year = # put your study duration here\n",
    "university = # put your university name here\n",
    "print(\"I am a graduate of %s after completing my %i-year degree.\" % (university, degree_year))"
   ]
  },
  {
   "cell_type": "markdown",
   "metadata": {
    "id": "NALGZabjJMaR"
   },
   "source": [
    "3b. Or you can use the `.format` method"
   ]
  },
  {
   "cell_type": "code",
   "execution_count": null,
   "metadata": {
    "colab": {
     "base_uri": "https://localhost:8080/"
    },
    "executionInfo": {
     "elapsed": 725,
     "status": "ok",
     "timestamp": 1606555331934,
     "user": {
      "displayName": "Yuen Hern Yu",
      "photoUrl": "",
      "userId": "17516954092065775720"
     },
     "user_tz": -480
    },
    "id": "soGDOvlEKBYt",
    "outputId": "d6ce8a29-08ce-44b1-a394-2f2489a1f002"
   },
   "outputs": [
    {
     "name": "stdout",
     "output_type": "stream",
     "text": [
      "I am working at Skymind Holdings Berhad and I spent 30 minutes travelling to work daily.\n"
     ]
    }
   ],
   "source": [
    "workplace = # put your dream company here\n",
    "travelling_mins = # put your preferred travelling time here\n",
    "print(\"I am working at {0} and I spent {1} minutes travelling to work daily.\".format(workplace, travelling_mins))"
   ]
  },
  {
   "cell_type": "code",
   "execution_count": null,
   "metadata": {
    "colab": {
     "base_uri": "https://localhost:8080/"
    },
    "executionInfo": {
     "elapsed": 780,
     "status": "ok",
     "timestamp": 1606555418097,
     "user": {
      "displayName": "Yuen Hern Yu",
      "photoUrl": "",
      "userId": "17516954092065775720"
     },
     "user_tz": -480
    },
    "id": "Pv2bip9eKOpW",
    "outputId": "e2bbc2d1-7018-431f-f418-23cbc3ce794f"
   },
   "outputs": [
    {
     "name": "stdout",
     "output_type": "stream",
     "text": [
      "I am working at Skymind Holdings Berhad and I spent 30 minutes travelling to work daily.\n"
     ]
    }
   ],
   "source": [
    "print(\"I am working at {a} and I spent {b} minutes travelling to work daily.\".format(a = \"Skymind Holdings Berhad\", b = 30))"
   ]
  },
  {
   "cell_type": "markdown",
   "metadata": {
    "id": "Uiz_PXtAKosl"
   },
   "source": [
    "3c. Or you can use f-strings"
   ]
  },
  {
   "cell_type": "code",
   "execution_count": null,
   "metadata": {
    "colab": {
     "base_uri": "https://localhost:8080/"
    },
    "executionInfo": {
     "elapsed": 724,
     "status": "ok",
     "timestamp": 1606555506108,
     "user": {
      "displayName": "Yuen Hern Yu",
      "photoUrl": "",
      "userId": "17516954092065775720"
     },
     "user_tz": -480
    },
    "id": "opL55TKZKc6Y",
    "outputId": "e6d56ceb-1879-43ed-85a3-a5a7644d215e"
   },
   "outputs": [
    {
     "name": "stdout",
     "output_type": "stream",
     "text": [
      "I am working at Skymind Holdings Berhad and I spent 30 minutes travelling to work daily.\n"
     ]
    }
   ],
   "source": [
    "print(f\"I am working at {workplace} and I spent {travelling_mins} minutes travelling to work daily.\")"
   ]
  },
  {
   "cell_type": "markdown",
   "metadata": {
    "id": "24AB2-s1K8R7"
   },
   "source": [
    "Quiz: Without declaring `workplace` and `travelling_mins` in the previous block, why is there no error?"
   ]
  },
  {
   "cell_type": "markdown",
   "metadata": {
    "id": "w5OWVVP9LJay"
   },
   "source": [
    "4. Concatenating strings"
   ]
  },
  {
   "cell_type": "markdown",
   "metadata": {
    "id": "TGUNPKhFLdAb"
   },
   "source": [
    "Concatenate means joining multiple things together."
   ]
  },
  {
   "cell_type": "code",
   "execution_count": null,
   "metadata": {
    "colab": {
     "base_uri": "https://localhost:8080/"
    },
    "executionInfo": {
     "elapsed": 780,
     "status": "ok",
     "timestamp": 1606555621320,
     "user": {
      "displayName": "Yuen Hern Yu",
      "photoUrl": "",
      "userId": "17516954092065775720"
     },
     "user_tz": -480
    },
    "id": "Oyv7mBEaKyaQ",
    "outputId": "8bb8edc5-1f71-4c9e-a6cc-6410f7fe1849"
   },
   "outputs": [
    {
     "name": "stdout",
     "output_type": "stream",
     "text": [
      "Deeplearning4java\n"
     ]
    }
   ],
   "source": [
    "print(\"Deeplearning\"+\"4java\")"
   ]
  },
  {
   "cell_type": "markdown",
   "metadata": {
    "id": "_-mSAIbELmfI"
   },
   "source": [
    "However, you cannot concatenate values of different types."
   ]
  },
  {
   "cell_type": "code",
   "execution_count": null,
   "metadata": {
    "colab": {
     "base_uri": "https://localhost:8080/",
     "height": 162
    },
    "executionInfo": {
     "elapsed": 681,
     "status": "error",
     "timestamp": 1606555721765,
     "user": {
      "displayName": "Yuen Hern Yu",
      "photoUrl": "",
      "userId": "17516954092065775720"
     },
     "user_tz": -480
    },
    "id": "9ujQFy01LVSK",
    "outputId": "0812c667-25ba-4792-ec60-b1dc56f1cd19"
   },
   "outputs": [
    {
     "ename": "TypeError",
     "evalue": "ignored",
     "output_type": "error",
     "traceback": [
      "\u001b[0;31m---------------------------------------------------------------------------\u001b[0m",
      "\u001b[0;31mTypeError\u001b[0m                                 Traceback (most recent call last)",
      "\u001b[0;32m<ipython-input-68-5467e4f2103c>\u001b[0m in \u001b[0;36m<module>\u001b[0;34m()\u001b[0m\n\u001b[0;32m----> 1\u001b[0;31m \u001b[0mprint\u001b[0m\u001b[0;34m(\u001b[0m\u001b[0;34m\"Deeplearning\"\u001b[0m\u001b[0;34m+\u001b[0m\u001b[0;36m4\u001b[0m\u001b[0;34m+\u001b[0m\u001b[0;34m\"java\"\u001b[0m\u001b[0;34m)\u001b[0m\u001b[0;34m\u001b[0m\u001b[0;34m\u001b[0m\u001b[0m\n\u001b[0m",
      "\u001b[0;31mTypeError\u001b[0m: must be str, not int"
     ]
    }
   ],
   "source": [
    "print(\"Deeplearning\"+4+\"java\")"
   ]
  },
  {
   "cell_type": "markdown",
   "metadata": {
    "id": "HRUu5REnLyIu"
   },
   "source": [
    "*P/s: Want to know more about Deeplearning4java?*"
   ]
  },
  {
   "cell_type": "markdown",
   "metadata": {
    "id": "owAMRKKEMC0W"
   },
   "source": [
    "## Lists\n",
    "\n",
    "A `list` is a collection of values. It can contain similar or different types of values.\n",
    "\n",
    "To define a list, you have to put the values separated with commas `,` in square brackets `[]`. No type declaration needed for lists either."
   ]
  },
  {
   "cell_type": "code",
   "execution_count": null,
   "metadata": {
    "colab": {
     "base_uri": "https://localhost:8080/"
    },
    "executionInfo": {
     "elapsed": 753,
     "status": "ok",
     "timestamp": 1606556505113,
     "user": {
      "displayName": "Yuen Hern Yu",
      "photoUrl": "",
      "userId": "17516954092065775720"
     },
     "user_tz": -480
    },
    "id": "bmGH6JL3Lt1D",
    "outputId": "b0d7b0ff-352e-4371-b169-56eea8dea338"
   },
   "outputs": [
    {
     "name": "stdout",
     "output_type": "stream",
     "text": [
      "['Sunday', 'Monday', 'Tuesday', 3, 4, 5, 6]\n"
     ]
    }
   ],
   "source": [
    "days_in_week = [\"Sunday\", \"Monday\", \"Tuesday\", 3, 4, 5, 6]\n",
    "print(days_in_week)"
   ]
  },
  {
   "cell_type": "markdown",
   "metadata": {
    "id": "vYy92Y6KOCE3"
   },
   "source": [
    "**After defining a list, what can you do with a list?**"
   ]
  },
  {
   "cell_type": "markdown",
   "metadata": {
    "id": "Q1wel58GMGV-"
   },
   "source": [
    "1. You can slice a list using the same method like a `string`. "
   ]
  },
  {
   "cell_type": "code",
   "execution_count": null,
   "metadata": {
    "colab": {
     "base_uri": "https://localhost:8080/"
    },
    "executionInfo": {
     "elapsed": 767,
     "status": "ok",
     "timestamp": 1606556507764,
     "user": {
      "displayName": "Yuen Hern Yu",
      "photoUrl": "",
      "userId": "17516954092065775720"
     },
     "user_tz": -480
    },
    "id": "B4XS_qZWNlH2",
    "outputId": "a7774320-e6d8-4c21-8682-9dc618363e8a"
   },
   "outputs": [
    {
     "name": "stdout",
     "output_type": "stream",
     "text": [
      "['Monday', 'Tuesday']\n"
     ]
    }
   ],
   "source": [
    "print(days_in_week[]) # slice only \"Monday\" and \"Tuesday\""
   ]
  },
  {
   "cell_type": "markdown",
   "metadata": {
    "id": "XbMbPWBsNrra"
   },
   "source": [
    "Quiz: Isn't the output be `['Sunday', 'Monday', 'Tuesday']`?"
   ]
  },
  {
   "cell_type": "markdown",
   "metadata": {
    "id": "elaMzadGNkjf"
   },
   "source": [
    "2. Finding the length of string."
   ]
  },
  {
   "cell_type": "code",
   "execution_count": null,
   "metadata": {
    "colab": {
     "base_uri": "https://localhost:8080/"
    },
    "executionInfo": {
     "elapsed": 984,
     "status": "ok",
     "timestamp": 1606556511124,
     "user": {
      "displayName": "Yuen Hern Yu",
      "photoUrl": "",
      "userId": "17516954092065775720"
     },
     "user_tz": -480
    },
    "id": "-XuoXtsVOJt5",
    "outputId": "5a68853b-4f05-4d4f-b4e6-8e4d492e293f"
   },
   "outputs": [
    {
     "name": "stdout",
     "output_type": "stream",
     "text": [
      "7\n"
     ]
    }
   ],
   "source": [
    "print(len(days_in_week))"
   ]
  },
  {
   "cell_type": "markdown",
   "metadata": {
    "id": "bqQfin-KOxJc"
   },
   "source": [
    "3. Reassigning elements in a list"
   ]
  },
  {
   "cell_type": "code",
   "execution_count": null,
   "metadata": {
    "colab": {
     "base_uri": "https://localhost:8080/"
    },
    "executionInfo": {
     "elapsed": 727,
     "status": "ok",
     "timestamp": 1606556575579,
     "user": {
      "displayName": "Yuen Hern Yu",
      "photoUrl": "",
      "userId": "17516954092065775720"
     },
     "user_tz": -480
    },
    "id": "iX2Dt5x8Op4S",
    "outputId": "68adffec-41d1-480c-b543-b168905b8d01"
   },
   "outputs": [
    {
     "name": "stdout",
     "output_type": "stream",
     "text": [
      "['Sunday', 'Monday', 2, 3, 4, 5, 6]\n"
     ]
    }
   ],
   "source": [
    "days_in_week[2] = 2\n",
    "print(days_in_week)"
   ]
  },
  {
   "cell_type": "markdown",
   "metadata": {
    "id": "ZeSP6qc5PCMs"
   },
   "source": [
    "4. Iterating on the `list`"
   ]
  },
  {
   "cell_type": "markdown",
   "metadata": {
    "id": "5qZ84CDgPLce"
   },
   "source": [
    "We can use the `for` loop to iterate over a list. By doing this, we can access each element one by one and is often helpful when we need to perform some operations on each element in the list."
   ]
  },
  {
   "cell_type": "code",
   "execution_count": null,
   "metadata": {
    "colab": {
     "base_uri": "https://localhost:8080/"
    },
    "executionInfo": {
     "elapsed": 490,
     "status": "ok",
     "timestamp": 1606556743681,
     "user": {
      "displayName": "Yuen Hern Yu",
      "photoUrl": "",
      "userId": "17516954092065775720"
     },
     "user_tz": -480
    },
    "id": "Dsa1N35kO-RM",
    "outputId": "8fea445f-e470-4d54-87de-6b80b927ead3"
   },
   "outputs": [
    {
     "name": "stdout",
     "output_type": "stream",
     "text": [
      "1\n",
      "2\n",
      "3\n",
      "4\n",
      "5\n",
      "6\n",
      "7\n",
      "8\n",
      "9\n",
      "10\n"
     ]
    }
   ],
   "source": [
    "num_in_list = [1, 2, 3, 4, 5, 6, 7, 8, 9, 10]\n",
    "for n in num_in_list:\n",
    "  pass # change this so that n is printed out"
   ]
  },
  {
   "cell_type": "markdown",
   "metadata": {
    "id": "bNz3jEw7Pq7G"
   },
   "source": [
    "5. Creating multi-dimensional lists"
   ]
  },
  {
   "cell_type": "code",
   "execution_count": null,
   "metadata": {
    "colab": {
     "base_uri": "https://localhost:8080/"
    },
    "executionInfo": {
     "elapsed": 711,
     "status": "ok",
     "timestamp": 1606556953159,
     "user": {
      "displayName": "Yuen Hern Yu",
      "photoUrl": "",
      "userId": "17516954092065775720"
     },
     "user_tz": -480
    },
    "id": "FWyl36WgPnO1",
    "outputId": "d2636dae-c87a-44e1-e4d5-5d4476b1e880"
   },
   "outputs": [
    {
     "name": "stdout",
     "output_type": "stream",
     "text": [
      "[[1, 2, 3], [4, 5, 6]]\n"
     ]
    }
   ],
   "source": [
    "multidim_list = [[1, 2, 3], [4, 5, 6]]\n",
    "print(multidim_list)"
   ]
  },
  {
   "cell_type": "markdown",
   "metadata": {
    "id": "sunAZoJ9QbJw"
   },
   "source": [
    "Quiz: How many rows and columns in `multidim_list`?"
   ]
  },
  {
   "cell_type": "markdown",
   "metadata": {
    "id": "6deyRxGuQowM"
   },
   "source": [
    "## Tuples\n",
    "\n",
    "A `tuple` is like a like a list. But you declare it using parentheses `()` instead."
   ]
  },
  {
   "cell_type": "code",
   "execution_count": null,
   "metadata": {
    "colab": {
     "base_uri": "https://localhost:8080/"
    },
    "executionInfo": {
     "elapsed": 702,
     "status": "ok",
     "timestamp": 1606557191462,
     "user": {
      "displayName": "Yuen Hern Yu",
      "photoUrl": "",
      "userId": "17516954092065775720"
     },
     "user_tz": -480
    },
    "id": "0XB50-m_P55t",
    "outputId": "56ae743b-121b-4944-864d-4eceb2afa836"
   },
   "outputs": [
    {
     "name": "stdout",
     "output_type": "stream",
     "text": [
      "('Petaling Jaya', 'USJ', 'Gombak')\n"
     ]
    }
   ],
   "source": [
    "places_in_selangor = (\"Petaling Jaya\", \"USJ\", \"Gombak\")\n",
    "print(places_in_selangor)"
   ]
  },
  {
   "cell_type": "markdown",
   "metadata": {
    "id": "LHEKixkkRdOz"
   },
   "source": [
    "What you can do with `tuple` is similar to `list`, but not the other way round (you will understand this later)."
   ]
  },
  {
   "cell_type": "markdown",
   "metadata": {
    "id": "jGkJWlBPRWqI"
   },
   "source": [
    "1. Similarly to `list`, you can access and slice a `tuple`."
   ]
  },
  {
   "cell_type": "code",
   "execution_count": null,
   "metadata": {
    "colab": {
     "base_uri": "https://localhost:8080/"
    },
    "executionInfo": {
     "elapsed": 871,
     "status": "ok",
     "timestamp": 1606557314911,
     "user": {
      "displayName": "Yuen Hern Yu",
      "photoUrl": "",
      "userId": "17516954092065775720"
     },
     "user_tz": -480
    },
    "id": "cbVmVz4yRUor",
    "outputId": "37b5c9a6-fd0b-459d-daa8-9858d866af5e"
   },
   "outputs": [
    {
     "name": "stdout",
     "output_type": "stream",
     "text": [
      "Gombak\n"
     ]
    }
   ],
   "source": [
    "print(places_in_selangor[2])"
   ]
  },
  {
   "cell_type": "code",
   "execution_count": null,
   "metadata": {
    "colab": {
     "base_uri": "https://localhost:8080/"
    },
    "executionInfo": {
     "elapsed": 742,
     "status": "ok",
     "timestamp": 1606557336799,
     "user": {
      "displayName": "Yuen Hern Yu",
      "photoUrl": "",
      "userId": "17516954092065775720"
     },
     "user_tz": -480
    },
    "id": "OW8Tzsz-Rytz",
    "outputId": "55e66ca4-7abb-4703-bf0e-e916d91785c6"
   },
   "outputs": [
    {
     "name": "stdout",
     "output_type": "stream",
     "text": [
      "('Petaling Jaya', 'USJ')\n"
     ]
    }
   ],
   "source": [
    "print(places_in_selangor[0:2])"
   ]
  },
  {
   "cell_type": "markdown",
   "metadata": {
    "id": "nk75LbWTR6XI"
   },
   "source": [
    "2. What you can do with `list` but not with `tuple` is changing its size or elements. A `tuple` is immutable once declared."
   ]
  },
  {
   "cell_type": "code",
   "execution_count": null,
   "metadata": {
    "colab": {
     "base_uri": "https://localhost:8080/",
     "height": 162
    },
    "executionInfo": {
     "elapsed": 896,
     "status": "error",
     "timestamp": 1606557435273,
     "user": {
      "displayName": "Yuen Hern Yu",
      "photoUrl": "",
      "userId": "17516954092065775720"
     },
     "user_tz": -480
    },
    "id": "1gsSauRNR4G_",
    "outputId": "cc4f6edb-24aa-4707-b819-0373c694d1e0"
   },
   "outputs": [
    {
     "ename": "TypeError",
     "evalue": "ignored",
     "output_type": "error",
     "traceback": [
      "\u001b[0;31m---------------------------------------------------------------------------\u001b[0m",
      "\u001b[0;31mTypeError\u001b[0m                                 Traceback (most recent call last)",
      "\u001b[0;32m<ipython-input-87-57d4b00a27ab>\u001b[0m in \u001b[0;36m<module>\u001b[0;34m()\u001b[0m\n\u001b[0;32m----> 1\u001b[0;31m \u001b[0mplaces_in_selangor\u001b[0m\u001b[0;34m[\u001b[0m\u001b[0;36m1\u001b[0m\u001b[0;34m]\u001b[0m \u001b[0;34m=\u001b[0m \u001b[0;34m\"Bangi\"\u001b[0m\u001b[0;34m\u001b[0m\u001b[0;34m\u001b[0m\u001b[0m\n\u001b[0m",
      "\u001b[0;31mTypeError\u001b[0m: 'tuple' object does not support item assignment"
     ]
    }
   ],
   "source": [
    "places_in_selangor[1] = \"Bangi\" # Changing an element"
   ]
  },
  {
   "cell_type": "code",
   "execution_count": null,
   "metadata": {
    "colab": {
     "base_uri": "https://localhost:8080/",
     "height": 162
    },
    "executionInfo": {
     "elapsed": 706,
     "status": "error",
     "timestamp": 1606557465346,
     "user": {
      "displayName": "Yuen Hern Yu",
      "photoUrl": "",
      "userId": "17516954092065775720"
     },
     "user_tz": -480
    },
    "id": "xU0NKBZRSQHK",
    "outputId": "5ee44645-ea4c-4210-b07b-90c380231878"
   },
   "outputs": [
    {
     "ename": "TypeError",
     "evalue": "ignored",
     "output_type": "error",
     "traceback": [
      "\u001b[0;31m---------------------------------------------------------------------------\u001b[0m",
      "\u001b[0;31mTypeError\u001b[0m                                 Traceback (most recent call last)",
      "\u001b[0;32m<ipython-input-89-ffab143be247>\u001b[0m in \u001b[0;36m<module>\u001b[0;34m()\u001b[0m\n\u001b[0;32m----> 1\u001b[0;31m \u001b[0mplaces_in_selangor\u001b[0m\u001b[0;34m[\u001b[0m\u001b[0;36m3\u001b[0m\u001b[0;34m]\u001b[0m \u001b[0;34m=\u001b[0m \u001b[0;34m\"Bangi\"\u001b[0m\u001b[0;34m\u001b[0m\u001b[0;34m\u001b[0m\u001b[0m\n\u001b[0m",
      "\u001b[0;31mTypeError\u001b[0m: 'tuple' object does not support item assignment"
     ]
    }
   ],
   "source": [
    "places_in_selangor[3] = \"Bangi\" # Adding a new element"
   ]
  },
  {
   "cell_type": "markdown",
   "metadata": {
    "id": "UsXvXfNWSfhu"
   },
   "source": [
    "## Dictionaries\n",
    "\n",
    "A dictionary or `dict` holds key-value pairs. You declare it using curly braces `{}`, with pairs separated by commas `,` while keys and values are separated by a colon `:`."
   ]
  },
  {
   "cell_type": "code",
   "execution_count": null,
   "metadata": {
    "colab": {
     "base_uri": "https://localhost:8080/"
    },
    "executionInfo": {
     "elapsed": 1745,
     "status": "ok",
     "timestamp": 1606557651685,
     "user": {
      "displayName": "Yuen Hern Yu",
      "photoUrl": "",
      "userId": "17516954092065775720"
     },
     "user_tz": -480
    },
    "id": "gJefIPRLSUb9",
    "outputId": "4685c5e8-2115-41ec-812b-f626f260f16a"
   },
   "outputs": [
    {
     "name": "stdout",
     "output_type": "stream",
     "text": [
      "{'city': 'Kuala Lumpur', 'age': 18}\n"
     ]
    }
   ],
   "source": [
    "me = {\"city\":\"Kuala Lumpur\", \"age\":18}\n",
    "print(me)"
   ]
  },
  {
   "cell_type": "markdown",
   "metadata": {
    "id": "vS53fv-CTIa0"
   },
   "source": [
    "**What you can do with dictionaries?**"
   ]
  },
  {
   "cell_type": "markdown",
   "metadata": {
    "id": "3MW8dSkzTHOH"
   },
   "source": [
    "1. You can check its type using the `type()` function."
   ]
  },
  {
   "cell_type": "code",
   "execution_count": null,
   "metadata": {
    "colab": {
     "base_uri": "https://localhost:8080/"
    },
    "executionInfo": {
     "elapsed": 2015,
     "status": "ok",
     "timestamp": 1606557711052,
     "user": {
      "displayName": "Yuen Hern Yu",
      "photoUrl": "",
      "userId": "17516954092065775720"
     },
     "user_tz": -480
    },
    "id": "l9kcPviKTEd7",
    "outputId": "6883de89-88e0-428e-d9ba-633a90e42818"
   },
   "outputs": [
    {
     "name": "stdout",
     "output_type": "stream",
     "text": [
      "<class 'dict'>\n"
     ]
    }
   ],
   "source": [
    "# print out the type of the variable \"me\""
   ]
  },
  {
   "cell_type": "markdown",
   "metadata": {
    "id": "yG3yM0fNTVhb"
   },
   "source": [
    "2. You can access a value by mentioning its key."
   ]
  },
  {
   "cell_type": "code",
   "execution_count": null,
   "metadata": {
    "colab": {
     "base_uri": "https://localhost:8080/"
    },
    "executionInfo": {
     "elapsed": 798,
     "status": "ok",
     "timestamp": 1606557765868,
     "user": {
      "displayName": "Yuen Hern Yu",
      "photoUrl": "",
      "userId": "17516954092065775720"
     },
     "user_tz": -480
    },
    "id": "Ky8tZRW6TTA-",
    "outputId": "e1ee6d25-8397-490e-afed-2324ea7691e2"
   },
   "outputs": [
    {
     "name": "stdout",
     "output_type": "stream",
     "text": [
      "18\n"
     ]
    }
   ],
   "source": [
    "# print out the value of key \"age\""
   ]
  },
  {
   "cell_type": "markdown",
   "metadata": {
    "id": "oqaJX7dgTjxY"
   },
   "source": [
    "3. You can reassign a value to a key."
   ]
  },
  {
   "cell_type": "code",
   "execution_count": null,
   "metadata": {
    "colab": {
     "base_uri": "https://localhost:8080/"
    },
    "executionInfo": {
     "elapsed": 745,
     "status": "ok",
     "timestamp": 1606557832002,
     "user": {
      "displayName": "Yuen Hern Yu",
      "photoUrl": "",
      "userId": "17516954092065775720"
     },
     "user_tz": -480
    },
    "id": "WCX9tABmTg2C",
    "outputId": "a541b09b-b02e-4a8c-f49e-c9a4c75cfa3c"
   },
   "outputs": [
    {
     "name": "stdout",
     "output_type": "stream",
     "text": [
      "Petaling Jaya\n"
     ]
    }
   ],
   "source": [
    "me[\"city\"] = # choose another place\n",
    "print(me[\"city\"])"
   ]
  },
  {
   "cell_type": "markdown",
   "metadata": {
    "id": "afOBBu8MTyyz"
   },
   "source": [
    "4. You can use `keys()` function to get a list of keys in the dictionary"
   ]
  },
  {
   "cell_type": "code",
   "execution_count": null,
   "metadata": {
    "colab": {
     "base_uri": "https://localhost:8080/"
    },
    "executionInfo": {
     "elapsed": 740,
     "status": "ok",
     "timestamp": 1606557904525,
     "user": {
      "displayName": "Yuen Hern Yu",
      "photoUrl": "",
      "userId": "17516954092065775720"
     },
     "user_tz": -480
    },
    "id": "Jt9FoY9zTxAZ",
    "outputId": "a7823ec9-97e7-4ce6-f661-a2525c1825ca"
   },
   "outputs": [
    {
     "name": "stdout",
     "output_type": "stream",
     "text": [
      "dict_keys(['city', 'age'])\n"
     ]
    }
   ],
   "source": [
    "print(me.keys())"
   ]
  },
  {
   "cell_type": "markdown",
   "metadata": {
    "id": "0vV1WYaTUxSm"
   },
   "source": [
    "P/s: Another data type which is almost similar to Dictionaries is Sets or `set`. We are not going into this but you can read on this further in the Internet. Happy exploring!"
   ]
  },
  {
   "cell_type": "markdown",
   "metadata": {
    "id": "eRgymntTUIDT"
   },
   "source": [
    "## Boolean or bool\n",
    "\n",
    "A `bool` value can be True or False."
   ]
  },
  {
   "cell_type": "code",
   "execution_count": null,
   "metadata": {
    "colab": {
     "base_uri": "https://localhost:8080/"
    },
    "executionInfo": {
     "elapsed": 711,
     "status": "ok",
     "timestamp": 1606558058984,
     "user": {
      "displayName": "Yuen Hern Yu",
      "photoUrl": "",
      "userId": "17516954092065775720"
     },
     "user_tz": -480
    },
    "id": "SB5V9op-UCtY",
    "outputId": "3e7d840f-58a1-4f17-cf85-97be2f55bbd8"
   },
   "outputs": [
    {
     "name": "stdout",
     "output_type": "stream",
     "text": [
      "<class 'bool'>\n"
     ]
    }
   ],
   "source": [
    "var_bool = 2 > 1\n",
    "print(type(var_bool))"
   ]
  },
  {
   "cell_type": "markdown",
   "metadata": {
    "id": "hjlOrozHVULX"
   },
   "source": [
    "## Type Conversion\n",
    "\n",
    "Data types in Python are very dynamic. You can convert a variable into another type."
   ]
  },
  {
   "cell_type": "markdown",
   "metadata": {
    "id": "xmspjcIjWeHx"
   },
   "source": [
    "### Conversion involving integers"
   ]
  },
  {
   "cell_type": "markdown",
   "metadata": {
    "id": "0zuenCdeVhbI"
   },
   "source": [
    "1. Converting to integer using `int()`"
   ]
  },
  {
   "cell_type": "code",
   "execution_count": null,
   "metadata": {
    "colab": {
     "base_uri": "https://localhost:8080/"
    },
    "executionInfo": {
     "elapsed": 706,
     "status": "ok",
     "timestamp": 1606558406895,
     "user": {
      "displayName": "Yuen Hern Yu",
      "photoUrl": "",
      "userId": "17516954092065775720"
     },
     "user_tz": -480
    },
    "id": "rO7qIUJrUobJ",
    "outputId": "7d4b7bb4-ea1c-4c15-efd9-35f69b9e63e5"
   },
   "outputs": [
    {
     "name": "stdout",
     "output_type": "stream",
     "text": [
      "9\n"
     ]
    }
   ],
   "source": [
    "print(int(9.81))"
   ]
  },
  {
   "cell_type": "markdown",
   "metadata": {
    "id": "LNYevQUhVsOH"
   },
   "source": [
    "Notice that it truncated .81 instead of rounding the number off to 10.\n",
    "\n",
    "Trivia: Calling all engineers, what does 9.81 mean to you?"
   ]
  },
  {
   "cell_type": "markdown",
   "metadata": {
    "id": "BSp8E8jNWBVF"
   },
   "source": [
    "2. Converting boolean into integer"
   ]
  },
  {
   "cell_type": "code",
   "execution_count": null,
   "metadata": {
    "colab": {
     "base_uri": "https://localhost:8080/"
    },
    "executionInfo": {
     "elapsed": 570,
     "status": "ok",
     "timestamp": 1606558511262,
     "user": {
      "displayName": "Yuen Hern Yu",
      "photoUrl": "",
      "userId": "17516954092065775720"
     },
     "user_tz": -480
    },
    "id": "w3G7-VFrVoKt",
    "outputId": "a4d1e038-eb5a-4ff1-e5b3-d04451c28678"
   },
   "outputs": [
    {
     "name": "stdout",
     "output_type": "stream",
     "text": [
      "1\n"
     ]
    }
   ],
   "source": [
    "print(int(True))"
   ]
  },
  {
   "cell_type": "code",
   "execution_count": null,
   "metadata": {
    "colab": {
     "base_uri": "https://localhost:8080/"
    },
    "executionInfo": {
     "elapsed": 497,
     "status": "ok",
     "timestamp": 1606558517297,
     "user": {
      "displayName": "Yuen Hern Yu",
      "photoUrl": "",
      "userId": "17516954092065775720"
     },
     "user_tz": -480
    },
    "id": "1FXh30JnWW1_",
    "outputId": "9680550e-3228-4e9a-9c0a-acdbbcda2b8e"
   },
   "outputs": [
    {
     "name": "stdout",
     "output_type": "stream",
     "text": [
      "0\n"
     ]
    }
   ],
   "source": [
    "print(int(False))"
   ]
  },
  {
   "cell_type": "markdown",
   "metadata": {
    "id": "t3mQrKQBWvpG"
   },
   "source": [
    "3. However, you cannot convert a string into an integer. An error will show up."
   ]
  },
  {
   "cell_type": "code",
   "execution_count": null,
   "metadata": {
    "colab": {
     "base_uri": "https://localhost:8080/",
     "height": 162
    },
    "executionInfo": {
     "elapsed": 818,
     "status": "error",
     "timestamp": 1606558720149,
     "user": {
      "displayName": "Yuen Hern Yu",
      "photoUrl": "",
      "userId": "17516954092065775720"
     },
     "user_tz": -480
    },
    "id": "kSjxiFsJW1J2",
    "outputId": "1e3fc7a4-22aa-44ea-b335-a6c914042606"
   },
   "outputs": [
    {
     "ename": "ValueError",
     "evalue": "ignored",
     "output_type": "error",
     "traceback": [
      "\u001b[0;31m---------------------------------------------------------------------------\u001b[0m",
      "\u001b[0;31mValueError\u001b[0m                                Traceback (most recent call last)",
      "\u001b[0;32m<ipython-input-103-ebe4e1531c41>\u001b[0m in \u001b[0;36m<module>\u001b[0;34m()\u001b[0m\n\u001b[0;32m----> 1\u001b[0;31m \u001b[0mprint\u001b[0m\u001b[0;34m(\u001b[0m\u001b[0mint\u001b[0m\u001b[0;34m(\u001b[0m\u001b[0;34m\"Pavillion KL\"\u001b[0m\u001b[0;34m)\u001b[0m\u001b[0;34m)\u001b[0m\u001b[0;34m\u001b[0m\u001b[0;34m\u001b[0m\u001b[0m\n\u001b[0m",
      "\u001b[0;31mValueError\u001b[0m: invalid literal for int() with base 10: 'Pavillion KL'"
     ]
    }
   ],
   "source": [
    "print(int(\"Pavillion KL\"))"
   ]
  },
  {
   "cell_type": "markdown",
   "metadata": {
    "id": "gct2_AXDW9Ca"
   },
   "source": [
    "4. But, if the string has only numbers, conversion is still possible."
   ]
  },
  {
   "cell_type": "code",
   "execution_count": null,
   "metadata": {
    "colab": {
     "base_uri": "https://localhost:8080/"
    },
    "executionInfo": {
     "elapsed": 749,
     "status": "ok",
     "timestamp": 1606558698860,
     "user": {
      "displayName": "Yuen Hern Yu",
      "photoUrl": "",
      "userId": "17516954092065775720"
     },
     "user_tz": -480
    },
    "id": "QX345iVoXCGX",
    "outputId": "02fe2251-9b9c-46fa-d3e1-5abe79111541"
   },
   "outputs": [
    {
     "name": "stdout",
     "output_type": "stream",
     "text": [
      "18\n"
     ]
    }
   ],
   "source": [
    "print(int(\"18\"))"
   ]
  },
  {
   "cell_type": "markdown",
   "metadata": {
    "id": "wPiteDmmWZ1t"
   },
   "source": [
    "### Conversion involving floats"
   ]
  },
  {
   "cell_type": "markdown",
   "metadata": {
    "id": "KBbgs8kjXM02"
   },
   "source": [
    "1. You can convert an integer into a float using `float()`."
   ]
  },
  {
   "cell_type": "code",
   "execution_count": null,
   "metadata": {
    "id": "WyFmirA4XWqT"
   },
   "outputs": [],
   "source": [
    "my_age = 18"
   ]
  },
  {
   "cell_type": "code",
   "execution_count": null,
   "metadata": {
    "colab": {
     "base_uri": "https://localhost:8080/"
    },
    "executionInfo": {
     "elapsed": 727,
     "status": "ok",
     "timestamp": 1606558837326,
     "user": {
      "displayName": "Yuen Hern Yu",
      "photoUrl": "",
      "userId": "17516954092065775720"
     },
     "user_tz": -480
    },
    "id": "hLp4LJPIWYRU",
    "outputId": "d32c3290-6a8d-4bf4-8ecf-f3f4b7cca098"
   },
   "outputs": [
    {
     "name": "stdout",
     "output_type": "stream",
     "text": [
      "18.0\n",
      "<class 'float'>\n"
     ]
    }
   ],
   "source": [
    "print(float(my_age))\n",
    "print(type(float(my_age)))"
   ]
  },
  {
   "cell_type": "markdown",
   "metadata": {
    "id": "x0u1BjeTXquG"
   },
   "source": [
    "2. Converting a decimal into float"
   ]
  },
  {
   "cell_type": "code",
   "execution_count": null,
   "metadata": {
    "colab": {
     "base_uri": "https://localhost:8080/"
    },
    "executionInfo": {
     "elapsed": 658,
     "status": "ok",
     "timestamp": 1606558882807,
     "user": {
      "displayName": "Yuen Hern Yu",
      "photoUrl": "",
      "userId": "17516954092065775720"
     },
     "user_tz": -480
    },
    "id": "Aj0DcPijXks0",
    "outputId": "18e94d32-5c1b-4429-8e6d-2f78b4261a17"
   },
   "outputs": [
    {
     "name": "stdout",
     "output_type": "stream",
     "text": [
      "0.7\n",
      "<class 'float'>\n"
     ]
    }
   ],
   "source": [
    "print(float(.7))\n",
    "print(type(float(.7)))"
   ]
  },
  {
   "cell_type": "markdown",
   "metadata": {
    "id": "nKn5B8R6Xz0x"
   },
   "source": [
    "3. Converting a boolean into float"
   ]
  },
  {
   "cell_type": "code",
   "execution_count": null,
   "metadata": {
    "colab": {
     "base_uri": "https://localhost:8080/"
    },
    "executionInfo": {
     "elapsed": 716,
     "status": "ok",
     "timestamp": 1606558923806,
     "user": {
      "displayName": "Yuen Hern Yu",
      "photoUrl": "",
      "userId": "17516954092065775720"
     },
     "user_tz": -480
    },
    "id": "UCWteNk3Xxkg",
    "outputId": "4c5dbb36-9ab3-4660-a8b5-dfe6883fca3f"
   },
   "outputs": [
    {
     "name": "stdout",
     "output_type": "stream",
     "text": [
      "1.0\n",
      "<class 'float'>\n"
     ]
    }
   ],
   "source": [
    "print(float(True))\n",
    "print(type(float(True)))"
   ]
  },
  {
   "cell_type": "markdown",
   "metadata": {
    "id": "OWIFg6RAYENh"
   },
   "source": [
    "### Conversion involving strings"
   ]
  },
  {
   "cell_type": "markdown",
   "metadata": {
    "id": "nL1SAoN3YJXZ"
   },
   "source": [
    "1. Converting a value into string using`str()`."
   ]
  },
  {
   "cell_type": "code",
   "execution_count": null,
   "metadata": {
    "colab": {
     "base_uri": "https://localhost:8080/"
    },
    "executionInfo": {
     "elapsed": 717,
     "status": "ok",
     "timestamp": 1606559013897,
     "user": {
      "displayName": "Yuen Hern Yu",
      "photoUrl": "",
      "userId": "17516954092065775720"
     },
     "user_tz": -480
    },
    "id": "HH-JgM_TX7kQ",
    "outputId": "c395f361-bb8d-4f89-aa35-901a07d70fc4"
   },
   "outputs": [
    {
     "name": "stdout",
     "output_type": "stream",
     "text": [
      "2.1\n",
      "<class 'str'>\n"
     ]
    }
   ],
   "source": [
    "print(str(2.1))\n",
    "print(type(str(2.1)))"
   ]
  },
  {
   "cell_type": "markdown",
   "metadata": {
    "id": "6yVo-2QaYS4w"
   },
   "source": [
    "2. Converting an integer into string"
   ]
  },
  {
   "cell_type": "code",
   "execution_count": null,
   "metadata": {
    "colab": {
     "base_uri": "https://localhost:8080/"
    },
    "executionInfo": {
     "elapsed": 679,
     "status": "ok",
     "timestamp": 1606559041538,
     "user": {
      "displayName": "Yuen Hern Yu",
      "photoUrl": "",
      "userId": "17516954092065775720"
     },
     "user_tz": -480
    },
    "id": "Y7TVAShdYNV4",
    "outputId": "b5bea907-7ff2-4a3f-e65e-68c2f220206d"
   },
   "outputs": [
    {
     "name": "stdout",
     "output_type": "stream",
     "text": [
      "2\n",
      "<class 'str'>\n"
     ]
    }
   ],
   "source": [
    "print(str(2))\n",
    "print(type(str(2)))"
   ]
  },
  {
   "cell_type": "markdown",
   "metadata": {
    "id": "ojzMyrkpYaC6"
   },
   "source": [
    "3. Converting a boolean into string"
   ]
  },
  {
   "cell_type": "code",
   "execution_count": null,
   "metadata": {
    "colab": {
     "base_uri": "https://localhost:8080/"
    },
    "executionInfo": {
     "elapsed": 824,
     "status": "ok",
     "timestamp": 1606559066960,
     "user": {
      "displayName": "Yuen Hern Yu",
      "photoUrl": "",
      "userId": "17516954092065775720"
     },
     "user_tz": -480
    },
    "id": "KYZD9t0zYYUW",
    "outputId": "e45d4b4c-30b1-44e2-b137-3f10336aee71"
   },
   "outputs": [
    {
     "name": "stdout",
     "output_type": "stream",
     "text": [
      "True\n",
      "<class 'str'>\n"
     ]
    }
   ],
   "source": [
    "print(str(True))\n",
    "print(type(str(True)))"
   ]
  },
  {
   "cell_type": "markdown",
   "metadata": {
    "id": "InpznQkgYgiN"
   },
   "source": [
    "4. Converting a list, tuple or dictionary into a string"
   ]
  },
  {
   "cell_type": "code",
   "execution_count": null,
   "metadata": {
    "colab": {
     "base_uri": "https://localhost:8080/"
    },
    "executionInfo": {
     "elapsed": 678,
     "status": "ok",
     "timestamp": 1606559119972,
     "user": {
      "displayName": "Yuen Hern Yu",
      "photoUrl": "",
      "userId": "17516954092065775720"
     },
     "user_tz": -480
    },
    "id": "025z2h9KYefP",
    "outputId": "c311a57c-7d3b-4a4c-874c-05c1d6d9e767"
   },
   "outputs": [
    {
     "name": "stdout",
     "output_type": "stream",
     "text": [
      "[1, 1, 2, 3]\n"
     ]
    }
   ],
   "source": [
    "print(str([1,1,2,3]))"
   ]
  },
  {
   "cell_type": "markdown",
   "metadata": {
    "id": "8R6c1XkVYvU0"
   },
   "source": [
    "Trivia: Guess this number sequence!"
   ]
  },
  {
   "cell_type": "markdown",
   "metadata": {
    "id": "TWdI_3lHZHAG"
   },
   "source": [
    "### Conversion involving booleans"
   ]
  },
  {
   "cell_type": "markdown",
   "metadata": {
    "id": "uy-oPHQOZOdY"
   },
   "source": [
    "1. You can convert a value into boolean by using `bool()`"
   ]
  },
  {
   "cell_type": "code",
   "execution_count": null,
   "metadata": {
    "colab": {
     "base_uri": "https://localhost:8080/"
    },
    "executionInfo": {
     "elapsed": 747,
     "status": "ok",
     "timestamp": 1606559338464,
     "user": {
      "displayName": "Yuen Hern Yu",
      "photoUrl": "",
      "userId": "17516954092065775720"
     },
     "user_tz": -480
    },
    "id": "P6prOHgrYpP_",
    "outputId": "c977620a-f45d-487f-eb1e-0f175b2673e2"
   },
   "outputs": [
    {
     "name": "stdout",
     "output_type": "stream",
     "text": [
      "True\n"
     ]
    }
   ],
   "source": [
    "print(bool(18))"
   ]
  },
  {
   "cell_type": "code",
   "execution_count": null,
   "metadata": {
    "colab": {
     "base_uri": "https://localhost:8080/"
    },
    "executionInfo": {
     "elapsed": 791,
     "status": "ok",
     "timestamp": 1606559351056,
     "user": {
      "displayName": "Yuen Hern Yu",
      "photoUrl": "",
      "userId": "17516954092065775720"
     },
     "user_tz": -480
    },
    "id": "lrIq8-Y7ZfnM",
    "outputId": "b57eca94-bb7e-4d47-cce2-f153a14815ad"
   },
   "outputs": [
    {
     "name": "stdout",
     "output_type": "stream",
     "text": [
      "False\n"
     ]
    }
   ],
   "source": [
    "print(bool(0))"
   ]
  },
  {
   "cell_type": "code",
   "execution_count": null,
   "metadata": {
    "colab": {
     "base_uri": "https://localhost:8080/"
    },
    "executionInfo": {
     "elapsed": 715,
     "status": "ok",
     "timestamp": 1606559363535,
     "user": {
      "displayName": "Yuen Hern Yu",
      "photoUrl": "",
      "userId": "17516954092065775720"
     },
     "user_tz": -480
    },
    "id": "jM7i--4vZj20",
    "outputId": "3b389669-4371-43e8-ef9f-6e222cb9a0ec"
   },
   "outputs": [
    {
     "name": "stdout",
     "output_type": "stream",
     "text": [
      "True\n"
     ]
    }
   ],
   "source": [
    "print(bool(True))"
   ]
  },
  {
   "cell_type": "code",
   "execution_count": null,
   "metadata": {
    "colab": {
     "base_uri": "https://localhost:8080/"
    },
    "executionInfo": {
     "elapsed": 711,
     "status": "ok",
     "timestamp": 1606559381126,
     "user": {
      "displayName": "Yuen Hern Yu",
      "photoUrl": "",
      "userId": "17516954092065775720"
     },
     "user_tz": -480
    },
    "id": "IhdO2QR1Zm02",
    "outputId": "f2257d4b-47f0-4741-888a-aafdd8ea1eb9"
   },
   "outputs": [
    {
     "name": "stdout",
     "output_type": "stream",
     "text": [
      "True\n"
     ]
    }
   ],
   "source": [
    "print(bool(0.1))"
   ]
  },
  {
   "cell_type": "markdown",
   "metadata": {
    "id": "c-WpKePxZur2"
   },
   "source": [
    "2. You can also convert a list into a boolean"
   ]
  },
  {
   "cell_type": "code",
   "execution_count": null,
   "metadata": {
    "colab": {
     "base_uri": "https://localhost:8080/"
    },
    "executionInfo": {
     "elapsed": 725,
     "status": "ok",
     "timestamp": 1606559430816,
     "user": {
      "displayName": "Yuen Hern Yu",
      "photoUrl": "",
      "userId": "17516954092065775720"
     },
     "user_tz": -480
    },
    "id": "Z-qvGzLDZqHC",
    "outputId": "d790a249-c0e0-41cc-be6d-6f4440a96be2"
   },
   "outputs": [
    {
     "name": "stdout",
     "output_type": "stream",
     "text": [
      "True\n"
     ]
    }
   ],
   "source": [
    "print(bool([1,-1]))"
   ]
  },
  {
   "cell_type": "markdown",
   "metadata": {
    "id": "p197O_X5Z7if"
   },
   "source": [
    "3. The function returns false if input is empty"
   ]
  },
  {
   "cell_type": "code",
   "execution_count": null,
   "metadata": {
    "colab": {
     "base_uri": "https://localhost:8080/"
    },
    "executionInfo": {
     "elapsed": 574,
     "status": "ok",
     "timestamp": 1606559465172,
     "user": {
      "displayName": "Yuen Hern Yu",
      "photoUrl": "",
      "userId": "17516954092065775720"
     },
     "user_tz": -480
    },
    "id": "GjknvU4aZyj0",
    "outputId": "b7d22b34-92ff-4e23-b277-036cf3f33d2e"
   },
   "outputs": [
    {
     "name": "stdout",
     "output_type": "stream",
     "text": [
      "False\n"
     ]
    }
   ],
   "source": [
    "print(bool())"
   ]
  },
  {
   "cell_type": "code",
   "execution_count": null,
   "metadata": {
    "colab": {
     "base_uri": "https://localhost:8080/"
    },
    "executionInfo": {
     "elapsed": 666,
     "status": "ok",
     "timestamp": 1606559477448,
     "user": {
      "displayName": "Yuen Hern Yu",
      "photoUrl": "",
      "userId": "17516954092065775720"
     },
     "user_tz": -480
    },
    "id": "YTYcWobLZ_u0",
    "outputId": "75ce5040-d031-4076-abb8-615198e13682"
   },
   "outputs": [
    {
     "name": "stdout",
     "output_type": "stream",
     "text": [
      "False\n"
     ]
    }
   ],
   "source": [
    "print(bool([]))"
   ]
  },
  {
   "cell_type": "code",
   "execution_count": null,
   "metadata": {
    "colab": {
     "base_uri": "https://localhost:8080/"
    },
    "executionInfo": {
     "elapsed": 678,
     "status": "ok",
     "timestamp": 1606559491561,
     "user": {
      "displayName": "Yuen Hern Yu",
      "photoUrl": "",
      "userId": "17516954092065775720"
     },
     "user_tz": -480
    },
    "id": "IuT9US6TaCvn",
    "outputId": "c6818131-57f2-4fd3-dbda-eea0a963834c"
   },
   "outputs": [
    {
     "name": "stdout",
     "output_type": "stream",
     "text": [
      "False\n"
     ]
    }
   ],
   "source": [
    "print(bool({}))"
   ]
  },
  {
   "cell_type": "code",
   "execution_count": null,
   "metadata": {
    "colab": {
     "base_uri": "https://localhost:8080/"
    },
    "executionInfo": {
     "elapsed": 485,
     "status": "ok",
     "timestamp": 1606559504397,
     "user": {
      "displayName": "Yuen Hern Yu",
      "photoUrl": "",
      "userId": "17516954092065775720"
     },
     "user_tz": -480
    },
    "id": "k5_khHu-aGL1",
    "outputId": "7c4d556b-4f8e-48eb-b805-724511dad57b"
   },
   "outputs": [
    {
     "name": "stdout",
     "output_type": "stream",
     "text": [
      "False\n"
     ]
    }
   ],
   "source": [
    "print(bool(None))"
   ]
  },
  {
   "cell_type": "markdown",
   "metadata": {
    "id": "OKq6975haMjU"
   },
   "source": [
    "### Conversion involving lists"
   ]
  },
  {
   "cell_type": "markdown",
   "metadata": {
    "id": "yOf1C4cJaSaj"
   },
   "source": [
    "1. You can convert a `string` into a `list`"
   ]
  },
  {
   "cell_type": "code",
   "execution_count": null,
   "metadata": {
    "colab": {
     "base_uri": "https://localhost:8080/"
    },
    "executionInfo": {
     "elapsed": 712,
     "status": "ok",
     "timestamp": 1606559589000,
     "user": {
      "displayName": "Yuen Hern Yu",
      "photoUrl": "",
      "userId": "17516954092065775720"
     },
     "user_tz": -480
    },
    "id": "U8jGbH2oaJWw",
    "outputId": "a1240fa7-0516-45a8-cf70-2f59e2b4e5f7"
   },
   "outputs": [
    {
     "name": "stdout",
     "output_type": "stream",
     "text": [
      "['1', '2', '3', '4', '5', '6', '7', '8', '9']\n"
     ]
    }
   ],
   "source": [
    "print(list(\"123456789\"))"
   ]
  },
  {
   "cell_type": "markdown",
   "metadata": {
    "id": "Pyn1ZuOrat5X"
   },
   "source": [
    "2. You can also convert a `set` into a `list`"
   ]
  },
  {
   "cell_type": "code",
   "execution_count": null,
   "metadata": {
    "colab": {
     "base_uri": "https://localhost:8080/"
    },
    "executionInfo": {
     "elapsed": 657,
     "status": "ok",
     "timestamp": 1606559619820,
     "user": {
      "displayName": "Yuen Hern Yu",
      "photoUrl": "",
      "userId": "17516954092065775720"
     },
     "user_tz": -480
    },
    "id": "eFg9JLUTad90",
    "outputId": "dd199262-379f-46fa-e177-dfe98d87e215"
   },
   "outputs": [
    {
     "name": "stdout",
     "output_type": "stream",
     "text": [
      "[1, 2, 3, 4, 5, 6, 7, 8, 9]\n"
     ]
    }
   ],
   "source": [
    "print(list({1, 2, 3, 4, 5, 6, 7, 8, 9}))"
   ]
  },
  {
   "cell_type": "markdown",
   "metadata": {
    "id": "EQW7Twvia3wo"
   },
   "source": [
    "3. You can also convert a `dict` into a `list`"
   ]
  },
  {
   "cell_type": "code",
   "execution_count": null,
   "metadata": {
    "colab": {
     "base_uri": "https://localhost:8080/"
    },
    "executionInfo": {
     "elapsed": 732,
     "status": "ok",
     "timestamp": 1606559791783,
     "user": {
      "displayName": "Yuen Hern Yu",
      "photoUrl": "",
      "userId": "17516954092065775720"
     },
     "user_tz": -480
    },
    "id": "BNy18fTfalfu",
    "outputId": "adca57fb-b943-45e9-cad1-b2255ab770f0"
   },
   "outputs": [
    {
     "name": "stdout",
     "output_type": "stream",
     "text": [
      "['age', 'workplace']\n"
     ]
    }
   ],
   "source": [
    "print(list({\"age\":18, \"workplace\":\"Skymind\"}))"
   ]
  },
  {
   "cell_type": "markdown",
   "metadata": {
    "id": "nIWR7zgMbRsn"
   },
   "source": [
    "### Conversion involving tuples"
   ]
  },
  {
   "cell_type": "markdown",
   "metadata": {
    "id": "-u8YqbzcbWHG"
   },
   "source": [
    "1. You can use `tuple()` to convert values into tuple"
   ]
  },
  {
   "cell_type": "code",
   "execution_count": null,
   "metadata": {
    "colab": {
     "base_uri": "https://localhost:8080/"
    },
    "executionInfo": {
     "elapsed": 762,
     "status": "ok",
     "timestamp": 1606559886221,
     "user": {
      "displayName": "Yuen Hern Yu",
      "photoUrl": "",
      "userId": "17516954092065775720"
     },
     "user_tz": -480
    },
    "id": "OwKo4D2SbLIX",
    "outputId": "2c533732-f1b7-4e68-bda5-517130c5e20c"
   },
   "outputs": [
    {
     "name": "stdout",
     "output_type": "stream",
     "text": [
      "(1, 2, 3, 4)\n"
     ]
    }
   ],
   "source": [
    "print(tuple({1, 2, 3, 4}))"
   ]
  },
  {
   "cell_type": "code",
   "execution_count": null,
   "metadata": {
    "colab": {
     "base_uri": "https://localhost:8080/"
    },
    "executionInfo": {
     "elapsed": 885,
     "status": "ok",
     "timestamp": 1606559912228,
     "user": {
      "displayName": "Yuen Hern Yu",
      "photoUrl": "",
      "userId": "17516954092065775720"
     },
     "user_tz": -480
    },
    "id": "skti_yjobjBb",
    "outputId": "3545c60a-1b04-4218-d33c-7769b24a54a7"
   },
   "outputs": [
    {
     "name": "stdout",
     "output_type": "stream",
     "text": [
      "(1, 2)\n"
     ]
    }
   ],
   "source": [
    "print(tuple(list(set([1,2])))) # composite functions"
   ]
  },
  {
   "cell_type": "markdown",
   "metadata": {
    "id": "Dm_vX989b1K2"
   },
   "source": [
    "# The End\n",
    "\n",
    "That is all you need to know about variables and data types (for now)! \n",
    "\n",
    "We did not touch Sets `set`, which is another data type in Python. This should be your homework for the week: **find out what is a set in Python.**\n",
    "\n",
    "References:\n",
    "1. https://www.programiz.com/python-programming/variables-datatypes"
   ]
  }
 ],
 "metadata": {
  "colab": {
   "authorship_tag": "ABX9TyPwyutqOWRUUm/XnBTBIQIP",
   "name": "M2-2: Variables and Data Types.ipynb",
   "provenance": []
  },
  "kernelspec": {
   "display_name": "Python 3",
   "language": "python",
   "name": "python3"
  },
  "language_info": {
   "codemirror_mode": {
    "name": "ipython",
    "version": 3
   },
   "file_extension": ".py",
   "mimetype": "text/x-python",
   "name": "python",
   "nbconvert_exporter": "python",
   "pygments_lexer": "ipython3",
   "version": "3.9.2"
  }
 },
 "nbformat": 4,
 "nbformat_minor": 1
}
