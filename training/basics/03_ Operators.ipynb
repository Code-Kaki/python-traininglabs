{
 "cells": [
  {
   "cell_type": "markdown",
   "metadata": {
    "id": "4Ppz-QdFAe1T"
   },
   "source": [
    "# Hello Pythoneers! \n",
    "\n",
    "You've learnt a lot about variables and data types in the previous lesson, right? \n",
    "\n",
    "Quick recap: What is a variable?\n",
    "\n",
    "And are we limited to **assigning, swapping, deleting and type conversion of variables?** Is that all we could do with variables?\n",
    "\n",
    "**No!** We can do way more than that, and in this module, you will go through some of the **operations** we can do with variables!\n",
    "\n",
    "*Author: Yu Yuen Hern, Skymind Holdings Berhad*"
   ]
  },
  {
   "cell_type": "markdown",
   "metadata": {
    "id": "ZEBJVZEdBkKo"
   },
   "source": [
    "# Arithmetic Operators\n",
    "\n",
    "Arithmetic operators allow users to perform basic mathematical operations on numbers.\n",
    "\n",
    "For sake of simplicity, let's consider that $a = 10$ and $b = 30$ in the examples below."
   ]
  },
  {
   "cell_type": "code",
   "execution_count": null,
   "metadata": {
    "id": "WHCN4p80Cmqd"
   },
   "outputs": [],
   "source": [
    "# Declaring variables a and b\n",
    "a = 10\n",
    "b = 30"
   ]
  },
  {
   "cell_type": "markdown",
   "metadata": {
    "id": "TR8r59fPCgJ7"
   },
   "source": [
    "1. We can do **addition** between variables."
   ]
  },
  {
   "cell_type": "code",
   "execution_count": null,
   "metadata": {
    "colab": {
     "base_uri": "https://localhost:8080/"
    },
    "executionInfo": {
     "elapsed": 935,
     "status": "ok",
     "timestamp": 1606587046434,
     "user": {
      "displayName": "Yuen Hern Yu",
      "photoUrl": "",
      "userId": "17516954092065775720"
     },
     "user_tz": -480
    },
    "id": "KoIWr47i-UQP",
    "outputId": "6656331b-8bf9-4cb1-fc0e-17ec5306e307"
   },
   "outputs": [
    {
     "data": {
      "text/plain": [
       "40"
      ]
     },
     "execution_count": 2,
     "metadata": {
      "tags": []
     },
     "output_type": "execute_result"
    }
   ],
   "source": [
    "# write your code here"
   ]
  },
  {
   "cell_type": "markdown",
   "metadata": {
    "id": "7uysLDPeDQks"
   },
   "source": [
    "2. We can do **subtraction** between variables."
   ]
  },
  {
   "cell_type": "code",
   "execution_count": null,
   "metadata": {
    "colab": {
     "base_uri": "https://localhost:8080/"
    },
    "executionInfo": {
     "elapsed": 1094,
     "status": "ok",
     "timestamp": 1606587079342,
     "user": {
      "displayName": "Yuen Hern Yu",
      "photoUrl": "",
      "userId": "17516954092065775720"
     },
     "user_tz": -480
    },
    "id": "Jl1GsnyzDNZC",
    "outputId": "383e9ca8-0d2d-47a1-c6ae-4fdbd14ea981"
   },
   "outputs": [
    {
     "data": {
      "text/plain": [
       "-20"
      ]
     },
     "execution_count": 3,
     "metadata": {
      "tags": []
     },
     "output_type": "execute_result"
    }
   ],
   "source": [
    "# write your code here"
   ]
  },
  {
   "cell_type": "markdown",
   "metadata": {
    "id": "4Znxj_jFDXu2"
   },
   "source": [
    "3. We can also **multiply** the variables together."
   ]
  },
  {
   "cell_type": "code",
   "execution_count": null,
   "metadata": {
    "colab": {
     "base_uri": "https://localhost:8080/"
    },
    "executionInfo": {
     "elapsed": 608,
     "status": "ok",
     "timestamp": 1606587104797,
     "user": {
      "displayName": "Yuen Hern Yu",
      "photoUrl": "",
      "userId": "17516954092065775720"
     },
     "user_tz": -480
    },
    "id": "_wemfDMcDVRM",
    "outputId": "062c6e32-0a9e-4862-cc28-4bf68082c0a0"
   },
   "outputs": [
    {
     "data": {
      "text/plain": [
       "300"
      ]
     },
     "execution_count": 4,
     "metadata": {
      "tags": []
     },
     "output_type": "execute_result"
    }
   ],
   "source": [
    "# write your code here"
   ]
  },
  {
   "cell_type": "markdown",
   "metadata": {
    "id": "4ziKaAwxDeGs"
   },
   "source": [
    "4. We can perform **division** as well."
   ]
  },
  {
   "cell_type": "code",
   "execution_count": null,
   "metadata": {
    "colab": {
     "base_uri": "https://localhost:8080/"
    },
    "executionInfo": {
     "elapsed": 996,
     "status": "ok",
     "timestamp": 1606587135476,
     "user": {
      "displayName": "Yuen Hern Yu",
      "photoUrl": "",
      "userId": "17516954092065775720"
     },
     "user_tz": -480
    },
    "id": "fcvuVKTJDbuI",
    "outputId": "67ab2628-e7e8-41ba-85c0-88630754b182"
   },
   "outputs": [
    {
     "data": {
      "text/plain": [
       "0.3333333333333333"
      ]
     },
     "execution_count": 5,
     "metadata": {
      "tags": []
     },
     "output_type": "execute_result"
    }
   ],
   "source": [
    "# write your code here"
   ]
  },
  {
   "cell_type": "markdown",
   "metadata": {
    "id": "DLuM71gEDkwD"
   },
   "source": [
    "5. In some operations, division remainder is needed. Enter the **modulus** operator."
   ]
  },
  {
   "cell_type": "code",
   "execution_count": null,
   "metadata": {
    "colab": {
     "base_uri": "https://localhost:8080/"
    },
    "executionInfo": {
     "elapsed": 614,
     "status": "ok",
     "timestamp": 1606587185218,
     "user": {
      "displayName": "Yuen Hern Yu",
      "photoUrl": "",
      "userId": "17516954092065775720"
     },
     "user_tz": -480
    },
    "id": "7UuIgb05DjCd",
    "outputId": "43c7d550-dca4-4ff5-aeb7-d2e0acd49f23"
   },
   "outputs": [
    {
     "data": {
      "text/plain": [
       "10"
      ]
     },
     "execution_count": 6,
     "metadata": {
      "tags": []
     },
     "output_type": "execute_result"
    }
   ],
   "source": [
    "# write your code here"
   ]
  },
  {
   "cell_type": "markdown",
   "metadata": {
    "id": "2Ktlj2cQD7zq"
   },
   "source": [
    "6. Sometimes we also need to scale the variable **exponent**ially."
   ]
  },
  {
   "cell_type": "code",
   "execution_count": null,
   "metadata": {
    "colab": {
     "base_uri": "https://localhost:8080/"
    },
    "executionInfo": {
     "elapsed": 792,
     "status": "ok",
     "timestamp": 1606587258466,
     "user": {
      "displayName": "Yuen Hern Yu",
      "photoUrl": "",
      "userId": "17516954092065775720"
     },
     "user_tz": -480
    },
    "id": "NEihKE8KDvQM",
    "outputId": "f9b333c4-9ac6-4d91-8f35-846e9ee7c4e7"
   },
   "outputs": [
    {
     "data": {
      "text/plain": [
       "1000000000000000000000000000000"
      ]
     },
     "execution_count": 7,
     "metadata": {
      "tags": []
     },
     "output_type": "execute_result"
    }
   ],
   "source": [
    "# write your code here"
   ]
  },
  {
   "cell_type": "markdown",
   "metadata": {
    "id": "m6tjRnPeEDh4"
   },
   "source": [
    "7. In certain circumstances, we need to round down our outcome of division operation. We can combine rounding down and division by using the **floor** division."
   ]
  },
  {
   "cell_type": "code",
   "execution_count": null,
   "metadata": {
    "colab": {
     "base_uri": "https://localhost:8080/"
    },
    "executionInfo": {
     "elapsed": 1305,
     "status": "ok",
     "timestamp": 1606587424710,
     "user": {
      "displayName": "Yuen Hern Yu",
      "photoUrl": "",
      "userId": "17516954092065775720"
     },
     "user_tz": -480
    },
    "id": "3W5WpyOyEBKS",
    "outputId": "f528fa58-370b-4e61-feb9-ac0c084bf48a"
   },
   "outputs": [
    {
     "data": {
      "text/plain": [
       "0"
      ]
     },
     "execution_count": 8,
     "metadata": {
      "tags": []
     },
     "output_type": "execute_result"
    }
   ],
   "source": [
    "# write your code here"
   ]
  },
  {
   "cell_type": "markdown",
   "metadata": {
    "id": "IwmSrYcKEtuj"
   },
   "source": [
    "If one of the operands is negative, the result will be floored towards negative infinity (or away from zero)."
   ]
  },
  {
   "cell_type": "code",
   "execution_count": null,
   "metadata": {
    "colab": {
     "base_uri": "https://localhost:8080/"
    },
    "executionInfo": {
     "elapsed": 968,
     "status": "ok",
     "timestamp": 1606587504290,
     "user": {
      "displayName": "Yuen Hern Yu",
      "photoUrl": "",
      "userId": "17516954092065775720"
     },
     "user_tz": -480
    },
    "id": "cnhXAanIEppn",
    "outputId": "f6ec27ea-d5f0-4748-cbe5-f6e12db83bd7"
   },
   "outputs": [
    {
     "data": {
      "text/plain": [
       "-1"
      ]
     },
     "execution_count": 9,
     "metadata": {
      "tags": []
     },
     "output_type": "execute_result"
    }
   ],
   "source": [
    "-a // b"
   ]
  },
  {
   "cell_type": "markdown",
   "metadata": {
    "id": "6HZS8HSMFEE0"
   },
   "source": [
    "# Comparison Operators\n",
    "\n",
    "These operators allow the users to compare multiple variables and decide the relation among them. Also known as *relational operators*.\n",
    "\n",
    "Using the same variable $a = 10$ and $b = 30$ declared in the previous section, we can compare:"
   ]
  },
  {
   "cell_type": "markdown",
   "metadata": {
    "id": "Ptb3Ux1qFVG-"
   },
   "source": [
    "1. If they are equal to each other."
   ]
  },
  {
   "cell_type": "code",
   "execution_count": null,
   "metadata": {
    "colab": {
     "base_uri": "https://localhost:8080/"
    },
    "executionInfo": {
     "elapsed": 1050,
     "status": "ok",
     "timestamp": 1606587722950,
     "user": {
      "displayName": "Yuen Hern Yu",
      "photoUrl": "",
      "userId": "17516954092065775720"
     },
     "user_tz": -480
    },
    "id": "diGwbFFeE9Bv",
    "outputId": "d1b4888a-1ea2-4461-e6f5-cb17082f3961"
   },
   "outputs": [
    {
     "data": {
      "text/plain": [
       "False"
      ]
     },
     "execution_count": 10,
     "metadata": {
      "tags": []
     },
     "output_type": "execute_result"
    }
   ],
   "source": [
    "# write your code here"
   ]
  },
  {
   "cell_type": "markdown",
   "metadata": {
    "id": "1xLBqfLAF18-"
   },
   "source": [
    "2. If they are not equal to each other."
   ]
  },
  {
   "cell_type": "code",
   "execution_count": null,
   "metadata": {
    "colab": {
     "base_uri": "https://localhost:8080/"
    },
    "executionInfo": {
     "elapsed": 966,
     "status": "ok",
     "timestamp": 1606587753178,
     "user": {
      "displayName": "Yuen Hern Yu",
      "photoUrl": "",
      "userId": "17516954092065775720"
     },
     "user_tz": -480
    },
    "id": "MytQSQBZFydu",
    "outputId": "b65f8af5-93a8-4053-d886-19173b0eab86"
   },
   "outputs": [
    {
     "data": {
      "text/plain": [
       "True"
      ]
     },
     "execution_count": 11,
     "metadata": {
      "tags": []
     },
     "output_type": "execute_result"
    }
   ],
   "source": [
    "# write your code here"
   ]
  },
  {
   "cell_type": "markdown",
   "metadata": {
    "id": "VLnW8BaQF69f"
   },
   "source": [
    "3. If left operand is greater than value of right operand."
   ]
  },
  {
   "cell_type": "code",
   "execution_count": null,
   "metadata": {
    "colab": {
     "base_uri": "https://localhost:8080/"
    },
    "executionInfo": {
     "elapsed": 563,
     "status": "ok",
     "timestamp": 1606587885018,
     "user": {
      "displayName": "Yuen Hern Yu",
      "photoUrl": "",
      "userId": "17516954092065775720"
     },
     "user_tz": -480
    },
    "id": "-ksdh6rMF56P",
    "outputId": "5e89d2ec-1e0a-4e28-8f85-37252f42837b"
   },
   "outputs": [
    {
     "data": {
      "text/plain": [
       "False"
      ]
     },
     "execution_count": 14,
     "metadata": {
      "tags": []
     },
     "output_type": "execute_result"
    }
   ],
   "source": [
    "# write your code here"
   ]
  },
  {
   "cell_type": "markdown",
   "metadata": {
    "id": "ZtX2y0w2Ga94"
   },
   "source": [
    "4. If left operand is less than value of right operand."
   ]
  },
  {
   "cell_type": "code",
   "execution_count": null,
   "metadata": {
    "colab": {
     "base_uri": "https://localhost:8080/"
    },
    "executionInfo": {
     "elapsed": 753,
     "status": "ok",
     "timestamp": 1606587925442,
     "user": {
      "displayName": "Yuen Hern Yu",
      "photoUrl": "",
      "userId": "17516954092065775720"
     },
     "user_tz": -480
    },
    "id": "UEkBdFumGaB_",
    "outputId": "90c53488-3ca2-4810-8552-6ac5c067e0c2"
   },
   "outputs": [
    {
     "data": {
      "text/plain": [
       "True"
      ]
     },
     "execution_count": 15,
     "metadata": {
      "tags": []
     },
     "output_type": "execute_result"
    }
   ],
   "source": [
    "# write your code here"
   ]
  },
  {
   "cell_type": "markdown",
   "metadata": {
    "id": "cGN4h6DlGluQ"
   },
   "source": [
    "5. If left operand is greater than or equal to value of right operand."
   ]
  },
  {
   "cell_type": "code",
   "execution_count": null,
   "metadata": {
    "colab": {
     "base_uri": "https://localhost:8080/"
    },
    "executionInfo": {
     "elapsed": 1093,
     "status": "ok",
     "timestamp": 1606588046439,
     "user": {
      "displayName": "Yuen Hern Yu",
      "photoUrl": "",
      "userId": "17516954092065775720"
     },
     "user_tz": -480
    },
    "id": "cdURTYQwGj5U",
    "outputId": "54dbc532-b265-4b5a-fd32-fd7af7747ae6"
   },
   "outputs": [
    {
     "data": {
      "text/plain": [
       "False"
      ]
     },
     "execution_count": 16,
     "metadata": {
      "tags": []
     },
     "output_type": "execute_result"
    }
   ],
   "source": [
    "# write your code here"
   ]
  },
  {
   "cell_type": "markdown",
   "metadata": {
    "id": "q9_1LePPHDVY"
   },
   "source": [
    "6. If left operand is less than or equal to value of right operand."
   ]
  },
  {
   "cell_type": "code",
   "execution_count": null,
   "metadata": {
    "colab": {
     "base_uri": "https://localhost:8080/"
    },
    "executionInfo": {
     "elapsed": 993,
     "status": "ok",
     "timestamp": 1606588067802,
     "user": {
      "displayName": "Yuen Hern Yu",
      "photoUrl": "",
      "userId": "17516954092065775720"
     },
     "user_tz": -480
    },
    "id": "gUxFfofdHBXU",
    "outputId": "4baacff7-5604-4e83-ef27-1a4d2220da5b"
   },
   "outputs": [
    {
     "data": {
      "text/plain": [
       "True"
      ]
     },
     "execution_count": 17,
     "metadata": {
      "tags": []
     },
     "output_type": "execute_result"
    }
   ],
   "source": [
    "# write your code here"
   ]
  },
  {
   "cell_type": "markdown",
   "metadata": {
    "id": "4IfTDqybHJY1"
   },
   "source": [
    "# Assignment Operators\n",
    "\n",
    "We learnt about assignment of values to variables using `=` in the previous module. Here, we are going to perform more advanced assignment operators which combines arithmetic and assignment operations in shorter line of code."
   ]
  },
  {
   "cell_type": "markdown",
   "metadata": {
    "id": "DO7MtvPtHmtc"
   },
   "source": [
    "Using the same variable $a = 10$ and $b = 30$ declared in the previous section, we can:"
   ]
  },
  {
   "cell_type": "markdown",
   "metadata": {
    "id": "4bi29AAZHxCt"
   },
   "source": [
    "1. Assign values from right side operands to the left side operand"
   ]
  },
  {
   "cell_type": "code",
   "execution_count": null,
   "metadata": {
    "colab": {
     "base_uri": "https://localhost:8080/"
    },
    "executionInfo": {
     "elapsed": 1327,
     "status": "ok",
     "timestamp": 1606588301979,
     "user": {
      "displayName": "Yuen Hern Yu",
      "photoUrl": "",
      "userId": "17516954092065775720"
     },
     "user_tz": -480
    },
    "id": "88CBHD_tHGl6",
    "outputId": "e0ebe828-821b-4f3a-8aac-92af21309192"
   },
   "outputs": [
    {
     "name": "stdout",
     "output_type": "stream",
     "text": [
      "40\n"
     ]
    }
   ],
   "source": [
    "c = a + b\n",
    "print(c)"
   ]
  },
  {
   "cell_type": "markdown",
   "metadata": {
    "id": "znGhSWluIGZs"
   },
   "source": [
    "2. Adds right side operand to the left operand and assign it back to the left operand"
   ]
  },
  {
   "cell_type": "code",
   "execution_count": null,
   "metadata": {
    "colab": {
     "base_uri": "https://localhost:8080/"
    },
    "executionInfo": {
     "elapsed": 982,
     "status": "ok",
     "timestamp": 1606588977679,
     "user": {
      "displayName": "Yuen Hern Yu",
      "photoUrl": "",
      "userId": "17516954092065775720"
     },
     "user_tz": -480
    },
    "id": "vqAJws_gH5zm",
    "outputId": "3c578526-bda6-4e94-83b5-d71354f998a8"
   },
   "outputs": [
    {
     "name": "stdout",
     "output_type": "stream",
     "text": [
      "40\n"
     ]
    }
   ],
   "source": [
    "c = 10\n",
    "# write your code here # c = c + b\n",
    "print(c)"
   ]
  },
  {
   "cell_type": "markdown",
   "metadata": {
    "id": "YmTDe0dhIczP"
   },
   "source": [
    "3. Subtracts right side operand from the left operand and assign it back to the left operand"
   ]
  },
  {
   "cell_type": "code",
   "execution_count": null,
   "metadata": {
    "colab": {
     "base_uri": "https://localhost:8080/"
    },
    "executionInfo": {
     "elapsed": 973,
     "status": "ok",
     "timestamp": 1606588990728,
     "user": {
      "displayName": "Yuen Hern Yu",
      "photoUrl": "",
      "userId": "17516954092065775720"
     },
     "user_tz": -480
    },
    "id": "j1jFONKHIWdB",
    "outputId": "46c289ae-b28c-4264-d452-dd9ad9ec03d9"
   },
   "outputs": [
    {
     "name": "stdout",
     "output_type": "stream",
     "text": [
      "-20\n"
     ]
    }
   ],
   "source": [
    "c = 10\n",
    "# write your code here # c = c - b\n",
    "print(c)"
   ]
  },
  {
   "cell_type": "markdown",
   "metadata": {
    "id": "pxP_D-XLIwtm"
   },
   "source": [
    "4. Multiplies right side operand to the left operand and assign it back to the left operand"
   ]
  },
  {
   "cell_type": "code",
   "execution_count": null,
   "metadata": {
    "colab": {
     "base_uri": "https://localhost:8080/"
    },
    "executionInfo": {
     "elapsed": 1058,
     "status": "ok",
     "timestamp": 1606588997942,
     "user": {
      "displayName": "Yuen Hern Yu",
      "photoUrl": "",
      "userId": "17516954092065775720"
     },
     "user_tz": -480
    },
    "id": "31Y0LuSxIrzQ",
    "outputId": "59103946-693f-46ca-eebb-aa11a8902648"
   },
   "outputs": [
    {
     "name": "stdout",
     "output_type": "stream",
     "text": [
      "300\n"
     ]
    }
   ],
   "source": [
    "c = 10\n",
    "# write your code here # c = c * b\n",
    "print(c)"
   ]
  },
  {
   "cell_type": "markdown",
   "metadata": {
    "id": "-thZZJsUI--5"
   },
   "source": [
    "5. Divide right side operand to the left operand and assign it back to the left operand"
   ]
  },
  {
   "cell_type": "code",
   "execution_count": null,
   "metadata": {
    "colab": {
     "base_uri": "https://localhost:8080/"
    },
    "executionInfo": {
     "elapsed": 955,
     "status": "ok",
     "timestamp": 1606589005374,
     "user": {
      "displayName": "Yuen Hern Yu",
      "photoUrl": "",
      "userId": "17516954092065775720"
     },
     "user_tz": -480
    },
    "id": "QHzFwA-DI7Ti",
    "outputId": "a49a6973-2e2d-4435-ed92-de506b13ba69"
   },
   "outputs": [
    {
     "name": "stdout",
     "output_type": "stream",
     "text": [
      "0.3333333333333333\n"
     ]
    }
   ],
   "source": [
    "c = 10\n",
    "# write your code here # c = c / b\n",
    "print(c)"
   ]
  },
  {
   "cell_type": "markdown",
   "metadata": {
    "id": "xr2JyjekJJJQ"
   },
   "source": [
    "6. Takes remainder of division of left operand by right operand and assign it back to the left operand"
   ]
  },
  {
   "cell_type": "code",
   "execution_count": null,
   "metadata": {
    "colab": {
     "base_uri": "https://localhost:8080/"
    },
    "executionInfo": {
     "elapsed": 1121,
     "status": "ok",
     "timestamp": 1606589012377,
     "user": {
      "displayName": "Yuen Hern Yu",
      "photoUrl": "",
      "userId": "17516954092065775720"
     },
     "user_tz": -480
    },
    "id": "gjyVvm48JHHT",
    "outputId": "24687a1f-3b87-40c4-a45b-5191dd4d9d2b"
   },
   "outputs": [
    {
     "name": "stdout",
     "output_type": "stream",
     "text": [
      "10\n"
     ]
    }
   ],
   "source": [
    "c = 10\n",
    "# write your code here # c = c % b\n",
    "print(c)"
   ]
  },
  {
   "cell_type": "markdown",
   "metadata": {
    "id": "AbX3SIWrKDxj"
   },
   "source": [
    "7. Scale the left operand by a factor of right operand and assign it back to left operand"
   ]
  },
  {
   "cell_type": "code",
   "execution_count": null,
   "metadata": {
    "colab": {
     "base_uri": "https://localhost:8080/"
    },
    "executionInfo": {
     "elapsed": 994,
     "status": "ok",
     "timestamp": 1606589019240,
     "user": {
      "displayName": "Yuen Hern Yu",
      "photoUrl": "",
      "userId": "17516954092065775720"
     },
     "user_tz": -480
    },
    "id": "Q-sRZQ9_J0rT",
    "outputId": "c12e31b1-6c3f-49d5-d97c-8b5d01e9a322"
   },
   "outputs": [
    {
     "name": "stdout",
     "output_type": "stream",
     "text": [
      "1000000000000000000000000000000\n"
     ]
    }
   ],
   "source": [
    "c = 10\n",
    "# write your code here # c = c ** b\n",
    "print(c)"
   ]
  },
  {
   "cell_type": "markdown",
   "metadata": {
    "id": "qj26z2HUKTy5"
   },
   "source": [
    "8. Performs floor division on both operators and assign it back to left operand"
   ]
  },
  {
   "cell_type": "code",
   "execution_count": null,
   "metadata": {
    "colab": {
     "base_uri": "https://localhost:8080/"
    },
    "executionInfo": {
     "elapsed": 1075,
     "status": "ok",
     "timestamp": 1606589025628,
     "user": {
      "displayName": "Yuen Hern Yu",
      "photoUrl": "",
      "userId": "17516954092065775720"
     },
     "user_tz": -480
    },
    "id": "zkjhAv-RKSto",
    "outputId": "ed246617-d73e-4db3-daf6-cc9799e3c228"
   },
   "outputs": [
    {
     "name": "stdout",
     "output_type": "stream",
     "text": [
      "0\n"
     ]
    }
   ],
   "source": [
    "c = 10\n",
    "# write your code here # c = c // b\n",
    "print(c)"
   ]
  },
  {
   "cell_type": "markdown",
   "metadata": {
    "id": "imZcTNvGKyPW"
   },
   "source": [
    "# Bitwise Operators\n",
    "\n",
    "Note: Can skip this if this is too difficult.\n",
    "\n",
    "Bitwise operators work on bits and performs bit-by-bit operations. The values in **decimal form** (base 10) will be converted into **binary form** and operations will be performed on the binary form."
   ]
  },
  {
   "cell_type": "markdown",
   "metadata": {
    "id": "Pcdy4iUOLcew"
   },
   "source": [
    "Using the same variable $a = 10$ and $b = 30$ declared in the previous section, let's explore the following bitwise operations which are supported in Python. However, before we can start our exploration, we must know what is the corresponding binary value for each variable first. We can check it using the function `bin()`."
   ]
  },
  {
   "cell_type": "code",
   "execution_count": null,
   "metadata": {
    "colab": {
     "base_uri": "https://localhost:8080/"
    },
    "executionInfo": {
     "elapsed": 1001,
     "status": "ok",
     "timestamp": 1606589725851,
     "user": {
      "displayName": "Yuen Hern Yu",
      "photoUrl": "",
      "userId": "17516954092065775720"
     },
     "user_tz": -480
    },
    "id": "i6dHAOcEMR2G",
    "outputId": "e932682c-c7ed-4129-e61f-80e2bcc7e6df"
   },
   "outputs": [
    {
     "name": "stdout",
     "output_type": "stream",
     "text": [
      "0b1010\n",
      "0b11110\n"
     ]
    }
   ],
   "source": [
    "print(bin(a))\n",
    "print(bin(b))"
   ]
  },
  {
   "cell_type": "markdown",
   "metadata": {
    "id": "rEWZz7tHNdDU"
   },
   "source": [
    "Here, we have $a = 10$ and $b = 30$ which means after binary conversion, we know that:\n",
    "\n",
    "$a = 10 = 00001010$  and  $b = 30 = 00011110$\n",
    "\n",
    "With the binary form sorted, we can start our exploration!"
   ]
  },
  {
   "cell_type": "markdown",
   "metadata": {
    "id": "9tNMTpEELiHF"
   },
   "source": [
    "1. AND operation\n",
    "\n",
    "Var | Dec | Bin\n",
    "--- | --- | ---\n",
    "$a$ | $10$ | $00001010$\n",
    "$b$ | $30$ | $00011110$\n",
    "AND |      | $00001010$\n",
    "\n",
    "\n",
    "After AND operation, we are left with $00001010$ which equals $10$ in decimal form."
   ]
  },
  {
   "cell_type": "code",
   "execution_count": null,
   "metadata": {
    "colab": {
     "base_uri": "https://localhost:8080/"
    },
    "executionInfo": {
     "elapsed": 1440,
     "status": "ok",
     "timestamp": 1606590183097,
     "user": {
      "displayName": "Yuen Hern Yu",
      "photoUrl": "",
      "userId": "17516954092065775720"
     },
     "user_tz": -480
    },
    "id": "MlJOpySaKb08",
    "outputId": "e306c454-50a0-43a3-8789-b2ec5a8f109c"
   },
   "outputs": [
    {
     "data": {
      "text/plain": [
       "10"
      ]
     },
     "execution_count": 44,
     "metadata": {
      "tags": []
     },
     "output_type": "execute_result"
    }
   ],
   "source": [
    "# write your code here"
   ]
  },
  {
   "cell_type": "markdown",
   "metadata": {
    "id": "rRaLuTmjLxtf"
   },
   "source": [
    "2. OR operation\n",
    "\n",
    "Var | Dec | Bin\n",
    "--- | --- | ---\n",
    "$a$ | $10$ | $00001010$\n",
    "$b$ | $30$ | $00011110$\n",
    "OR  |      | $00011110$\n",
    "\n",
    "\n",
    "After OR operation, we are left with $00011110$ which equals $30$ in decimal form."
   ]
  },
  {
   "cell_type": "code",
   "execution_count": null,
   "metadata": {
    "colab": {
     "base_uri": "https://localhost:8080/"
    },
    "executionInfo": {
     "elapsed": 980,
     "status": "ok",
     "timestamp": 1606590347239,
     "user": {
      "displayName": "Yuen Hern Yu",
      "photoUrl": "",
      "userId": "17516954092065775720"
     },
     "user_tz": -480
    },
    "id": "_xo8P5c6LvV0",
    "outputId": "b5c7b09d-9a41-4818-f2c8-cdf3eaaaba0d"
   },
   "outputs": [
    {
     "data": {
      "text/plain": [
       "30"
      ]
     },
     "execution_count": 45,
     "metadata": {
      "tags": []
     },
     "output_type": "execute_result"
    }
   ],
   "source": [
    "# write your code here"
   ]
  },
  {
   "cell_type": "markdown",
   "metadata": {
    "id": "hK0s3P5hQbWk"
   },
   "source": [
    "Quiz: Do you know how the calculation works?"
   ]
  },
  {
   "cell_type": "markdown",
   "metadata": {
    "id": "tlCyaFGfP0DH"
   },
   "source": [
    "# Operator Precedence"
   ]
  },
  {
   "cell_type": "markdown",
   "metadata": {
    "id": "bdJtNrXCQrvE"
   },
   "source": [
    "The following list details all the operators from highest precedence to the lowest.\n",
    "\n",
    "1.   Exponentiation `**`\n",
    "2.   Complement, unary plus and minus `~ + -`\n",
    "3.   Multiply, divide, modulo and floor division `* / % //`\n",
    "4.   Addition and subtraction `+ -`\n",
    "5.   Right and left bitwise shift `>> <<`\n",
    "6.   Bitwise AND `&`\n",
    "7.   Bitwise XOR and OR `^ |`\n",
    "8.   Comparison operators `<= < > >=`\n",
    "9.   Equality operators `== !=`\n",
    "10.  Assignment operators `= %= /= //= -= += *= **=`\n",
    "11.  Identity operators `is, is not`\n",
    "12.  Membership operators `in, not in`\n",
    "13.  Logical operators `not, nor, and`\n",
    "\n",
    "\n"
   ]
  },
  {
   "cell_type": "markdown",
   "metadata": {
    "id": "6Q9ytf5PSvlL"
   },
   "source": [
    "# The End: Operators\n",
    "\n",
    "In this module, we have learnt a lot about operators in Python, which are the methods and functions which enable multiple actions to be perform onto variables. The operators covered in this module are fairly simple and basic, if you want to know more about identity, membership, logical and advanced bitwise operators, feel free to explore this website: https://www.tutorialspoint.com/python/python_basic_operators.htm"
   ]
  }
 ],
 "metadata": {
  "colab": {
   "authorship_tag": "ABX9TyPh+uUj575u+qgJSw9Aww54",
   "name": "M3-1: Operators.ipynb",
   "provenance": [],
   "toc_visible": true
  },
  "kernelspec": {
   "display_name": "Python 3",
   "language": "python",
   "name": "python3"
  },
  "language_info": {
   "codemirror_mode": {
    "name": "ipython",
    "version": 3
   },
   "file_extension": ".py",
   "mimetype": "text/x-python",
   "name": "python",
   "nbconvert_exporter": "python",
   "pygments_lexer": "ipython3",
   "version": "3.9.2"
  }
 },
 "nbformat": 4,
 "nbformat_minor": 1
}
