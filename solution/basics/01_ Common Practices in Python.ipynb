{
 "cells": [
  {
   "cell_type": "markdown",
   "metadata": {
    "id": "8qePdM6rfy_P"
   },
   "source": [
    "## **Welcome to the Pythoneer club!**\n",
    "\n",
    "No HelloWorld today. Today is all about HelloPython!\n",
    "\n",
    "*Author: Yu Yuen Hern, Skymind Holdings Berhad*"
   ]
  },
  {
   "cell_type": "markdown",
   "metadata": {
    "id": "vMiOZ_k9bH2a"
   },
   "source": [
    "# The Zen of Python - PEP20"
   ]
  },
  {
   "cell_type": "markdown",
   "metadata": {
    "id": "5q_-ztE2bPcs"
   },
   "source": [
    "**The Zen of Python** succinctly details the 19 of the 20 guiding principles of Python's design into aphorisms.\n",
    "\n",
    "*Author: Tim Peters*"
   ]
  },
  {
   "cell_type": "code",
   "execution_count": null,
   "metadata": {
    "colab": {
     "base_uri": "https://localhost:8080/"
    },
    "executionInfo": {
     "elapsed": 1301,
     "status": "ok",
     "timestamp": 1606556067042,
     "user": {
      "displayName": "Yuen Hern Yu",
      "photoUrl": "",
      "userId": "17516954092065775720"
     },
     "user_tz": -480
    },
    "id": "_OGmDUV3azGF",
    "outputId": "5d04e344-9da7-4d00-fc5d-2d20a21fc05e"
   },
   "outputs": [
    {
     "name": "stdout",
     "output_type": "stream",
     "text": [
      "The Zen of Python, by Tim Peters\n",
      "\n",
      "Beautiful is better than ugly.\n",
      "Explicit is better than implicit.\n",
      "Simple is better than complex.\n",
      "Complex is better than complicated.\n",
      "Flat is better than nested.\n",
      "Sparse is better than dense.\n",
      "Readability counts.\n",
      "Special cases aren't special enough to break the rules.\n",
      "Although practicality beats purity.\n",
      "Errors should never pass silently.\n",
      "Unless explicitly silenced.\n",
      "In the face of ambiguity, refuse the temptation to guess.\n",
      "There should be one-- and preferably only one --obvious way to do it.\n",
      "Although that way may not be obvious at first unless you're Dutch.\n",
      "Now is better than never.\n",
      "Although never is often better than *right* now.\n",
      "If the implementation is hard to explain, it's a bad idea.\n",
      "If the implementation is easy to explain, it may be a good idea.\n",
      "Namespaces are one honking great idea -- let's do more of those!\n"
     ]
    }
   ],
   "source": [
    "import this"
   ]
  },
  {
   "cell_type": "markdown",
   "metadata": {
    "id": "M2ld333FeUYA"
   },
   "source": [
    "References and further reading:\n",
    "\n",
    "1.   Python Enhancement Proposal 8 (PEP8): https://www.python.org/dev/peps/pep-0020/ \n",
    "2.   http://pyfound.blogspot.com/2018/07/the-happy-medium-distinguished-service.html\n",
    "\n"
   ]
  },
  {
   "cell_type": "markdown",
   "metadata": {
    "id": "JFcbw8cKeuXI"
   },
   "source": [
    "# Style Guide for Python - PEP8"
   ]
  },
  {
   "cell_type": "markdown",
   "metadata": {
    "id": "Qzu9Y0mwe3kV"
   },
   "source": [
    "Python Enhancement Proposal (PEP) 8 details the common practices and conventions in Python programming.\n",
    "This document gives coding conventions for Python code in regard to the standard library in the main Python distribution.\n",
    "\n",
    "Code which follows the Zen and the PEP guidelines are often known as ***Pythonic*** code."
   ]
  },
  {
   "cell_type": "markdown",
   "metadata": {
    "id": "IdIiznGJgWEd"
   },
   "source": [
    "## Indentation"
   ]
  },
  {
   "cell_type": "markdown",
   "metadata": {
    "id": "Me4d9IEQgaF5"
   },
   "source": [
    "Use 4 spaces per indentation level **(not tab)**. See **\"Tabs and Spaces\"** section in PEP8 for more information. \n",
    "\n",
    "Link: https://www.python.org/dev/peps/pep-0008/"
   ]
  },
  {
   "cell_type": "code",
   "execution_count": null,
   "metadata": {
    "id": "Es8tJeq7f74z"
   },
   "outputs": [],
   "source": [
    "# Correct:\n",
    "\n",
    "# Aligned with opening delimiter.\n",
    "foo = long_function_name(var_one, var_two,\n",
    "                         var_three, var_four)\n",
    "\n",
    "# Add 4 spaces (an extra level of indentation) to distinguish arguments from the rest.\n",
    "def long_function_name(\n",
    "        var_one, var_two, var_three,\n",
    "        var_four):\n",
    "    print(var_one)\n",
    "\n",
    "# Hanging indents should add a level.\n",
    "foo = long_function_name(\n",
    "    var_one, var_two,\n",
    "    var_three, var_four)"
   ]
  },
  {
   "cell_type": "code",
   "execution_count": null,
   "metadata": {
    "id": "uT2uVcaBgTPj"
   },
   "outputs": [],
   "source": [
    "# Wrong:\n",
    "\n",
    "# Arguments on first line forbidden when not using vertical alignment.\n",
    "foo = long_function_name(var_one, var_two,\n",
    "    var_three, var_four)\n",
    "\n",
    "# Further indentation required as indentation is not distinguishable.\n",
    "def long_function_name(\n",
    "    var_one, var_two, var_three,\n",
    "    var_four):\n",
    "    print(var_one)"
   ]
  },
  {
   "cell_type": "markdown",
   "metadata": {
    "id": "dl0zNAgJhfmX"
   },
   "source": [
    "Also, limit number of characters in each code line to only 79 and doctrings/comments to 72, to faciliate side-by-side window code review."
   ]
  },
  {
   "cell_type": "markdown",
   "metadata": {
    "id": "35ty1z-njm7Y"
   },
   "source": [
    "## Importing"
   ]
  },
  {
   "cell_type": "markdown",
   "metadata": {
    "id": "nivPsm5Cj_Iq"
   },
   "source": [
    "Imports should be on separate lines."
   ]
  },
  {
   "cell_type": "code",
   "execution_count": null,
   "metadata": {
    "id": "ElKFwjf8iSsb"
   },
   "outputs": [],
   "source": [
    "# Correct:\n",
    "import os\n",
    "import sys"
   ]
  },
  {
   "cell_type": "code",
   "execution_count": null,
   "metadata": {
    "id": "9ueGQT1Gj9dc"
   },
   "outputs": [],
   "source": [
    "# Wrong:\n",
    "import sys, os"
   ]
  },
  {
   "cell_type": "markdown",
   "metadata": {
    "id": "puJvx39LkBdK"
   },
   "source": [
    "Acceptable:"
   ]
  },
  {
   "cell_type": "code",
   "execution_count": null,
   "metadata": {
    "id": "ys0-RTy2kFee"
   },
   "outputs": [],
   "source": [
    "# Correct:\n",
    "from subprocess import Popen, PIPE"
   ]
  },
  {
   "cell_type": "markdown",
   "metadata": {
    "id": "w7Qm9jJGkLgx"
   },
   "source": [
    "When important several modules, imports should be group in the following order:\n",
    "\n",
    "\n",
    "1.   Standard library imports\n",
    "2.   Related third party imports\n",
    "3.   Local application/library specific imports\n",
    "\n",
    "A blank line is compulsory between each group of imports.\n",
    "\n",
    "Last but not least (on imports, haha), always strive for absolute imports.\n",
    "\n"
   ]
  },
  {
   "cell_type": "code",
   "execution_count": null,
   "metadata": {
    "id": "8yCqyTW8k9P8"
   },
   "outputs": [],
   "source": [
    "import mypkg.sibling\n",
    "from mypkg import sibling\n",
    "from mypkg.sibling import example"
   ]
  },
  {
   "cell_type": "markdown",
   "metadata": {
    "id": "2_ktW_t6k9Bt"
   },
   "source": [
    "## String Quotes"
   ]
  },
  {
   "cell_type": "markdown",
   "metadata": {
    "id": "5PBY6UUjlXjs"
   },
   "source": [
    "In Python, single-quoted strings and double-quoted strings are the same. But do not use it interchangeably in your code. Pick one and stick to it."
   ]
  },
  {
   "cell_type": "code",
   "execution_count": null,
   "metadata": {
    "id": "-f31mtXwlXLc"
   },
   "outputs": [],
   "source": [
    "quote1 = \"The Zen of Python\"\n",
    "quote2 = 'The Zen of Python'\n",
    "\n",
    "print(quote1==quote2)"
   ]
  },
  {
   "cell_type": "markdown",
   "metadata": {
    "id": "m6WRRFELmJi9"
   },
   "source": [
    "## Whitespaces in Expressions and Statements"
   ]
  },
  {
   "cell_type": "markdown",
   "metadata": {
    "id": "c7nPKeSWmRRi"
   },
   "source": [
    "Avoid extraneous and unnecessary whitespaces in the following situations:"
   ]
  },
  {
   "cell_type": "markdown",
   "metadata": {
    "id": "uZZj9DlimXV0"
   },
   "source": [
    "1. Immediately inside parentheses, brackets or braces."
   ]
  },
  {
   "cell_type": "code",
   "execution_count": null,
   "metadata": {
    "id": "OB8TbsvXmAhv"
   },
   "outputs": [],
   "source": [
    "# Correct:\n",
    "spam(ham[1], {eggs: 2})"
   ]
  },
  {
   "cell_type": "code",
   "execution_count": null,
   "metadata": {
    "id": "Noqd2iezmQiI"
   },
   "outputs": [],
   "source": [
    "# Wrong:\n",
    "spam( ham[ 1 ], { eggs: 2 } )"
   ]
  },
  {
   "cell_type": "markdown",
   "metadata": {
    "id": "tUaM-nj5mueq"
   },
   "source": [
    "2. Between a trailing comma and a following close parenthesis."
   ]
  },
  {
   "cell_type": "code",
   "execution_count": null,
   "metadata": {
    "id": "IxTcVZtUm0LW"
   },
   "outputs": [],
   "source": [
    "# Correct:\n",
    "foo = (0,)"
   ]
  },
  {
   "cell_type": "code",
   "execution_count": null,
   "metadata": {
    "id": "2-auf3Yqm15u"
   },
   "outputs": [],
   "source": [
    "# Wrong:\n",
    "bar = (0, )"
   ]
  },
  {
   "cell_type": "markdown",
   "metadata": {
    "id": "_xwh9SjBm31S"
   },
   "source": [
    "3. Immediately before a comma, semicolon or colon."
   ]
  },
  {
   "cell_type": "code",
   "execution_count": null,
   "metadata": {
    "id": "aRfaXEPEm8lQ"
   },
   "outputs": [],
   "source": [
    "# Correct:\n",
    "if x == 4: print x, y; x, y = y, x"
   ]
  },
  {
   "cell_type": "code",
   "execution_count": null,
   "metadata": {
    "id": "VbvJ0XSnm-zq"
   },
   "outputs": [],
   "source": [
    "# Wrong:\n",
    "if x == 4 : print x , y ; x , y = y , x"
   ]
  },
  {
   "cell_type": "markdown",
   "metadata": {
    "id": "YzCQYzAKm_dJ"
   },
   "source": [
    "4. In slicing, the colon acts like a binary operator, and should have equal amounts of space on either side."
   ]
  },
  {
   "cell_type": "code",
   "execution_count": null,
   "metadata": {
    "id": "_HaBAW0_ocoM"
   },
   "outputs": [],
   "source": [
    "# Correct:\n",
    "ham[1:9], ham[1:9:3], ham[:9:3], ham[1::3], ham[1:9:]\n",
    "ham[lower:upper], ham[lower:upper:], ham[lower::step]\n",
    "ham[lower+offset : upper+offset]\n",
    "ham[: upper_fn(x) : step_fn(x)], ham[:: step_fn(x)]\n",
    "ham[lower + offset : upper + offset]"
   ]
  },
  {
   "cell_type": "code",
   "execution_count": null,
   "metadata": {
    "id": "DQf782lWoeNH"
   },
   "outputs": [],
   "source": [
    "# Wrong:\n",
    "ham[lower + offset:upper + offset]\n",
    "ham[1: 9], ham[1 :9], ham[1:9 :3]\n",
    "ham[lower : : upper]\n",
    "ham[ : upper]"
   ]
  },
  {
   "cell_type": "markdown",
   "metadata": {
    "id": "EQRs4ksaogna"
   },
   "source": [
    "5. Immediately before the open parenthesis that starts the argument list of a function call."
   ]
  },
  {
   "cell_type": "code",
   "execution_count": null,
   "metadata": {
    "id": "6-LvwCHwoq1k"
   },
   "outputs": [],
   "source": [
    "# Correct:\n",
    "spam(1)"
   ]
  },
  {
   "cell_type": "code",
   "execution_count": null,
   "metadata": {
    "id": "9errKmqvotBo"
   },
   "outputs": [],
   "source": [
    "# Wrong:\n",
    "spam (1)"
   ]
  },
  {
   "cell_type": "markdown",
   "metadata": {
    "id": "0c0RVmaMowzJ"
   },
   "source": [
    "6. Immediately before the open parenthesis that starts an indexing or slicing."
   ]
  },
  {
   "cell_type": "code",
   "execution_count": null,
   "metadata": {
    "id": "eM_aL1Hao2b7"
   },
   "outputs": [],
   "source": [
    "# Correct:\n",
    "dct['key'] = lst[index]"
   ]
  },
  {
   "cell_type": "code",
   "execution_count": null,
   "metadata": {
    "id": "9BkOmARro4Z6"
   },
   "outputs": [],
   "source": [
    "# Wrong:\n",
    "dct ['key'] = lst [index]"
   ]
  },
  {
   "cell_type": "markdown",
   "metadata": {
    "id": "IUDIEQcpo8YZ"
   },
   "source": [
    "7. More than one space around an operator to align it with another."
   ]
  },
  {
   "cell_type": "code",
   "execution_count": null,
   "metadata": {
    "id": "LADr0vvoo8Kn"
   },
   "outputs": [],
   "source": [
    "# Correct:\n",
    "x = 1\n",
    "y = 2\n",
    "long_variable = 3"
   ]
  },
  {
   "cell_type": "code",
   "execution_count": null,
   "metadata": {
    "id": "-NPBNYGTpFA1"
   },
   "outputs": [],
   "source": [
    "# Wrong:\n",
    "x             = 1\n",
    "y             = 2\n",
    "long_variable = 3"
   ]
  },
  {
   "cell_type": "markdown",
   "metadata": {
    "id": "HErjTRKPpMRP"
   },
   "source": [
    "8. Other recommendations:"
   ]
  },
  {
   "cell_type": "code",
   "execution_count": null,
   "metadata": {
    "id": "8ZM5WBqupOTl"
   },
   "outputs": [],
   "source": [
    "# Correct:\n",
    "i = i + 1\n",
    "submitted += 1\n",
    "x = x*2 - 1\n",
    "hypot2 = x*x + y*y\n",
    "c = (a+b) * (a-b)"
   ]
  },
  {
   "cell_type": "code",
   "execution_count": null,
   "metadata": {
    "id": "U3kO7J3cpRAt"
   },
   "outputs": [],
   "source": [
    "# Wrong:\n",
    "i=i+1\n",
    "submitted +=1\n",
    "x = x * 2 - 1\n",
    "hypot2 = x * x + y * y\n",
    "c = (a + b) * (a - b)"
   ]
  },
  {
   "cell_type": "markdown",
   "metadata": {
    "id": "RHxQcoPepi7C"
   },
   "source": [
    "You can read more about whitespaces convention in the PEP8 website."
   ]
  },
  {
   "cell_type": "markdown",
   "metadata": {
    "id": "e8zRmKjipsVl"
   },
   "source": [
    "## Naming Conventions"
   ]
  },
  {
   "cell_type": "markdown",
   "metadata": {
    "id": "bP3vftrYqZ_T"
   },
   "source": [
    "Some commonly used naming conventions:\n",
    "\n",
    "1.   Package - short_and_all_lowercase_and_underscores_discouraged\n",
    "2.   Modules - short_and_all_lowercase_and_underscores_permitted\n",
    "3.   Class - ShortAndInCapWords\n",
    "4.   Functions - lowercase_and_separated_by_underscores\n",
    "5.   Variables - same_as_functions\n",
    "6.   Constants - ALL_CAPITAL_LETTERS\n",
    "\n",
    "Read more about naming conventions in PEP8 website.\n"
   ]
  },
  {
   "cell_type": "markdown",
   "metadata": {
    "id": "XcaD-W34uyWB"
   },
   "source": [
    "# Comments and Docstrings\n",
    "\n",
    "Comments and docstrings are brief description in the code which tells the reader about the code - function, meaning and intention of the code."
   ]
  },
  {
   "cell_type": "markdown",
   "metadata": {
    "id": "BOKLyvWZu2er"
   },
   "source": [
    "Things to take note when writing comments and docstrings:\n",
    "\n",
    "1.   Always document your code with comments.\n",
    "2.   Comments that contradict the code are worse than no comments. Prioritise keeping the comments up to date when code changes.\n",
    "3.   Comments should be complete sentences, which means it must start with a capital letter!\n",
    "4.   Use two spaces after a sentence-ending period in multi-sentence comments, except the final sentence.\n",
    "5.   Ensure comments are clear and easily understandable to other speakers of the language you are writing in.\n",
    "6.   Always write your comments in English, unless you are **1000%** sure that the code will never be read by people who don't speak your language.\n",
    "\n",
    "\n",
    "Generally, there are two types of comments: block comments and inline comments.\n"
   ]
  },
  {
   "cell_type": "markdown",
   "metadata": {
    "id": "RCcyiJEpsS_B"
   },
   "source": [
    "**Block Comments**"
   ]
  },
  {
   "cell_type": "code",
   "execution_count": null,
   "metadata": {
    "id": "2XWJyaD3sfb4"
   },
   "outputs": [],
   "source": [
    "# This is a block comment.  Leave two spaces after period in a multi-sentence comment\n",
    "#\n",
    "# Block comments are written in each blocks, line by line\n",
    "# Each line starts with a hash character # and a single space\n",
    "#\n",
    "# Paragraphs inside a block comment are separated by a line containing a single #"
   ]
  },
  {
   "cell_type": "markdown",
   "metadata": {
    "id": "TraAZ40ftFk6"
   },
   "source": [
    "**Inline Comments**"
   ]
  },
  {
   "cell_type": "code",
   "execution_count": null,
   "metadata": {
    "id": "s4ZUqQostJsX"
   },
   "outputs": [],
   "source": [
    "# This is an inline comment \n",
    "\n",
    "if (True): # Check if the condition is true\n",
    "  pass # Do nothing"
   ]
  },
  {
   "cell_type": "markdown",
   "metadata": {
    "id": "9-lKWQG_tjsx"
   },
   "source": [
    "Another relative of comment is called a **docstring**. Documentations for all public modules, functions, classes, and methods are written in the triple quotes `\"\"\" ... \"\"\"` and is accessible when a user is called the module. Documentations are written after the `def` line.\n",
    "\n",
    "Check PEP257 for more information about good docstring conventions.\n",
    "\n",
    "Documentation of the code can be accessed using `.__doc__`."
   ]
  },
  {
   "cell_type": "code",
   "execution_count": null,
   "metadata": {
    "id": "SY7OUVgOuAez"
   },
   "outputs": [],
   "source": [
    "\"\"\"If docstring is more than one line,\n",
    "the ending triple quotes should be on a code line by itself.\n",
    "\"\"\"\n",
    "\n",
    "\"\"\"For one liner docstrings, keep the closing triple quotes on the same line.\"\"\""
   ]
  },
  {
   "cell_type": "code",
   "execution_count": null,
   "metadata": {
    "colab": {
     "base_uri": "https://localhost:8080/"
    },
    "executionInfo": {
     "elapsed": 1234,
     "status": "ok",
     "timestamp": 1606565015499,
     "user": {
      "displayName": "Yuen Hern Yu",
      "photoUrl": "",
      "userId": "17516954092065775720"
     },
     "user_tz": -480
    },
    "id": "JSDY8uluu9n5",
    "outputId": "687dab3f-3e35-4a2a-d5ff-5374c3d5d39b"
   },
   "outputs": [
    {
     "name": "stdout",
     "output_type": "stream",
     "text": [
      "\n",
      "NumPy\n",
      "=====\n",
      "\n",
      "Provides\n",
      "  1. An array object of arbitrary homogeneous items\n",
      "  2. Fast mathematical operations over arrays\n",
      "  3. Linear Algebra, Fourier Transforms, Random Number Generation\n",
      "\n",
      "How to use the documentation\n",
      "----------------------------\n",
      "Documentation is available in two forms: docstrings provided\n",
      "with the code, and a loose standing reference guide, available from\n",
      "`the NumPy homepage <https://www.scipy.org>`_.\n",
      "\n",
      "We recommend exploring the docstrings using\n",
      "`IPython <https://ipython.org>`_, an advanced Python shell with\n",
      "TAB-completion and introspection capabilities.  See below for further\n",
      "instructions.\n",
      "\n",
      "The docstring examples assume that `numpy` has been imported as `np`::\n",
      "\n",
      "  >>> import numpy as np\n",
      "\n",
      "Code snippets are indicated by three greater-than signs::\n",
      "\n",
      "  >>> x = 42\n",
      "  >>> x = x + 1\n",
      "\n",
      "Use the built-in ``help`` function to view a function's docstring::\n",
      "\n",
      "  >>> help(np.sort)\n",
      "  ... # doctest: +SKIP\n",
      "\n",
      "For some objects, ``np.info(obj)`` may provide additional help.  This is\n",
      "particularly true if you see the line \"Help on ufunc object:\" at the top\n",
      "of the help() page.  Ufuncs are implemented in C, not Python, for speed.\n",
      "The native Python help() does not know how to view their help, but our\n",
      "np.info() function does.\n",
      "\n",
      "To search for documents containing a keyword, do::\n",
      "\n",
      "  >>> np.lookfor('keyword')\n",
      "  ... # doctest: +SKIP\n",
      "\n",
      "General-purpose documents like a glossary and help on the basic concepts\n",
      "of numpy are available under the ``doc`` sub-module::\n",
      "\n",
      "  >>> from numpy import doc\n",
      "  >>> help(doc)\n",
      "  ... # doctest: +SKIP\n",
      "\n",
      "Available subpackages\n",
      "---------------------\n",
      "doc\n",
      "    Topical documentation on broadcasting, indexing, etc.\n",
      "lib\n",
      "    Basic functions used by several sub-packages.\n",
      "random\n",
      "    Core Random Tools\n",
      "linalg\n",
      "    Core Linear Algebra Tools\n",
      "fft\n",
      "    Core FFT routines\n",
      "polynomial\n",
      "    Polynomial tools\n",
      "testing\n",
      "    NumPy testing tools\n",
      "f2py\n",
      "    Fortran to Python Interface Generator.\n",
      "distutils\n",
      "    Enhancements to distutils with support for\n",
      "    Fortran compilers support and more.\n",
      "\n",
      "Utilities\n",
      "---------\n",
      "test\n",
      "    Run numpy unittests\n",
      "show_config\n",
      "    Show numpy build configuration\n",
      "dual\n",
      "    Overwrite certain functions with high-performance Scipy tools\n",
      "matlib\n",
      "    Make everything matrices.\n",
      "__version__\n",
      "    NumPy version string\n",
      "\n",
      "Viewing documentation using IPython\n",
      "-----------------------------------\n",
      "Start IPython with the NumPy profile (``ipython -p numpy``), which will\n",
      "import `numpy` under the alias `np`.  Then, use the ``cpaste`` command to\n",
      "paste examples into the shell.  To see which functions are available in\n",
      "`numpy`, type ``np.<TAB>`` (where ``<TAB>`` refers to the TAB key), or use\n",
      "``np.*cos*?<ENTER>`` (where ``<ENTER>`` refers to the ENTER key) to narrow\n",
      "down the list.  To view the docstring for a function, use\n",
      "``np.cos?<ENTER>`` (to view the docstring) and ``np.cos??<ENTER>`` (to view\n",
      "the source code).\n",
      "\n",
      "Copies vs. in-place operation\n",
      "-----------------------------\n",
      "Most of the functions in `numpy` return a copy of the array argument\n",
      "(e.g., `np.sort`).  In-place versions of these functions are often\n",
      "available as array methods, i.e. ``x = np.array([1,2,3]); x.sort()``.\n",
      "Exceptions to this rule are documented.\n",
      "\n",
      "\n"
     ]
    }
   ],
   "source": [
    "# Import numpy and print its docstring\n",
    "\n",
    "import numpy as np \n",
    "print(np.__doc__)\n",
    "\n",
    "# You can also hover your mouse on the module or function to show its docstring"
   ]
  },
  {
   "cell_type": "markdown",
   "metadata": {
    "id": "lh8flBO7tUEo"
   },
   "source": [
    "# The End\n",
    "\n",
    "That is all you need to know for now. But feel free to check **python.org** for more about common practices and guidelines for a Pythonic code!\n",
    "\n",
    "*P/s: Guidelines will change from time to time. Good programmers always check for latest guidelines for a Pythonic code!*"
   ]
  }
 ],
 "metadata": {
  "colab": {
   "collapsed_sections": [
    "vMiOZ_k9bH2a"
   ],
   "name": "M2-1: Common Practices in Python.ipynb",
   "provenance": [],
   "toc_visible": true
  },
  "kernelspec": {
   "display_name": "Python 3",
   "language": "python",
   "name": "python3"
  },
  "language_info": {
   "codemirror_mode": {
    "name": "ipython",
    "version": 3
   },
   "file_extension": ".py",
   "mimetype": "text/x-python",
   "name": "python",
   "nbconvert_exporter": "python",
   "pygments_lexer": "ipython3",
   "version": "3.9.2"
  }
 },
 "nbformat": 4,
 "nbformat_minor": 1
}
