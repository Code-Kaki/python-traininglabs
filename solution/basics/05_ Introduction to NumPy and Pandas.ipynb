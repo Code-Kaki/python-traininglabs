{
 "cells": [
  {
   "cell_type": "markdown",
   "metadata": {
    "id": "4peFjB1XDMOy"
   },
   "source": [
    "# Welcome Pythoneers!\n",
    "\n",
    "In this lesson, we will cover\n",
    "\n",
    "*   Recap of Python containers (Lists, Dictionaries)\n",
    "*   Introduction to Numpy array for scientific computing (Arrays, indexing, array arithmetics)\n",
    "*   Introduction to dataframe and data manipulation with Pandas\n",
    "\n",
    "Author: Mohammad Zul Fitri, Skymind Holdings Berhad"
   ]
  },
  {
   "cell_type": "markdown",
   "metadata": {
    "id": "pr2MtDmiERaI"
   },
   "source": [
    "## A Brief Overview on Python Containers"
   ]
  },
  {
   "cell_type": "markdown",
   "metadata": {
    "id": "sZCTeX1WEfIx"
   },
   "source": [
    "### Lists"
   ]
  },
  {
   "cell_type": "markdown",
   "metadata": {
    "id": "Wfx5vWaSE67P"
   },
   "source": [
    "This is the first built-in container type that we looked at in this course. A list is similar to an array, but its size is not fixed and it can also contain different datatypes."
   ]
  },
  {
   "cell_type": "code",
   "execution_count": null,
   "metadata": {
    "colab": {
     "base_uri": "https://localhost:8080/"
    },
    "id": "3_A5420dEyNQ",
    "outputId": "60e9a38e-3f8a-40d2-f3c7-3ad530caef6e"
   },
   "outputs": [
    {
     "name": "stdout",
     "output_type": "stream",
     "text": [
      "[1, 4, 3, 5, 2] 5\n"
     ]
    }
   ],
   "source": [
    "x = [1, 4, 3, 5, 2] # Create a list of 5 elements and assign it to x\n",
    "print(x, x[3])  # Lists indexing starts with 0, to access elements it's just x[n-1] where n is the n-th element that you want"
   ]
  },
  {
   "cell_type": "markdown",
   "metadata": {
    "id": "uW8pcJpNKOoI"
   },
   "source": [
    "You can also print a list element using negative indices. This will count from the end."
   ]
  },
  {
   "cell_type": "code",
   "execution_count": null,
   "metadata": {
    "colab": {
     "base_uri": "https://localhost:8080/"
    },
    "id": "-XGP8gHRKMVM",
    "outputId": "6d2a78e4-5805-4647-e17a-b2e6be7039d7"
   },
   "outputs": [
    {
     "name": "stdout",
     "output_type": "stream",
     "text": [
      "3 2\n"
     ]
    }
   ],
   "source": [
    "print(x[-3], x[-1])"
   ]
  },
  {
   "cell_type": "markdown",
   "metadata": {
    "id": "hmdjxAeNK5i-"
   },
   "source": [
    "As mentioned before, a list can contain elements of different data types"
   ]
  },
  {
   "cell_type": "code",
   "execution_count": null,
   "metadata": {
    "colab": {
     "base_uri": "https://localhost:8080/"
    },
    "id": "GgWARmOULCE4",
    "outputId": "7b640d63-c516-4bf6-d4a7-5e35be84cb8b"
   },
   "outputs": [
    {
     "name": "stdout",
     "output_type": "stream",
     "text": [
      "[1, 4, 3, 5, 'hello']\n"
     ]
    }
   ],
   "source": [
    "x[4] = 'hello'\n",
    "print(x)"
   ]
  },
  {
   "cell_type": "markdown",
   "metadata": {
    "id": "B1sDRegqLSBb"
   },
   "source": [
    "Other things we can do with lists:"
   ]
  },
  {
   "cell_type": "code",
   "execution_count": null,
   "metadata": {
    "colab": {
     "base_uri": "https://localhost:8080/"
    },
    "id": "oR0RGH4kL7mr",
    "outputId": "2768efa0-6bfc-4488-865f-936e5f3527a5"
   },
   "outputs": [
    {
     "name": "stdout",
     "output_type": "stream",
     "text": [
      "[1, 4, 3, 5, 'hello', 'world']\n"
     ]
    }
   ],
   "source": [
    "x.append('world') # .append will add a new element to the end of your list\n",
    "print(x)"
   ]
  },
  {
   "cell_type": "code",
   "execution_count": null,
   "metadata": {
    "colab": {
     "base_uri": "https://localhost:8080/"
    },
    "id": "nOJsn5__MPx4",
    "outputId": "ad1162a2-f7b1-4ec9-c359-deee859880b2"
   },
   "outputs": [
    {
     "name": "stdout",
     "output_type": "stream",
     "text": [
      "world [1, 4, 3, 5, 'hello']\n"
     ]
    }
   ],
   "source": [
    "xpop = x.pop() # .pop will remove the last element of your list and will return it as well\n",
    "print(xpop,x)"
   ]
  },
  {
   "cell_type": "markdown",
   "metadata": {
    "id": "jKeecydpOMNN"
   },
   "source": [
    "We can access a sublist of elements instead of just accessing a single element; this is done by slicing the list"
   ]
  },
  {
   "cell_type": "code",
   "execution_count": null,
   "metadata": {
    "colab": {
     "base_uri": "https://localhost:8080/"
    },
    "id": "_6GIyrEiOKyj",
    "outputId": "4707f6f4-675b-4d29-bc06-7ec00f63a2fd"
   },
   "outputs": [
    {
     "name": "stdout",
     "output_type": "stream",
     "text": [
      "[0, 1, 2, 3, 4, 5, 6, 7, 8, 9]\n",
      "[1, 2]\n",
      "[0, 1, 2, 3, 4]\n",
      "[5, 6, 7, 8, 9]\n",
      "[0, 1, 2, 3, 4, 5, 6, 7, 8, 9]\n"
     ]
    }
   ],
   "source": [
    "myNumbers = list(range(10))\n",
    "print(myNumbers)          \n",
    "print(myNumbers[1:3])     # Slice list from index 1 to 3, excluding element at index 3\n",
    "print(myNumbers[:5])      # Slice list from the start to index 5, excluding element at index 3\n",
    "print(myNumbers[5:])      # Slice list from index 5 to the end\n",
    "print(myNumbers[:])       # Slice the whole list"
   ]
  },
  {
   "cell_type": "markdown",
   "metadata": {
    "id": "xEg0oaa2FY6m"
   },
   "source": [
    "We can also loop through list elements as follows:"
   ]
  },
  {
   "cell_type": "code",
   "execution_count": null,
   "metadata": {
    "colab": {
     "base_uri": "https://localhost:8080/"
    },
    "id": "k_TQYW0YFjMF",
    "outputId": "b18cf3f8-f622-464c-d480-b9c6db5e1637"
   },
   "outputs": [
    {
     "name": "stdout",
     "output_type": "stream",
     "text": [
      "apple\n",
      "banana\n",
      "durian\n",
      "grape\n",
      "mango\n"
     ]
    }
   ],
   "source": [
    "fruits = ['apple', 'banana', 'durian', 'grape', 'mango']\n",
    "for fruit in fruits:\n",
    "    print(fruit)"
   ]
  },
  {
   "cell_type": "code",
   "execution_count": null,
   "metadata": {
    "colab": {
     "base_uri": "https://localhost:8080/"
    },
    "id": "84TCSE4wF-SQ",
    "outputId": "db12722f-9a35-4ec8-f2b9-e57ff8ca3302"
   },
   "outputs": [
    {
     "name": "stdout",
     "output_type": "stream",
     "text": [
      "1: apple\n",
      "2: banana\n",
      "3: durian\n",
      "4: grape\n",
      "5: mango\n"
     ]
    }
   ],
   "source": [
    "for idx, fruit in enumerate(fruits):\n",
    "    print('{}: {}'.format(idx+1, fruit))"
   ]
  },
  {
   "cell_type": "markdown",
   "metadata": {
    "id": "WwNv7Q1-G0P7"
   },
   "source": [
    "Suppose we want to transform the values of a list, and assign it into a new list. For example, getting the square values of the elements. This can be done as follows:"
   ]
  },
  {
   "cell_type": "code",
   "execution_count": null,
   "metadata": {
    "colab": {
     "base_uri": "https://localhost:8080/"
    },
    "id": "zJhcuSe3GnbP",
    "outputId": "74b79084-957c-4db4-eec4-740b98234aff"
   },
   "outputs": [
    {
     "name": "stdout",
     "output_type": "stream",
     "text": [
      "[0, 1, 2, 3]\n",
      "[0, 1, 4, 9]\n"
     ]
    }
   ],
   "source": [
    "num = list(range(4))\n",
    "print(num)\n",
    "squared = []\n",
    "for n in num:\n",
    "    squared.append(n**2)  # Add the squared value into empty list\n",
    "print(squared)"
   ]
  },
  {
   "cell_type": "markdown",
   "metadata": {
    "id": "deKlWUU5H8Sz"
   },
   "source": [
    "Alternatively, we can simplify this process by:"
   ]
  },
  {
   "cell_type": "code",
   "execution_count": null,
   "metadata": {
    "colab": {
     "base_uri": "https://localhost:8080/"
    },
    "id": "20oznnO3IFgh",
    "outputId": "666d88e3-0342-4257-ccf1-62bc710edec3"
   },
   "outputs": [
    {
     "name": "stdout",
     "output_type": "stream",
     "text": [
      "[0, 1, 2, 3]\n",
      "[0, 1, 4, 9]\n"
     ]
    }
   ],
   "source": [
    "num = list(range(4))\n",
    "squared = [n**2 for n in num]\n",
    "print(num)\n",
    "print(squared)"
   ]
  },
  {
   "cell_type": "markdown",
   "metadata": {
    "id": "TmmZEtpCIWFl"
   },
   "source": [
    "This is called list comprehensions. We can extend this by adding conditions. Suppose now we only want a list of squared values of the odd elements:"
   ]
  },
  {
   "cell_type": "code",
   "execution_count": null,
   "metadata": {
    "colab": {
     "base_uri": "https://localhost:8080/"
    },
    "id": "Nmnr5dcYIVNk",
    "outputId": "1da7965c-dcdc-4152-be62-e469102e4713"
   },
   "outputs": [
    {
     "name": "stdout",
     "output_type": "stream",
     "text": [
      "[0, 1, 2, 3, 4, 5, 6, 7, 8]\n",
      "[1, 9, 25, 49]\n"
     ]
    }
   ],
   "source": [
    "num = list(range(9))\n",
    "odd_squared = [n**2 for n in num if n%2!=0]\n",
    "print(num)\n",
    "print(odd_squared)"
   ]
  },
  {
   "cell_type": "markdown",
   "metadata": {
    "id": "z_nL-1LCJSbx"
   },
   "source": [
    "###Dictionaries"
   ]
  },
  {
   "cell_type": "markdown",
   "metadata": {
    "id": "LSkIOv0_JY1M"
   },
   "source": [
    "This is another data structure we have in Python which basically is a key-value pair where each pair will map the key to the respective value."
   ]
  },
  {
   "cell_type": "code",
   "execution_count": null,
   "metadata": {
    "colab": {
     "base_uri": "https://localhost:8080/"
    },
    "id": "CR_EON0lL82y",
    "outputId": "acf53158-52aa-446c-8517-c405f6a784c3"
   },
   "outputs": [
    {
     "name": "stdout",
     "output_type": "stream",
     "text": [
      "banana\n",
      "durian\n",
      "False\n"
     ]
    }
   ],
   "source": [
    "dict = {'red':'apple','yellow':'banana','green':'durian'} # Curly brackets used to create dictionary\n",
    "print(dict['yellow'])\n",
    "print(dict['green'])\n",
    "print('blue' in dict)"
   ]
  },
  {
   "cell_type": "code",
   "execution_count": null,
   "metadata": {
    "colab": {
     "base_uri": "https://localhost:8080/"
    },
    "id": "aSiHGexXMkHB",
    "outputId": "35189bde-2a75-45da-c7c6-e426e7d7f00e"
   },
   "outputs": [
    {
     "name": "stdout",
     "output_type": "stream",
     "text": [
      "grape\n",
      "N/A\n"
     ]
    }
   ],
   "source": [
    "dict['purple'] = 'grape'\n",
    "print(dict.get('purple', 'N/A'))\n",
    "print(dict.get('blue', 'N/A'))"
   ]
  },
  {
   "cell_type": "code",
   "execution_count": null,
   "metadata": {
    "colab": {
     "base_uri": "https://localhost:8080/"
    },
    "id": "LZoQuxd6ONDW",
    "outputId": "63fc6c9b-f4e6-4d97-90ed-23e5cd628f70"
   },
   "outputs": [
    {
     "name": "stdout",
     "output_type": "stream",
     "text": [
      "apple is red\n",
      "banana is yellow\n",
      "durian is green\n",
      "grape is purple\n"
     ]
    }
   ],
   "source": [
    "for colour, fruit in dict.items():\n",
    "    print('{} is {}'.format(fruit, colour))"
   ]
  },
  {
   "cell_type": "markdown",
   "metadata": {
    "id": "SZ-Sm7l8PbEu"
   },
   "source": [
    "Finally, similar to lists, we also have a dictionary comprehension."
   ]
  },
  {
   "cell_type": "code",
   "execution_count": null,
   "metadata": {
    "colab": {
     "base_uri": "https://localhost:8080/"
    },
    "id": "ecjx-qFcPi1A",
    "outputId": "8bad5706-8687-4911-e668-404e24d91584"
   },
   "outputs": [
    {
     "name": "stdout",
     "output_type": "stream",
     "text": [
      "{1: 1, 3: 9, 5: 25, 7: 49}\n"
     ]
    }
   ],
   "source": [
    "num = list(range(9))\n",
    "odd_squared = {n: n**2 for n in num if n%2!=0}\n",
    "print(odd_squared)"
   ]
  },
  {
   "cell_type": "markdown",
   "metadata": {
    "id": "nbMIEO_oQI2Q"
   },
   "source": [
    "## NumPy"
   ]
  },
  {
   "cell_type": "markdown",
   "metadata": {
    "id": "ByDJEfMOQNuG"
   },
   "source": [
    "While lists provide the flexibility for heterogenity, most of the times it is more useful to have a *container* that holds a fixed data type. While the built in *array* in Python can be used to store array-based data efficiently, we will explore NumPy which will extend efficiency in terms of the operations we can do with those data."
   ]
  },
  {
   "cell_type": "markdown",
   "metadata": {
    "id": "h_yig6utSL0F"
   },
   "source": [
    "NumPy is an important library used for scientific computing in Python. The array object in NumPy is called ndarray which stands for n-dimensional array, and it also has tools to manipulate the items in the array. We can start using NumPy by writing the following:"
   ]
  },
  {
   "cell_type": "code",
   "execution_count": null,
   "metadata": {
    "id": "09_aeEeyTqNi"
   },
   "outputs": [],
   "source": [
    "import numpy as np # This is a writing convention"
   ]
  },
  {
   "cell_type": "markdown",
   "metadata": {
    "id": "u7qE2uqSUC3q"
   },
   "source": [
    "### Creating Arrays"
   ]
  },
  {
   "cell_type": "markdown",
   "metadata": {
    "id": "xQfGI8EwUz60"
   },
   "source": [
    "####Using Python Lists"
   ]
  },
  {
   "cell_type": "code",
   "execution_count": null,
   "metadata": {
    "colab": {
     "base_uri": "https://localhost:8080/"
    },
    "id": "vid0YLYTUHyb",
    "outputId": "5bd58383-fc66-458e-8806-27d02cc0e052"
   },
   "outputs": [
    {
     "data": {
      "text/plain": [
       "array([2, 7, 4, 3, 1])"
      ]
     },
     "execution_count": 24,
     "metadata": {
      "tags": []
     },
     "output_type": "execute_result"
    }
   ],
   "source": [
    "np.array([2, 7, 4, 3, 1])"
   ]
  },
  {
   "cell_type": "code",
   "execution_count": null,
   "metadata": {
    "colab": {
     "base_uri": "https://localhost:8080/"
    },
    "id": "RE4l4EnqUawL",
    "outputId": "9b6b2a8d-c8da-40c7-e731-f5be5831aa8c"
   },
   "outputs": [
    {
     "data": {
      "text/plain": [
       "array([0, 1, 2, 3])"
      ]
     },
     "execution_count": 25,
     "metadata": {
      "tags": []
     },
     "output_type": "execute_result"
    }
   ],
   "source": [
    "np.array(list(range(4)))"
   ]
  },
  {
   "cell_type": "code",
   "execution_count": null,
   "metadata": {
    "colab": {
     "base_uri": "https://localhost:8080/"
    },
    "id": "XF54zv7iVEgb",
    "outputId": "320cf902-9c9d-4591-9e9c-332616d572cb"
   },
   "outputs": [
    {
     "data": {
      "text/plain": [
       "array([0., 1., 2., 3.])"
      ]
     },
     "execution_count": 27,
     "metadata": {
      "tags": []
     },
     "output_type": "execute_result"
    }
   ],
   "source": [
    "np.array(list(range(4)),dtype='float')"
   ]
  },
  {
   "cell_type": "code",
   "execution_count": null,
   "metadata": {
    "colab": {
     "base_uri": "https://localhost:8080/"
    },
    "id": "3xmvgLE3VTQk",
    "outputId": "8a2e3d41-52ea-498e-f217-8b9ed7e3ce54"
   },
   "outputs": [
    {
     "data": {
      "text/plain": [
       "array([[1, 2],\n",
       "       [5, 3],\n",
       "       [4, 8]])"
      ]
     },
     "execution_count": 28,
     "metadata": {
      "tags": []
     },
     "output_type": "execute_result"
    }
   ],
   "source": [
    "# Creating multidimensional array using nested list\n",
    "np.array([[1,2],[5,3],[4,8]])"
   ]
  },
  {
   "cell_type": "code",
   "execution_count": null,
   "metadata": {
    "colab": {
     "base_uri": "https://localhost:8080/"
    },
    "id": "kpYYU2gAVscd",
    "outputId": "8e2c5ff8-8d25-43bd-d01a-91dc24de191a"
   },
   "outputs": [
    {
     "data": {
      "text/plain": [
       "array([[1, 2],\n",
       "       [2, 3],\n",
       "       [3, 4]])"
      ]
     },
     "execution_count": 30,
     "metadata": {
      "tags": []
     },
     "output_type": "execute_result"
    }
   ],
   "source": [
    "np.array([range(i, i+2) for i in [1, 2, 3]]) # Range: [i,i+2) ==> [2, 4)"
   ]
  },
  {
   "cell_type": "markdown",
   "metadata": {
    "id": "9vZ9XHaNV-0I"
   },
   "source": [
    "#### Using functions"
   ]
  },
  {
   "cell_type": "code",
   "execution_count": null,
   "metadata": {
    "colab": {
     "base_uri": "https://localhost:8080/"
    },
    "id": "KE_LVP42WFpf",
    "outputId": "357f614a-3580-48d9-9493-35f327145612"
   },
   "outputs": [
    {
     "data": {
      "text/plain": [
       "array([[0, 0],\n",
       "       [0, 0],\n",
       "       [0, 0],\n",
       "       [0, 0],\n",
       "       [0, 0]])"
      ]
     },
     "execution_count": 31,
     "metadata": {
      "tags": []
     },
     "output_type": "execute_result"
    }
   ],
   "source": [
    "# Make an array full of 0's\n",
    "np.zeros((5,2),dtype=int)"
   ]
  },
  {
   "cell_type": "code",
   "execution_count": null,
   "metadata": {
    "colab": {
     "base_uri": "https://localhost:8080/"
    },
    "id": "GN4StSlYWYKP",
    "outputId": "d2136783-073e-46eb-8b32-874c675d8a4d"
   },
   "outputs": [
    {
     "data": {
      "text/plain": [
       "array([[1, 1, 1],\n",
       "       [1, 1, 1]])"
      ]
     },
     "execution_count": 32,
     "metadata": {
      "tags": []
     },
     "output_type": "execute_result"
    }
   ],
   "source": [
    "# Make an array full of 1's\n",
    "np.ones((2,3),dtype=int)"
   ]
  },
  {
   "cell_type": "code",
   "execution_count": null,
   "metadata": {
    "colab": {
     "base_uri": "https://localhost:8080/"
    },
    "id": "Tbj7lVWkW-7w",
    "outputId": "219e09c0-b1dd-401c-cd98-53016005995f"
   },
   "outputs": [
    {
     "data": {
      "text/plain": [
       "array([ 0,  4,  8, 12])"
      ]
     },
     "execution_count": 33,
     "metadata": {
      "tags": []
     },
     "output_type": "execute_result"
    }
   ],
   "source": [
    "# Make a sequential array\n",
    "# More or less similar to range() function\n",
    "np.arange(0, 16, 4)"
   ]
  },
  {
   "cell_type": "code",
   "execution_count": null,
   "metadata": {
    "colab": {
     "base_uri": "https://localhost:8080/"
    },
    "id": "t8YMnZbkXb8r",
    "outputId": "b4eac4d6-c2e5-4dc3-e35c-2a64c545694b"
   },
   "outputs": [
    {
     "data": {
      "text/plain": [
       "array([0.   , 0.125, 0.25 , 0.375, 0.5  , 0.625, 0.75 , 0.875, 1.   ])"
      ]
     },
     "execution_count": 34,
     "metadata": {
      "tags": []
     },
     "output_type": "execute_result"
    }
   ],
   "source": [
    "# Make an evenly spaced array\n",
    "np.linspace(0, 1, 9)"
   ]
  },
  {
   "cell_type": "code",
   "execution_count": null,
   "metadata": {
    "colab": {
     "base_uri": "https://localhost:8080/"
    },
    "id": "tJ_XlvFpX89I",
    "outputId": "45abca25-a6e1-4ca1-9002-c99b79e78455"
   },
   "outputs": [
    {
     "data": {
      "text/plain": [
       "array([[2.13, 2.13, 2.13, 2.13, 2.13],\n",
       "       [2.13, 2.13, 2.13, 2.13, 2.13],\n",
       "       [2.13, 2.13, 2.13, 2.13, 2.13]])"
      ]
     },
     "execution_count": 35,
     "metadata": {
      "tags": []
     },
     "output_type": "execute_result"
    }
   ],
   "source": [
    "# Make 3x5 array filled with the same value i.e. 2.13\n",
    "np.full((3, 5), 2.13)"
   ]
  },
  {
   "cell_type": "code",
   "execution_count": null,
   "metadata": {
    "colab": {
     "base_uri": "https://localhost:8080/"
    },
    "id": "nwGITXQXYQ9h",
    "outputId": "29846a21-ef6f-4538-b3d4-b7287bc7bec0"
   },
   "outputs": [
    {
     "data": {
      "text/plain": [
       "array([[0.74622101, 0.49550127, 0.91861552],\n",
       "       [0.34720072, 0.84717542, 0.91196066],\n",
       "       [0.68392369, 0.84620011, 0.67164692]])"
      ]
     },
     "execution_count": 36,
     "metadata": {
      "tags": []
     },
     "output_type": "execute_result"
    }
   ],
   "source": [
    "# Make 3x3 array of uniformly distributed values\n",
    "# values generated randomly to be between 0 and 1\n",
    "np.random.random((3, 3))"
   ]
  },
  {
   "cell_type": "code",
   "execution_count": null,
   "metadata": {
    "colab": {
     "base_uri": "https://localhost:8080/"
    },
    "id": "hxLj0sDGYw2l",
    "outputId": "c91efeba-9d69-4442-87c0-dcbc66734a59"
   },
   "outputs": [
    {
     "data": {
      "text/plain": [
       "array([[ 5,  2,  3],\n",
       "       [10,  1,  9],\n",
       "       [ 0, 16, 12]])"
      ]
     },
     "execution_count": 38,
     "metadata": {
      "tags": []
     },
     "output_type": "execute_result"
    }
   ],
   "source": [
    "# Make 3x3 array of random integers\n",
    "# values generated randomly to be in [0, 20)\n",
    "np.random.randint(0, 20, (3, 3))"
   ]
  },
  {
   "cell_type": "code",
   "execution_count": null,
   "metadata": {
    "colab": {
     "base_uri": "https://localhost:8080/"
    },
    "id": "PrCYkA4pZGT0",
    "outputId": "0e12bb67-1baf-4263-8a7c-56d571ab8312"
   },
   "outputs": [
    {
     "data": {
      "text/plain": [
       "array([[ 0.45446536,  0.06578045,  0.14638267],\n",
       "       [ 1.22230698,  0.75575012,  1.42736728],\n",
       "       [-0.20809488,  0.88065748, -0.09181724]])"
      ]
     },
     "execution_count": 39,
     "metadata": {
      "tags": []
     },
     "output_type": "execute_result"
    }
   ],
   "source": [
    "# Make 3x3 array of normally distributed values\n",
    "# values generated randomly with mean 0 and s.d 1\n",
    "np.random.normal(0, 1, (3, 3))"
   ]
  },
  {
   "cell_type": "code",
   "execution_count": null,
   "metadata": {
    "colab": {
     "base_uri": "https://localhost:8080/"
    },
    "id": "FITj1ktSZc3x",
    "outputId": "ad972d19-a66c-4245-ca47-5e0a92fe1108"
   },
   "outputs": [
    {
     "data": {
      "text/plain": [
       "array([[1, 0, 0, 0, 0],\n",
       "       [0, 1, 0, 0, 0],\n",
       "       [0, 0, 1, 0, 0],\n",
       "       [0, 0, 0, 1, 0],\n",
       "       [0, 0, 0, 0, 1]])"
      ]
     },
     "execution_count": 40,
     "metadata": {
      "tags": []
     },
     "output_type": "execute_result"
    }
   ],
   "source": [
    "# Make 5x5 identity matrix\n",
    "np.eye(5, dtype=int)"
   ]
  },
  {
   "cell_type": "markdown",
   "metadata": {
    "id": "-KQBtMtebxjF"
   },
   "source": [
    "### Array Indexing"
   ]
  },
  {
   "cell_type": "code",
   "execution_count": null,
   "metadata": {
    "id": "a13lZ4-Ob4Hf"
   },
   "outputs": [],
   "source": [
    "import numpy as np"
   ]
  },
  {
   "cell_type": "markdown",
   "metadata": {
    "id": "phmQOCINdYEu"
   },
   "source": [
    "#### Basics"
   ]
  },
  {
   "cell_type": "code",
   "execution_count": null,
   "metadata": {
    "colab": {
     "base_uri": "https://localhost:8080/"
    },
    "id": "mG5RHIzYcUtk",
    "outputId": "5e3fdc37-b795-4f03-c941-995dca36ecf8"
   },
   "outputs": [
    {
     "name": "stdout",
     "output_type": "stream",
     "text": [
      "[ 0  1  2  3  4  5  6  7  8  9 10 11 12 13 14]\n"
     ]
    }
   ],
   "source": [
    "a = np.arange(15) # .arange(num) obtain a list of number sequence\n",
    "print(a)"
   ]
  },
  {
   "cell_type": "code",
   "execution_count": null,
   "metadata": {
    "colab": {
     "base_uri": "https://localhost:8080/"
    },
    "id": "HOG3G7cGcbvS",
    "outputId": "3c406355-11b5-4ad9-ca9a-c325519a0ae4"
   },
   "outputs": [
    {
     "name": "stdout",
     "output_type": "stream",
     "text": [
      "[[ 0  1  2  3  4]\n",
      " [ 5  6  7  8  9]\n",
      " [10 11 12 13 14]]\n"
     ]
    }
   ],
   "source": [
    "b = a.reshape(3, 5) # .reshape(u, v) s.t u*v = original array length\n",
    "print(b)"
   ]
  },
  {
   "cell_type": "code",
   "execution_count": null,
   "metadata": {
    "colab": {
     "base_uri": "https://localhost:8080/"
    },
    "id": "gI0bqewMcijw",
    "outputId": "064a218c-7488-46ab-90a0-a7ae0f81dfec"
   },
   "outputs": [
    {
     "name": "stdout",
     "output_type": "stream",
     "text": [
      "[10 11 12 13 14]\n"
     ]
    }
   ],
   "source": [
    "# Get last row\n",
    "print(b[-1])"
   ]
  },
  {
   "cell_type": "code",
   "execution_count": null,
   "metadata": {
    "colab": {
     "base_uri": "https://localhost:8080/"
    },
    "id": "eB7H7j37czvP",
    "outputId": "a627b4d8-5a7f-470f-b2c0-044ef3b1498d"
   },
   "outputs": [
    {
     "name": "stdout",
     "output_type": "stream",
     "text": [
      "[ 4  9 14]\n"
     ]
    }
   ],
   "source": [
    "# Get last column\n",
    "print(b.T[-1]) # .T is just the Transpose function - exchanging row and columns"
   ]
  },
  {
   "cell_type": "code",
   "execution_count": null,
   "metadata": {
    "colab": {
     "base_uri": "https://localhost:8080/"
    },
    "id": "jFa9G4Pvc7Oo",
    "outputId": "c93536c8-2d7b-40fe-fc04-ea800aa647fa"
   },
   "outputs": [
    {
     "name": "stdout",
     "output_type": "stream",
     "text": [
      "7\n"
     ]
    }
   ],
   "source": [
    "# Get the element at 2nd row and 3rd column, 7\n",
    "print(b[1, 2])"
   ]
  },
  {
   "cell_type": "markdown",
   "metadata": {
    "id": "fkeF11KqdeJv"
   },
   "source": [
    "#### Get elements in a list"
   ]
  },
  {
   "cell_type": "code",
   "execution_count": null,
   "metadata": {
    "colab": {
     "base_uri": "https://localhost:8080/"
    },
    "id": "KJUDsH4Zdnax",
    "outputId": "72e5419c-c478-4757-a84c-a442d56f42f5"
   },
   "outputs": [
    {
     "name": "stdout",
     "output_type": "stream",
     "text": [
      "[0 1 2 3 4 5] \n",
      "\n",
      "[0 1 2 3] \n",
      "\n",
      "[2 3 4 5] \n",
      "\n",
      "[1 2 3 4 5]\n"
     ]
    }
   ],
   "source": [
    "x = np.arange(6)\n",
    "\n",
    "print(x,'\\n')\n",
    "print(x[:4],'\\n')\n",
    "print(x[2:6],'\\n')\n",
    "print(x[-5:])"
   ]
  },
  {
   "cell_type": "markdown",
   "metadata": {
    "id": "1_v3lG4ffikL"
   },
   "source": [
    "#### Array Slicing"
   ]
  },
  {
   "cell_type": "code",
   "execution_count": null,
   "metadata": {
    "colab": {
     "base_uri": "https://localhost:8080/"
    },
    "id": "6jf6bUffhpft",
    "outputId": "20fa4fd1-e980-49f9-bc9e-84e18bb2272e"
   },
   "outputs": [
    {
     "name": "stdout",
     "output_type": "stream",
     "text": [
      "[[10 20 30 40]\n",
      " [-5 -6 -7 -8]\n",
      " [ 9 10 11 12]]\n",
      "\n",
      "\n",
      "[[20 30 40]\n",
      " [-6 -7 -8]]\n"
     ]
    }
   ],
   "source": [
    "a = np.array([[10, 20, 30, 40], [-5, -6, -7, -8], [9, 10, 11, 12]])\n",
    "b = a[:2, 1:4]\n",
    "print(a)\n",
    "print('\\n')\n",
    "print(b)"
   ]
  },
  {
   "cell_type": "code",
   "execution_count": null,
   "metadata": {
    "colab": {
     "base_uri": "https://localhost:8080/"
    },
    "id": "w5r7q0keij-B",
    "outputId": "e92062a4-0324-4fd3-a7f4-66dfd3f66ee3"
   },
   "outputs": [
    {
     "name": "stdout",
     "output_type": "stream",
     "text": [
      "[-5 -6 -7 -8] (4,)\n",
      "[[-5 -6 -7 -8]] (1, 4)\n"
     ]
    }
   ],
   "source": [
    "# Get middle row\n",
    "\n",
    "middle1 = a[1, :]\n",
    "middle2 = a[[1], :]\n",
    "\n",
    "print(middle1, middle1.shape)\n",
    "print(middle2, middle2.shape)"
   ]
  },
  {
   "cell_type": "markdown",
   "metadata": {
    "id": "DzuUPSlukNXK"
   },
   "source": [
    "#### Other Indexing"
   ]
  },
  {
   "cell_type": "code",
   "execution_count": null,
   "metadata": {
    "colab": {
     "base_uri": "https://localhost:8080/"
    },
    "id": "O0pUq6A0kPsE",
    "outputId": "74ced139-e97d-442d-8a61-2ab668f0c7f6"
   },
   "outputs": [
    {
     "name": "stdout",
     "output_type": "stream",
     "text": [
      "[[10 20 30 40]\n",
      " [-5 -6 -7 -8]\n",
      " [ 9 10 11 12]]\n",
      "[20 -5 40 11]\n"
     ]
    }
   ],
   "source": [
    "# Integer indexing\n",
    "\n",
    "u = np.array([[10, 20, 30, 40], [-5, -6, -7, -8], [9, 10, 11, 12]])\n",
    "\n",
    "print(u)\n",
    "print(u[[0, 1, 0, 2], [1, 0, 3, 2]])"
   ]
  },
  {
   "cell_type": "code",
   "execution_count": null,
   "metadata": {
    "colab": {
     "base_uri": "https://localhost:8080/"
    },
    "id": "CxfRkpOolXaC",
    "outputId": "b9e131a0-81e1-4176-ddb7-c2650023240a"
   },
   "outputs": [
    {
     "name": "stdout",
     "output_type": "stream",
     "text": [
      "[[ True  True  True  True]\n",
      " [False  True False  True]\n",
      " [False  True False  True]]\n"
     ]
    }
   ],
   "source": [
    "# Boolean indexing\n",
    "\n",
    "bool_index = (u%2==0)\n",
    "print(bool_index)"
   ]
  },
  {
   "cell_type": "code",
   "execution_count": null,
   "metadata": {
    "colab": {
     "base_uri": "https://localhost:8080/"
    },
    "id": "U28b0I-Vlz0t",
    "outputId": "1966d705-d99a-4a72-fdef-369e5803e184"
   },
   "outputs": [
    {
     "name": "stdout",
     "output_type": "stream",
     "text": [
      "[10 20 30 40 -6 -8 10 12]\n",
      "[10 20 30 40 -6 -8 10 12]\n"
     ]
    }
   ],
   "source": [
    "print(u[bool_index])\n",
    "\n",
    "# Alternatively:\n",
    "\n",
    "print(u[u%2==0])"
   ]
  },
  {
   "cell_type": "markdown",
   "metadata": {
    "id": "maei_Wd7mL-U"
   },
   "source": [
    "### Array arithmetics"
   ]
  },
  {
   "cell_type": "code",
   "execution_count": null,
   "metadata": {
    "id": "tl3S24rqms02"
   },
   "outputs": [],
   "source": [
    "import numpy as np"
   ]
  },
  {
   "cell_type": "markdown",
   "metadata": {
    "id": "lr9BYmlKmPdN"
   },
   "source": [
    "We can do some fundamental Mathematical operations on our arrays which will be computed on an elementwise basis"
   ]
  },
  {
   "cell_type": "code",
   "execution_count": null,
   "metadata": {
    "colab": {
     "base_uri": "https://localhost:8080/"
    },
    "id": "R8j-hlSnmrLE",
    "outputId": "8fd7afd4-d68c-4267-a5dc-dd7117d257c0"
   },
   "outputs": [
    {
     "name": "stdout",
     "output_type": "stream",
     "text": [
      "[[1 2 3]\n",
      " [4 5 6]\n",
      " [7 8 9]]\n",
      "[[14 16 18]\n",
      " [ 8 10 12]\n",
      " [ 2  4  6]]\n",
      "\n",
      "\n",
      "[[15 18 21]\n",
      " [12 15 18]\n",
      " [ 9 12 15]]\n",
      "\n",
      "\n",
      "[[15 18 21]\n",
      " [12 15 18]\n",
      " [ 9 12 15]]\n"
     ]
    }
   ],
   "source": [
    "u = np.array([[1, 2, 3], [4, 5, 6], [7, 8, 9]])\n",
    "v = np.array([[14, 16, 18], [8, 10, 12], [2, 4, 6]])\n",
    "\n",
    "print(u)\n",
    "print(v)\n",
    "print('\\n')\n",
    "\n",
    "print(u+v)\n",
    "print('\\n')\n",
    "print(np.add(u,v))"
   ]
  },
  {
   "cell_type": "code",
   "execution_count": null,
   "metadata": {
    "colab": {
     "base_uri": "https://localhost:8080/"
    },
    "id": "FMFWGJC7nTqe",
    "outputId": "f1fe6445-2749-4230-87b9-de88a08a422b"
   },
   "outputs": [
    {
     "name": "stdout",
     "output_type": "stream",
     "text": [
      "[[-13 -14 -15]\n",
      " [ -4  -5  -6]\n",
      " [  5   4   3]]\n",
      "\n",
      "\n",
      "[[-13 -14 -15]\n",
      " [ -4  -5  -6]\n",
      " [  5   4   3]]\n"
     ]
    }
   ],
   "source": [
    "print(u-v)\n",
    "print('\\n')\n",
    "print(np.subtract(u,v))"
   ]
  },
  {
   "cell_type": "code",
   "execution_count": null,
   "metadata": {
    "colab": {
     "base_uri": "https://localhost:8080/"
    },
    "id": "as67KgWAnYrN",
    "outputId": "7f0d179d-6ec7-410a-ec65-05277e58a0e9"
   },
   "outputs": [
    {
     "name": "stdout",
     "output_type": "stream",
     "text": [
      "[[14 32 54]\n",
      " [32 50 72]\n",
      " [14 32 54]]\n",
      "\n",
      "\n",
      "[[14 32 54]\n",
      " [32 50 72]\n",
      " [14 32 54]]\n"
     ]
    }
   ],
   "source": [
    "print(u*v)\n",
    "print('\\n')\n",
    "print(np.multiply(u,v))"
   ]
  },
  {
   "cell_type": "code",
   "execution_count": null,
   "metadata": {
    "colab": {
     "base_uri": "https://localhost:8080/"
    },
    "id": "BLUZUZZNnfx0",
    "outputId": "b5f6ad79-e42a-409c-c20b-2ab7d727f51e"
   },
   "outputs": [
    {
     "name": "stdout",
     "output_type": "stream",
     "text": [
      "[[0.07142857 0.125      0.16666667]\n",
      " [0.5        0.5        0.5       ]\n",
      " [3.5        2.         1.5       ]]\n",
      "\n",
      "\n",
      "[[0.07142857 0.125      0.16666667]\n",
      " [0.5        0.5        0.5       ]\n",
      " [3.5        2.         1.5       ]]\n"
     ]
    }
   ],
   "source": [
    "print(u/v)\n",
    "print('\\n')\n",
    "print(np.divide(u,v))"
   ]
  },
  {
   "cell_type": "code",
   "execution_count": null,
   "metadata": {
    "colab": {
     "base_uri": "https://localhost:8080/"
    },
    "id": "r5cCINfmnoOs",
    "outputId": "8d6b18e4-f748-403b-fa52-57c216c3219d"
   },
   "outputs": [
    {
     "name": "stdout",
     "output_type": "stream",
     "text": [
      "[0 3]\n",
      "[1 5]\n",
      "[[1 2]\n",
      " [3 4]]\n",
      "[[2 4]\n",
      " [3 6]]\n",
      "15\n",
      "15\n"
     ]
    }
   ],
   "source": [
    "# Inner product (vector-vector) of vectors a, b\n",
    "\n",
    "a = np.array([0, 3])\n",
    "b = np.array([1,5])\n",
    "\n",
    "print(a)\n",
    "print(b)\n",
    "\n",
    "x = np.array([[1, 2], [3, 4]])\n",
    "y = np.array([[2, 4], [3, 6]])\n",
    "\n",
    "print(x)\n",
    "print(y)\n",
    "\n",
    "print(a.dot(b))\n",
    "print(np.dot(a, b))"
   ]
  },
  {
   "cell_type": "code",
   "execution_count": null,
   "metadata": {
    "colab": {
     "base_uri": "https://localhost:8080/"
    },
    "id": "Y2f0eMP2osl1",
    "outputId": "38965d25-799d-473d-e381-2fe7e65185bd"
   },
   "outputs": [
    {
     "name": "stdout",
     "output_type": "stream",
     "text": [
      "[ 9 12]\n",
      "[ 9 12]\n"
     ]
    }
   ],
   "source": [
    "# Vector-Matrix product\n",
    "\n",
    "print(a.dot(x))\n",
    "print(np.dot(a, x))"
   ]
  },
  {
   "cell_type": "code",
   "execution_count": null,
   "metadata": {
    "colab": {
     "base_uri": "https://localhost:8080/"
    },
    "id": "rg2yOPEQpSYN",
    "outputId": "184dc207-f40e-4e4f-f980-b2542b1fe70a"
   },
   "outputs": [
    {
     "name": "stdout",
     "output_type": "stream",
     "text": [
      "[[ 8 16]\n",
      " [18 36]]\n",
      "[[ 8 16]\n",
      " [18 36]]\n"
     ]
    }
   ],
   "source": [
    "# Matrix-Matrix product\n",
    "\n",
    "print(x.dot(y))\n",
    "print(np.dot(x, y))"
   ]
  },
  {
   "cell_type": "code",
   "execution_count": null,
   "metadata": {
    "colab": {
     "base_uri": "https://localhost:8080/"
    },
    "id": "PQRJ0yKDppNX",
    "outputId": "847ee616-4528-4cfc-c352-6e2d21527a29"
   },
   "outputs": [
    {
     "name": "stdout",
     "output_type": "stream",
     "text": [
      "[[2 4]\n",
      " [3 6]]\n",
      "15\n",
      "[ 5 10]\n",
      "[6 9]\n"
     ]
    }
   ],
   "source": [
    "print(y)\n",
    "print(np.sum(y))\n",
    "print(np.sum(y, axis=0)) # Column wise sum\n",
    "print(np.sum(y, axis=1)) # Row wise sum"
   ]
  },
  {
   "cell_type": "code",
   "execution_count": null,
   "metadata": {
    "colab": {
     "base_uri": "https://localhost:8080/"
    },
    "id": "r1YKNGRRqFru",
    "outputId": "81106902-220b-4db4-de03-770785246f95"
   },
   "outputs": [
    {
     "name": "stdout",
     "output_type": "stream",
     "text": [
      "2\n",
      "6\n",
      "3.75\n"
     ]
    }
   ],
   "source": [
    "print(np.min(y))\n",
    "print(np.max(y))\n",
    "print(np.mean(y))"
   ]
  },
  {
   "cell_type": "markdown",
   "metadata": {
    "id": "XfNK-_wX1Mva"
   },
   "source": [
    "## Pandas\n",
    "\n",
    "This package provides a data structure implementing data frames which is basically just a multidimensional array with attached rows and columns. It acts as an interface for labeled data but at the same time also provides the tools for data manipulation and operations. It is comprised of two primary objects namely `series` and `DataFrame` which is built upon NumPy's `ndArray`. \n",
    "\n"
   ]
  },
  {
   "cell_type": "code",
   "execution_count": null,
   "metadata": {
    "id": "V0c5Fjy32rZg"
   },
   "outputs": [],
   "source": [
    "import pandas as pd # This is the writing convention"
   ]
  },
  {
   "cell_type": "markdown",
   "metadata": {
    "id": "AG3vSveX2125"
   },
   "source": [
    "### Pandas Series\n",
    "a one-dimensional NumPy array with an index\n",
    "\n"
   ]
  },
  {
   "cell_type": "code",
   "execution_count": null,
   "metadata": {
    "id": "_bodcIQp3Yme"
   },
   "outputs": [],
   "source": [
    "import pandas as pd"
   ]
  },
  {
   "cell_type": "code",
   "execution_count": null,
   "metadata": {
    "colab": {
     "base_uri": "https://localhost:8080/"
    },
    "id": "0GERHWmj3GA1",
    "outputId": "0a3d24d9-5ec5-4878-f5d7-d87b1816e5aa"
   },
   "outputs": [
    {
     "name": "stdout",
     "output_type": "stream",
     "text": [
      "0    10\n",
      "1   -12\n",
      "2    14\n",
      "3    16\n",
      "4   -18\n",
      "5    20\n",
      "dtype: int64\n"
     ]
    }
   ],
   "source": [
    "series = pd.Series([10, -12, 14, 16, -18, 20])\n",
    "\n",
    "print(series)"
   ]
  },
  {
   "cell_type": "code",
   "execution_count": null,
   "metadata": {
    "colab": {
     "base_uri": "https://localhost:8080/"
    },
    "id": "xSvdNQUH3qI8",
    "outputId": "a1993d87-94f7-44d2-db46-d7cae3dcd4c7"
   },
   "outputs": [
    {
     "data": {
      "text/plain": [
       "RangeIndex(start=0, stop=6, step=1)"
      ]
     },
     "execution_count": 73,
     "metadata": {
      "tags": []
     },
     "output_type": "execute_result"
    }
   ],
   "source": [
    "series.index # use .index to get the index"
   ]
  },
  {
   "cell_type": "code",
   "execution_count": null,
   "metadata": {
    "colab": {
     "base_uri": "https://localhost:8080/"
    },
    "id": "GrkXkxHA3s3s",
    "outputId": "ba8b9a0a-ae81-4b80-daaf-5ed7eeaefb22"
   },
   "outputs": [
    {
     "data": {
      "text/plain": [
       "array([ 10, -12,  14,  16, -18,  20])"
      ]
     },
     "execution_count": 74,
     "metadata": {
      "tags": []
     },
     "output_type": "execute_result"
    }
   ],
   "source": [
    "series.values # use .values to get the values"
   ]
  },
  {
   "cell_type": "code",
   "execution_count": null,
   "metadata": {
    "colab": {
     "base_uri": "https://localhost:8080/"
    },
    "id": "wEXslaMH3u_Z",
    "outputId": "b16374bd-4e1c-4357-b31a-7389960729b7"
   },
   "outputs": [
    {
     "data": {
      "text/plain": [
       "14"
      ]
     },
     "execution_count": 75,
     "metadata": {
      "tags": []
     },
     "output_type": "execute_result"
    }
   ],
   "source": [
    "series[2]"
   ]
  },
  {
   "cell_type": "code",
   "execution_count": null,
   "metadata": {
    "colab": {
     "base_uri": "https://localhost:8080/"
    },
    "id": "8hw5wS1a32eZ",
    "outputId": "835e40fa-a2ba-4b28-c0d1-9ef87c13aa5b"
   },
   "outputs": [
    {
     "data": {
      "text/plain": [
       "2    14\n",
       "3    16\n",
       "4   -18\n",
       "dtype: int64"
      ]
     },
     "execution_count": 76,
     "metadata": {
      "tags": []
     },
     "output_type": "execute_result"
    }
   ],
   "source": [
    "series[2:5]"
   ]
  },
  {
   "cell_type": "markdown",
   "metadata": {
    "id": "oJ_u2rNr4C-y"
   },
   "source": [
    "### Generalized Pandas Series"
   ]
  },
  {
   "cell_type": "code",
   "execution_count": null,
   "metadata": {
    "colab": {
     "base_uri": "https://localhost:8080/"
    },
    "id": "RQvK_eoT4H8s",
    "outputId": "75b05958-c4b9-4631-cbf3-9184f56a8995"
   },
   "outputs": [
    {
     "data": {
      "text/plain": [
       "u    0.10\n",
       "v    0.25\n",
       "w    0.30\n",
       "x    0.45\n",
       "y    0.50\n",
       "z    0.65\n",
       "dtype: float64"
      ]
     },
     "execution_count": 77,
     "metadata": {
      "tags": []
     },
     "output_type": "execute_result"
    }
   ],
   "source": [
    "ds = pd.Series([.1, .25, .3, .45, .5, .65], index= ['u', 'v', 'w', 'x', 'y', 'z'])\n",
    "\n",
    "ds"
   ]
  },
  {
   "cell_type": "code",
   "execution_count": null,
   "metadata": {
    "colab": {
     "base_uri": "https://localhost:8080/"
    },
    "id": "2WJlI2rQ4lwu",
    "outputId": "27ecf28f-1082-4604-a7b0-5ccbbde61dbb"
   },
   "outputs": [
    {
     "data": {
      "text/plain": [
       "0.45"
      ]
     },
     "execution_count": 78,
     "metadata": {
      "tags": []
     },
     "output_type": "execute_result"
    }
   ],
   "source": [
    "ds['x']"
   ]
  },
  {
   "cell_type": "code",
   "execution_count": null,
   "metadata": {
    "colab": {
     "base_uri": "https://localhost:8080/"
    },
    "id": "V5JHeSK64wsF",
    "outputId": "e6104a61-ccd8-4786-d594-aad3fe5fd342"
   },
   "outputs": [
    {
     "data": {
      "text/plain": [
       "Monday       27.0\n",
       "Tuesday      26.7\n",
       "Wednesday    26.9\n",
       "Thursday     27.3\n",
       "Friday       26.4\n",
       "Saturday     26.9\n",
       "Sunday       27.5\n",
       "dtype: float64"
      ]
     },
     "execution_count": 79,
     "metadata": {
      "tags": []
     },
     "output_type": "execute_result"
    }
   ],
   "source": [
    "# Series as Python Dictionaries\n",
    "\n",
    "dailyTemp = {'Monday': 27, 'Tuesday': 26.7, 'Wednesday': 26.9, 'Thursday': 27.3, 'Friday': 26.4, 'Saturday': 26.9, 'Sunday': 27.5}\n",
    "\n",
    "temp = pd.Series(dailyTemp)\n",
    "temp"
   ]
  },
  {
   "cell_type": "code",
   "execution_count": null,
   "metadata": {
    "colab": {
     "base_uri": "https://localhost:8080/"
    },
    "id": "9vNrptHn5d7R",
    "outputId": "ca6e1419-2246-4664-95ce-569e01bd15ff"
   },
   "outputs": [
    {
     "data": {
      "text/plain": [
       "26.4"
      ]
     },
     "execution_count": 80,
     "metadata": {
      "tags": []
     },
     "output_type": "execute_result"
    }
   ],
   "source": [
    "temp['Friday']"
   ]
  },
  {
   "cell_type": "code",
   "execution_count": null,
   "metadata": {
    "colab": {
     "base_uri": "https://localhost:8080/"
    },
    "id": "rBHug2Gz5lei",
    "outputId": "a4c805f3-a9bf-48ff-b2cc-a6538acb405d"
   },
   "outputs": [
    {
     "data": {
      "text/plain": [
       "Wednesday    26.9\n",
       "Thursday     27.3\n",
       "Friday       26.4\n",
       "dtype: float64"
      ]
     },
     "execution_count": 82,
     "metadata": {
      "tags": []
     },
     "output_type": "execute_result"
    }
   ],
   "source": [
    "# Slicing a series\n",
    "\n",
    "temp['Wednesday':'Friday']"
   ]
  },
  {
   "cell_type": "markdown",
   "metadata": {
    "id": "3mGJrBWF56Mr"
   },
   "source": [
    "### DataFrames"
   ]
  },
  {
   "cell_type": "code",
   "execution_count": null,
   "metadata": {
    "colab": {
     "base_uri": "https://localhost:8080/"
    },
    "id": "5QTO_aMI5-Oi",
    "outputId": "f7e8b693-71f9-4e57-ae91-86da64b9f869"
   },
   "outputs": [
    {
     "data": {
      "text/plain": [
       "Monday       27.0\n",
       "Tuesday      26.7\n",
       "Wednesday    26.9\n",
       "Thursday     27.3\n",
       "Friday       26.4\n",
       "Saturday     26.9\n",
       "Sunday       27.5\n",
       "dtype: float64"
      ]
     },
     "execution_count": 83,
     "metadata": {
      "tags": []
     },
     "output_type": "execute_result"
    }
   ],
   "source": [
    "temp"
   ]
  },
  {
   "cell_type": "code",
   "execution_count": null,
   "metadata": {
    "colab": {
     "base_uri": "https://localhost:8080/"
    },
    "id": "aNZRyhJT6AWo",
    "outputId": "a68e4bee-828a-42d5-dd43-aa72aa4448ef"
   },
   "outputs": [
    {
     "data": {
      "text/plain": [
       "Monday        sunny\n",
       "Tuesday      cloudy\n",
       "Wednesday     sunny\n",
       "Thursday      sunny\n",
       "Friday        rainy\n",
       "Saturday      sunny\n",
       "Sunday        sunny\n",
       "dtype: object"
      ]
     },
     "execution_count": 84,
     "metadata": {
      "tags": []
     },
     "output_type": "execute_result"
    }
   ],
   "source": [
    "daily_weather = {'Monday': 'sunny', 'Tuesday': 'cloudy', 'Wednesday': 'sunny', 'Thursday': 'sunny', 'Friday': 'rainy', 'Saturday': 'sunny', 'Sunday': 'sunny'}\n",
    "\n",
    "weather = pd.Series(daily_weather)\n",
    "weather"
   ]
  },
  {
   "cell_type": "code",
   "execution_count": null,
   "metadata": {
    "colab": {
     "base_uri": "https://localhost:8080/",
     "height": 254
    },
    "id": "iL1KeEX46eWX",
    "outputId": "727abe5e-ed0d-4da4-cd06-4d64944df16a"
   },
   "outputs": [
    {
     "data": {
      "text/html": [
       "<div>\n",
       "<style scoped>\n",
       "    .dataframe tbody tr th:only-of-type {\n",
       "        vertical-align: middle;\n",
       "    }\n",
       "\n",
       "    .dataframe tbody tr th {\n",
       "        vertical-align: top;\n",
       "    }\n",
       "\n",
       "    .dataframe thead th {\n",
       "        text-align: right;\n",
       "    }\n",
       "</style>\n",
       "<table border=\"1\" class=\"dataframe\">\n",
       "  <thead>\n",
       "    <tr style=\"text-align: right;\">\n",
       "      <th></th>\n",
       "      <th>Temperature</th>\n",
       "      <th>Weather</th>\n",
       "    </tr>\n",
       "  </thead>\n",
       "  <tbody>\n",
       "    <tr>\n",
       "      <th>Monday</th>\n",
       "      <td>27.0</td>\n",
       "      <td>sunny</td>\n",
       "    </tr>\n",
       "    <tr>\n",
       "      <th>Tuesday</th>\n",
       "      <td>26.7</td>\n",
       "      <td>cloudy</td>\n",
       "    </tr>\n",
       "    <tr>\n",
       "      <th>Wednesday</th>\n",
       "      <td>26.9</td>\n",
       "      <td>sunny</td>\n",
       "    </tr>\n",
       "    <tr>\n",
       "      <th>Thursday</th>\n",
       "      <td>27.3</td>\n",
       "      <td>sunny</td>\n",
       "    </tr>\n",
       "    <tr>\n",
       "      <th>Friday</th>\n",
       "      <td>26.4</td>\n",
       "      <td>rainy</td>\n",
       "    </tr>\n",
       "    <tr>\n",
       "      <th>Saturday</th>\n",
       "      <td>26.9</td>\n",
       "      <td>sunny</td>\n",
       "    </tr>\n",
       "    <tr>\n",
       "      <th>Sunday</th>\n",
       "      <td>27.5</td>\n",
       "      <td>sunny</td>\n",
       "    </tr>\n",
       "  </tbody>\n",
       "</table>\n",
       "</div>"
      ],
      "text/plain": [
       "           Temperature Weather\n",
       "Monday            27.0   sunny\n",
       "Tuesday           26.7  cloudy\n",
       "Wednesday         26.9   sunny\n",
       "Thursday          27.3   sunny\n",
       "Friday            26.4   rainy\n",
       "Saturday          26.9   sunny\n",
       "Sunday            27.5   sunny"
      ]
     },
     "execution_count": 85,
     "metadata": {
      "tags": []
     },
     "output_type": "execute_result"
    }
   ],
   "source": [
    "day = pd.DataFrame({'Temperature':temp, 'Weather':weather})\n",
    "day"
   ]
  },
  {
   "cell_type": "code",
   "execution_count": null,
   "metadata": {
    "colab": {
     "base_uri": "https://localhost:8080/"
    },
    "id": "b-_adDnjS_0a",
    "outputId": "7b20b720-7179-4ace-af29-137d4e863c0c"
   },
   "outputs": [
    {
     "name": "stdout",
     "output_type": "stream",
     "text": [
      "<class 'pandas.core.frame.DataFrame'>\n",
      "Index: 7 entries, Monday to Sunday\n",
      "Data columns (total 2 columns):\n",
      " #   Column       Non-Null Count  Dtype  \n",
      "---  ------       --------------  -----  \n",
      " 0   Temperature  7 non-null      float64\n",
      " 1   Weather      7 non-null      object \n",
      "dtypes: float64(1), object(1)\n",
      "memory usage: 488.0+ bytes\n"
     ]
    }
   ],
   "source": [
    "day.info() # use .info() to get the basic information in a dataframe"
   ]
  },
  {
   "cell_type": "code",
   "execution_count": null,
   "metadata": {
    "colab": {
     "base_uri": "https://localhost:8080/",
     "height": 284
    },
    "id": "iVTWTjb4TOkZ",
    "outputId": "2153cf96-ab74-45a5-85f5-5e5d1d82c9e8"
   },
   "outputs": [
    {
     "data": {
      "text/html": [
       "<div>\n",
       "<style scoped>\n",
       "    .dataframe tbody tr th:only-of-type {\n",
       "        vertical-align: middle;\n",
       "    }\n",
       "\n",
       "    .dataframe tbody tr th {\n",
       "        vertical-align: top;\n",
       "    }\n",
       "\n",
       "    .dataframe thead th {\n",
       "        text-align: right;\n",
       "    }\n",
       "</style>\n",
       "<table border=\"1\" class=\"dataframe\">\n",
       "  <thead>\n",
       "    <tr style=\"text-align: right;\">\n",
       "      <th></th>\n",
       "      <th>Temperature</th>\n",
       "    </tr>\n",
       "  </thead>\n",
       "  <tbody>\n",
       "    <tr>\n",
       "      <th>count</th>\n",
       "      <td>7.000000</td>\n",
       "    </tr>\n",
       "    <tr>\n",
       "      <th>mean</th>\n",
       "      <td>26.957143</td>\n",
       "    </tr>\n",
       "    <tr>\n",
       "      <th>std</th>\n",
       "      <td>0.364496</td>\n",
       "    </tr>\n",
       "    <tr>\n",
       "      <th>min</th>\n",
       "      <td>26.400000</td>\n",
       "    </tr>\n",
       "    <tr>\n",
       "      <th>25%</th>\n",
       "      <td>26.800000</td>\n",
       "    </tr>\n",
       "    <tr>\n",
       "      <th>50%</th>\n",
       "      <td>26.900000</td>\n",
       "    </tr>\n",
       "    <tr>\n",
       "      <th>75%</th>\n",
       "      <td>27.150000</td>\n",
       "    </tr>\n",
       "    <tr>\n",
       "      <th>max</th>\n",
       "      <td>27.500000</td>\n",
       "    </tr>\n",
       "  </tbody>\n",
       "</table>\n",
       "</div>"
      ],
      "text/plain": [
       "       Temperature\n",
       "count     7.000000\n",
       "mean     26.957143\n",
       "std       0.364496\n",
       "min      26.400000\n",
       "25%      26.800000\n",
       "50%      26.900000\n",
       "75%      27.150000\n",
       "max      27.500000"
      ]
     },
     "execution_count": 88,
     "metadata": {
      "tags": []
     },
     "output_type": "execute_result"
    }
   ],
   "source": [
    "day.describe() # use .describe() to get the basic statistics in a dataframe"
   ]
  },
  {
   "cell_type": "code",
   "execution_count": null,
   "metadata": {
    "colab": {
     "base_uri": "https://localhost:8080/",
     "height": 195
    },
    "id": "KEreE3nBTvPV",
    "outputId": "af1d88dd-d97e-43a8-ccd6-23e12b75f9c0"
   },
   "outputs": [
    {
     "data": {
      "text/html": [
       "<div>\n",
       "<style scoped>\n",
       "    .dataframe tbody tr th:only-of-type {\n",
       "        vertical-align: middle;\n",
       "    }\n",
       "\n",
       "    .dataframe tbody tr th {\n",
       "        vertical-align: top;\n",
       "    }\n",
       "\n",
       "    .dataframe thead th {\n",
       "        text-align: right;\n",
       "    }\n",
       "</style>\n",
       "<table border=\"1\" class=\"dataframe\">\n",
       "  <thead>\n",
       "    <tr style=\"text-align: right;\">\n",
       "      <th></th>\n",
       "      <th>Temperature</th>\n",
       "      <th>Weather</th>\n",
       "    </tr>\n",
       "  </thead>\n",
       "  <tbody>\n",
       "    <tr>\n",
       "      <th>Monday</th>\n",
       "      <td>27.0</td>\n",
       "      <td>sunny</td>\n",
       "    </tr>\n",
       "    <tr>\n",
       "      <th>Tuesday</th>\n",
       "      <td>26.7</td>\n",
       "      <td>cloudy</td>\n",
       "    </tr>\n",
       "    <tr>\n",
       "      <th>Wednesday</th>\n",
       "      <td>26.9</td>\n",
       "      <td>sunny</td>\n",
       "    </tr>\n",
       "    <tr>\n",
       "      <th>Thursday</th>\n",
       "      <td>27.3</td>\n",
       "      <td>sunny</td>\n",
       "    </tr>\n",
       "    <tr>\n",
       "      <th>Friday</th>\n",
       "      <td>26.4</td>\n",
       "      <td>rainy</td>\n",
       "    </tr>\n",
       "  </tbody>\n",
       "</table>\n",
       "</div>"
      ],
      "text/plain": [
       "           Temperature Weather\n",
       "Monday            27.0   sunny\n",
       "Tuesday           26.7  cloudy\n",
       "Wednesday         26.9   sunny\n",
       "Thursday          27.3   sunny\n",
       "Friday            26.4   rainy"
      ]
     },
     "execution_count": 89,
     "metadata": {
      "tags": []
     },
     "output_type": "execute_result"
    }
   ],
   "source": [
    "day.head() # use .head() to get the first few rows of data"
   ]
  },
  {
   "cell_type": "code",
   "execution_count": null,
   "metadata": {
    "colab": {
     "base_uri": "https://localhost:8080/",
     "height": 195
    },
    "id": "VsBhPo8TTyvZ",
    "outputId": "226531f2-70f9-4111-beb8-0dfa2c72d96a"
   },
   "outputs": [
    {
     "data": {
      "text/html": [
       "<div>\n",
       "<style scoped>\n",
       "    .dataframe tbody tr th:only-of-type {\n",
       "        vertical-align: middle;\n",
       "    }\n",
       "\n",
       "    .dataframe tbody tr th {\n",
       "        vertical-align: top;\n",
       "    }\n",
       "\n",
       "    .dataframe thead th {\n",
       "        text-align: right;\n",
       "    }\n",
       "</style>\n",
       "<table border=\"1\" class=\"dataframe\">\n",
       "  <thead>\n",
       "    <tr style=\"text-align: right;\">\n",
       "      <th></th>\n",
       "      <th>Temperature</th>\n",
       "      <th>Weather</th>\n",
       "    </tr>\n",
       "  </thead>\n",
       "  <tbody>\n",
       "    <tr>\n",
       "      <th>Wednesday</th>\n",
       "      <td>26.9</td>\n",
       "      <td>sunny</td>\n",
       "    </tr>\n",
       "    <tr>\n",
       "      <th>Thursday</th>\n",
       "      <td>27.3</td>\n",
       "      <td>sunny</td>\n",
       "    </tr>\n",
       "    <tr>\n",
       "      <th>Friday</th>\n",
       "      <td>26.4</td>\n",
       "      <td>rainy</td>\n",
       "    </tr>\n",
       "    <tr>\n",
       "      <th>Saturday</th>\n",
       "      <td>26.9</td>\n",
       "      <td>sunny</td>\n",
       "    </tr>\n",
       "    <tr>\n",
       "      <th>Sunday</th>\n",
       "      <td>27.5</td>\n",
       "      <td>sunny</td>\n",
       "    </tr>\n",
       "  </tbody>\n",
       "</table>\n",
       "</div>"
      ],
      "text/plain": [
       "           Temperature Weather\n",
       "Wednesday         26.9   sunny\n",
       "Thursday          27.3   sunny\n",
       "Friday            26.4   rainy\n",
       "Saturday          26.9   sunny\n",
       "Sunday            27.5   sunny"
      ]
     },
     "execution_count": 90,
     "metadata": {
      "tags": []
     },
     "output_type": "execute_result"
    }
   ],
   "source": [
    "day.tail() # use .tail() to get the last few rows of data"
   ]
  },
  {
   "cell_type": "code",
   "execution_count": null,
   "metadata": {
    "colab": {
     "base_uri": "https://localhost:8080/",
     "height": 106
    },
    "id": "xlCjAdQ26xmO",
    "outputId": "b5ba1f08-75eb-45bc-a36a-50a65dcf8ada"
   },
   "outputs": [
    {
     "data": {
      "text/html": [
       "<div>\n",
       "<style scoped>\n",
       "    .dataframe tbody tr th:only-of-type {\n",
       "        vertical-align: middle;\n",
       "    }\n",
       "\n",
       "    .dataframe tbody tr th {\n",
       "        vertical-align: top;\n",
       "    }\n",
       "\n",
       "    .dataframe thead th {\n",
       "        text-align: right;\n",
       "    }\n",
       "</style>\n",
       "<table border=\"1\" class=\"dataframe\">\n",
       "  <thead>\n",
       "    <tr style=\"text-align: right;\">\n",
       "      <th></th>\n",
       "      <th>Temperature</th>\n",
       "      <th>Weather</th>\n",
       "    </tr>\n",
       "  </thead>\n",
       "  <tbody>\n",
       "    <tr>\n",
       "      <th>Monday</th>\n",
       "      <td>27.0</td>\n",
       "      <td>sunny</td>\n",
       "    </tr>\n",
       "    <tr>\n",
       "      <th>Tuesday</th>\n",
       "      <td>26.7</td>\n",
       "      <td>cloudy</td>\n",
       "    </tr>\n",
       "  </tbody>\n",
       "</table>\n",
       "</div>"
      ],
      "text/plain": [
       "         Temperature Weather\n",
       "Monday          27.0   sunny\n",
       "Tuesday         26.7  cloudy"
      ]
     },
     "execution_count": 91,
     "metadata": {
      "tags": []
     },
     "output_type": "execute_result"
    }
   ],
   "source": [
    "day.head(2) # use .head(num) to get the first num rows of data"
   ]
  },
  {
   "cell_type": "code",
   "execution_count": null,
   "metadata": {
    "colab": {
     "base_uri": "https://localhost:8080/",
     "height": 136
    },
    "id": "UWdWGf-M61Xd",
    "outputId": "32e33e4b-07c6-4ee0-c17b-d12c0b65af83"
   },
   "outputs": [
    {
     "data": {
      "text/html": [
       "<div>\n",
       "<style scoped>\n",
       "    .dataframe tbody tr th:only-of-type {\n",
       "        vertical-align: middle;\n",
       "    }\n",
       "\n",
       "    .dataframe tbody tr th {\n",
       "        vertical-align: top;\n",
       "    }\n",
       "\n",
       "    .dataframe thead th {\n",
       "        text-align: right;\n",
       "    }\n",
       "</style>\n",
       "<table border=\"1\" class=\"dataframe\">\n",
       "  <thead>\n",
       "    <tr style=\"text-align: right;\">\n",
       "      <th></th>\n",
       "      <th>Temperature</th>\n",
       "      <th>Weather</th>\n",
       "    </tr>\n",
       "  </thead>\n",
       "  <tbody>\n",
       "    <tr>\n",
       "      <th>Friday</th>\n",
       "      <td>26.4</td>\n",
       "      <td>rainy</td>\n",
       "    </tr>\n",
       "    <tr>\n",
       "      <th>Saturday</th>\n",
       "      <td>26.9</td>\n",
       "      <td>sunny</td>\n",
       "    </tr>\n",
       "    <tr>\n",
       "      <th>Sunday</th>\n",
       "      <td>27.5</td>\n",
       "      <td>sunny</td>\n",
       "    </tr>\n",
       "  </tbody>\n",
       "</table>\n",
       "</div>"
      ],
      "text/plain": [
       "          Temperature Weather\n",
       "Friday           26.4   rainy\n",
       "Saturday         26.9   sunny\n",
       "Sunday           27.5   sunny"
      ]
     },
     "execution_count": 92,
     "metadata": {
      "tags": []
     },
     "output_type": "execute_result"
    }
   ],
   "source": [
    "day.tail(3) # use .tail(num) to get the last num rows of data"
   ]
  },
  {
   "cell_type": "markdown",
   "metadata": {
    "id": "lpi5kHhsUEna"
   },
   "source": [
    "### Exercise: DataFrames"
   ]
  },
  {
   "cell_type": "code",
   "execution_count": null,
   "metadata": {
    "id": "zQiQs9LPUcYl"
   },
   "outputs": [],
   "source": [
    "name_list = ['Jane', 'Abu', 'Zul', 'Ali', 'James', 'Yuen', 'Pranesh', 'Sarah', 'John', 'Anne', 'Lisa', 'Jordan', 'Molly']\n",
    "gender_list = ['Female', 'Male', 'Male', 'Male', 'Male', 'Male', 'Male', 'Female', 'Male', 'Female', 'Female', 'Male', 'Female']\n",
    "age_list = [33, 26, 37, 26, 28, 36, 39, 26, 20, 25, 23, 21, 32]\n",
    "location_list = ['Penang', 'Penang', 'Kuala Lumpur', 'Kuala Lumpur', 'Penang', 'Kuala Lumpur', 'Kuala Lumpur', 'Kuala Lumpur', 'Penang', 'Kuala Lumpur', 'Penang', 'Penang', 'Penang']"
   ]
  },
  {
   "cell_type": "code",
   "execution_count": null,
   "metadata": {
    "id": "SkNt0t9hVEi-"
   },
   "outputs": [],
   "source": [
    "# Create a DataFrame using the lists above with the data above with names as index\n",
    "\n",
    "df = pd.DataFrame({'Gender':gender_list, 'Age':age_list, 'Location':location_list}, index = name_list)"
   ]
  },
  {
   "cell_type": "code",
   "execution_count": null,
   "metadata": {
    "colab": {
     "base_uri": "https://localhost:8080/"
    },
    "id": "uxrYYLAeXGNg",
    "outputId": "8d71ea61-f419-43c6-8e89-3db312e398ac"
   },
   "outputs": [
    {
     "name": "stdout",
     "output_type": "stream",
     "text": [
      "<class 'pandas.core.frame.DataFrame'>\n",
      "Index: 13 entries, Jane to Molly\n",
      "Data columns (total 3 columns):\n",
      " #   Column    Non-Null Count  Dtype \n",
      "---  ------    --------------  ----- \n",
      " 0   Gender    13 non-null     object\n",
      " 1   Age       13 non-null     int64 \n",
      " 2   Location  13 non-null     object\n",
      "dtypes: int64(1), object(2)\n",
      "memory usage: 416.0+ bytes\n"
     ]
    }
   ],
   "source": [
    "df.info()"
   ]
  },
  {
   "cell_type": "code",
   "execution_count": null,
   "metadata": {
    "colab": {
     "base_uri": "https://localhost:8080/",
     "height": 284
    },
    "id": "v01D86PqXSaP",
    "outputId": "ae233118-05d6-4fd2-9453-fb884b4023ff"
   },
   "outputs": [
    {
     "data": {
      "text/html": [
       "<div>\n",
       "<style scoped>\n",
       "    .dataframe tbody tr th:only-of-type {\n",
       "        vertical-align: middle;\n",
       "    }\n",
       "\n",
       "    .dataframe tbody tr th {\n",
       "        vertical-align: top;\n",
       "    }\n",
       "\n",
       "    .dataframe thead th {\n",
       "        text-align: right;\n",
       "    }\n",
       "</style>\n",
       "<table border=\"1\" class=\"dataframe\">\n",
       "  <thead>\n",
       "    <tr style=\"text-align: right;\">\n",
       "      <th></th>\n",
       "      <th>Age</th>\n",
       "    </tr>\n",
       "  </thead>\n",
       "  <tbody>\n",
       "    <tr>\n",
       "      <th>count</th>\n",
       "      <td>13.000000</td>\n",
       "    </tr>\n",
       "    <tr>\n",
       "      <th>mean</th>\n",
       "      <td>28.615385</td>\n",
       "    </tr>\n",
       "    <tr>\n",
       "      <th>std</th>\n",
       "      <td>6.198635</td>\n",
       "    </tr>\n",
       "    <tr>\n",
       "      <th>min</th>\n",
       "      <td>20.000000</td>\n",
       "    </tr>\n",
       "    <tr>\n",
       "      <th>25%</th>\n",
       "      <td>25.000000</td>\n",
       "    </tr>\n",
       "    <tr>\n",
       "      <th>50%</th>\n",
       "      <td>26.000000</td>\n",
       "    </tr>\n",
       "    <tr>\n",
       "      <th>75%</th>\n",
       "      <td>33.000000</td>\n",
       "    </tr>\n",
       "    <tr>\n",
       "      <th>max</th>\n",
       "      <td>39.000000</td>\n",
       "    </tr>\n",
       "  </tbody>\n",
       "</table>\n",
       "</div>"
      ],
      "text/plain": [
       "             Age\n",
       "count  13.000000\n",
       "mean   28.615385\n",
       "std     6.198635\n",
       "min    20.000000\n",
       "25%    25.000000\n",
       "50%    26.000000\n",
       "75%    33.000000\n",
       "max    39.000000"
      ]
     },
     "execution_count": 59,
     "metadata": {
      "tags": []
     },
     "output_type": "execute_result"
    }
   ],
   "source": [
    "df.describe()"
   ]
  },
  {
   "cell_type": "code",
   "execution_count": null,
   "metadata": {
    "id": "Iwq2sXZ2Vx7I"
   },
   "outputs": [],
   "source": [
    "# Sort the data by Age in ascending order"
   ]
  },
  {
   "cell_type": "code",
   "execution_count": null,
   "metadata": {
    "id": "EA-cVN-FXeuW"
   },
   "outputs": [],
   "source": [
    "# display the top rows after sorting"
   ]
  },
  {
   "cell_type": "markdown",
   "metadata": {
    "id": "Lbg747ikUQgP"
   },
   "source": [
    "# The End\n",
    "\n",
    "That's it! You have learnt all you need about Numpy and Pandas, the linear algebra and dataframe manipulators in Python. \n",
    "\n",
    "In the next lesson, you will leverage your knowledge about Numpy and Pandas to implement basic machine learning in Python using a library called **Scikit-learn**, or `sklearn` as enthusiasts like to call it."
   ]
  }
 ],
 "metadata": {
  "colab": {
   "collapsed_sections": [
    "pr2MtDmiERaI",
    "sZCTeX1WEfIx",
    "u7qE2uqSUC3q",
    "xQfGI8EwUz60",
    "9vZ9XHaNV-0I",
    "phmQOCINdYEu",
    "fkeF11KqdeJv",
    "1_v3lG4ffikL",
    "DzuUPSlukNXK"
   ],
   "name": "M4_Introduction_to_NumPy_and_Pandas.ipynb",
   "provenance": [
    {
     "file_id": "1DxohO5I4E7UkLTUB1nvlsW80ehl7ci8d",
     "timestamp": 1611460990484
    }
   ],
   "toc_visible": true
  },
  "kernelspec": {
   "display_name": "Python 3",
   "language": "python",
   "name": "python3"
  },
  "language_info": {
   "codemirror_mode": {
    "name": "ipython",
    "version": 3
   },
   "file_extension": ".py",
   "mimetype": "text/x-python",
   "name": "python",
   "nbconvert_exporter": "python",
   "pygments_lexer": "ipython3",
   "version": "3.9.2"
  }
 },
 "nbformat": 4,
 "nbformat_minor": 1
}
