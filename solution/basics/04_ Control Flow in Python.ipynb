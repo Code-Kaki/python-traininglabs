{
 "cells": [
  {
   "cell_type": "markdown",
   "metadata": {},
   "source": [
    "**Copyright (c) 2020 Skymind Holdings Berhad**\n",
    "\n",
    "**Copyright (c) 2021 Skymind Education Group Sdn. Bhd.**\n",
    "\n",
    "   Licensed under the Apache License, Version 2.0 (the \"License\");\n",
    "   you may not use this file except in compliance with the License.\n",
    "   You may obtain a copy of the License at http://www.apache.org/licenses/LICENSE-2.0\n",
    "\n",
    "   Unless required by applicable law or agreed to in writing, software\n",
    "   distributed under the License is distributed on an \"AS IS\" BASIS,\n",
    "   WITHOUT WARRANTIES OR CONDITIONS OF ANY KIND, either express or implied.\n",
    "   See the License for the specific language governing permissions and\n",
    "   limitations under the License.\n",
    "   \n",
    "**SPDX-License-Identifier: Apache-2.0**\n",
    "   "
   ]
  },
  {
   "cell_type": "markdown",
   "metadata": {
    "id": "TIJOPDBhwL82"
   },
   "source": [
    "# Hello Pythoneers!\n",
    "\n",
    "So far, you've learnt about variables, data types and operators in Python. But you can only do at most three or four lines of code, right? \n",
    "\n",
    "In this lesson, you will learn about **control flow**, which is *the order in which the programme's code executes*.\n",
    "\n",
    "In Python, a programme's control flow is governed by **conditional statements, loops, function calls and exception handling**. But as this is a basic Python course, we are only going to touch the first three. (We are going to touch the first two in this lesson.)\n",
    "\n",
    "*Author: Yu Yuen Hern, Skymind Holdings Berhad*"
   ]
  },
  {
   "cell_type": "markdown",
   "metadata": {
    "id": "SUaDmhlXzmmN"
   },
   "source": [
    "# Indentation\n",
    "\n",
    "Indentation refers to the spaces at the beginning of the code line.\n",
    "\n",
    "In other languages, indentations are meant for readability, but in Python, it **indicates a block of code**. This makes indentation incredibly important in Python. It controls the birth or death of your code.\n",
    "\n",
    "P/s: Sometimes, errors in your code can be resolved with just correct indentations!"
   ]
  },
  {
   "cell_type": "code",
   "execution_count": null,
   "metadata": {
    "id": "Xi96Z30_2jmp"
   },
   "outputs": [],
   "source": [
    "# Let's consider x = -1\n",
    "x = -1"
   ]
  },
  {
   "cell_type": "code",
   "execution_count": null,
   "metadata": {
    "id": "qhCZ7S4nTXsb"
   },
   "outputs": [],
   "source": [
    "# With indentation - compiles smoothly\n",
    "if x > 0:\n",
    "    print(\"x is greater than 0!\")"
   ]
  },
  {
   "cell_type": "markdown",
   "metadata": {
    "id": "GmwSkmOG4Nx7"
   },
   "source": [
    "Quiz: It doesn't print out anything, why?"
   ]
  },
  {
   "cell_type": "code",
   "execution_count": null,
   "metadata": {
    "colab": {
     "base_uri": "https://localhost:8080/",
     "height": 128
    },
    "executionInfo": {
     "elapsed": 777,
     "status": "error",
     "timestamp": 1606617421028,
     "user": {
      "displayName": "Yuen Hern Yu",
      "photoUrl": "",
      "userId": "17516954092065775720"
     },
     "user_tz": -480
    },
    "id": "pVlpTbYM20kd",
    "outputId": "58508628-ddf6-4964-8f45-2d7636f26020"
   },
   "outputs": [
    {
     "ename": "IndentationError",
     "evalue": "ignored",
     "output_type": "error",
     "traceback": [
      "\u001b[0;36m  File \u001b[0;32m\"<ipython-input-3-dfc582fd8a37>\"\u001b[0;36m, line \u001b[0;32m3\u001b[0m\n\u001b[0;31m    print(\"x is greater than 0!\")\u001b[0m\n\u001b[0m        ^\u001b[0m\n\u001b[0;31mIndentationError\u001b[0m\u001b[0;31m:\u001b[0m expected an indented block\n"
     ]
    }
   ],
   "source": [
    "# Without indentation - error spits out\n",
    "if x > 0:\n",
    "print(\"x is greater than 0!\")"
   ]
  },
  {
   "cell_type": "markdown",
   "metadata": {
    "id": "TpD_e1LS3IzP"
   },
   "source": [
    "# If-else Statement\n",
    "\n",
    "The if-else statement is a conditional statement, i.e. it controls the flow of the programme using conditions.\n",
    "\n",
    "```\n",
    "if condition:\n",
    "    statement(s)\n",
    "else:\n",
    "    otherStatement(s)\n",
    "```"
   ]
  },
  {
   "cell_type": "markdown",
   "metadata": {
    "id": "HgSU1x1c6o4L"
   },
   "source": [
    "This time, we want to make the code accept our input first, then print out whether it is greater or less than 0."
   ]
  },
  {
   "cell_type": "code",
   "execution_count": null,
   "metadata": {
    "colab": {
     "base_uri": "https://localhost:8080/"
    },
    "executionInfo": {
     "elapsed": 5564,
     "status": "ok",
     "timestamp": 1606618072632,
     "user": {
      "displayName": "Yuen Hern Yu",
      "photoUrl": "",
      "userId": "17516954092065775720"
     },
     "user_tz": -480
    },
    "id": "9iWdl0F_3FGv",
    "outputId": "6016d8f3-d244-458d-8086-6a541873efa3"
   },
   "outputs": [
    {
     "name": "stdout",
     "output_type": "stream",
     "text": [
      "Enter an integer here: 5\n",
      "User input is: 5, which is greater than zero.\n"
     ]
    }
   ],
   "source": [
    "user_input = int(input(\"Enter an integer here: \")) # Prompt the user to input an integer\n",
    "\n",
    "# Here, we are going to use if-else statement to compare if the user's input is greater or less than 0\n",
    "if (user_input > 0):\n",
    "    print(\"User input is: %i, which is greater than zero.\" % user_input)\n",
    "else:\n",
    "    print(\"User input is: %i, which is less than zero.\" % user_input)\n"
   ]
  },
  {
   "cell_type": "markdown",
   "metadata": {
    "id": "wrCNi-ww5m-9"
   },
   "source": [
    "Quiz: Try running the above code block and put in \"0\" in the input! What will happen?"
   ]
  },
  {
   "cell_type": "markdown",
   "metadata": {
    "id": "Kfj1McCr8Z3Z"
   },
   "source": [
    "Steps in an if-else code block:\n",
    "\n",
    "1.   If expression in `if` clause evaluates as true, the statements following the `if` clause will execute, and the entire `if-else` statement ends.\n",
    "2.   Otherwise, the expressions for any `elif` clauses are evaluated in order. The statements following the first `elif` clause whose condition is true will be executed and entire `if-else` statement ends.  \n",
    "3.   Otherwise, if an `else` clause exists, the statements following it are executed.\n",
    "\n",
    " "
   ]
  },
  {
   "cell_type": "markdown",
   "metadata": {
    "id": "Iz8PC8ml5yTj"
   },
   "source": [
    "# While Loop\n",
    "\n",
    "The `while` statement supports repeated execution of a code or block of code that is controlled by a conditional expression.\n",
    "\n",
    "```\n",
    "while condition:\n",
    "    statement(s)\n",
    "```"
   ]
  },
  {
   "cell_type": "markdown",
   "metadata": {
    "id": "56Ou689Y6uZX"
   },
   "source": [
    "Let's do a `while` loop which sums up all the numbers from zero to ten."
   ]
  },
  {
   "cell_type": "code",
   "execution_count": null,
   "metadata": {
    "colab": {
     "base_uri": "https://localhost:8080/"
    },
    "executionInfo": {
     "elapsed": 758,
     "status": "ok",
     "timestamp": 1606618725897,
     "user": {
      "displayName": "Yuen Hern Yu",
      "photoUrl": "",
      "userId": "17516954092065775720"
     },
     "user_tz": -480
    },
    "id": "qGvJJ3bh5jA7",
    "outputId": "55aa6720-bd8c-42db-bc78-fb767b6c9aab"
   },
   "outputs": [
    {
     "name": "stdout",
     "output_type": "stream",
     "text": [
      "45\n"
     ]
    }
   ],
   "source": [
    "var_sum = 0\n",
    "x = 0\n",
    "\n",
    "while (x < 10):\n",
    "    var_sum += x\n",
    "    x += 1\n",
    "\n",
    "print(var_sum) # Is the value correct? 1 + 2 + ... + 10 = 45?"
   ]
  },
  {
   "cell_type": "markdown",
   "metadata": {
    "id": "92Q4eC8J77vn"
   },
   "source": [
    "**Quiz: Is the above code block correct? What modifications should we do?**"
   ]
  },
  {
   "cell_type": "markdown",
   "metadata": {
    "id": "kulnZOXA8TIv"
   },
   "source": [
    "Steps in a `while` code block:\n",
    "\n",
    "1.   The loop condition is evaluated. If the condition is false, the `while` statement ends. If the loop condition is satisfied, the statement block in the loop body will be executed.\n",
    "2.   When the loop finishes executing, the loop condition will be evaluated again, to see if another iteration is necessary.\n",
    "3. Process continues until the loop condition is false, at which point the `while` block ends.\n",
    "\n",
    "Note: Loop body should contain code that eventually makes the condition false, else the loop will never end unless the following situation happen:\n",
    "\n",
    "*   Exceptions are raised\n",
    "*   Break statement is executed\n",
    "*   Return statement is executed\n",
    "\n",
    "\n",
    "\n",
    "\n"
   ]
  },
  {
   "cell_type": "markdown",
   "metadata": {
    "id": "Lg1l9MGl-beJ"
   },
   "source": [
    "# For Loop\n",
    "\n",
    "The `for` statement supports repeated execution of a statement or block of statements, controlled by an iterable expression.\n",
    "\n",
    "```\n",
    "for target in iterable:\n",
    "    statement(s)\n",
    "```\n",
    "\n",
    "An `iterable` may be any Python expression suitable as an argument for built-in function `iter`, which returns an iterator object.\n",
    "\n",
    "A `target` is an identifier that names the control variable of the loop. (Multiple identifiers in target is allowed, provided that the iterator's item length is equal to number of identifiers in target.)\n",
    "\n",
    "The statement(s) in the loop body is executed once for each item in `iterable`."
   ]
  },
  {
   "cell_type": "markdown",
   "metadata": {
    "id": "ZixHmseRHcUX"
   },
   "source": [
    "For instance, we want to know what is the outcome of 0, 1, 2, ..., 10 when added with 99. We can use a `for` loop for this."
   ]
  },
  {
   "cell_type": "code",
   "execution_count": null,
   "metadata": {
    "colab": {
     "base_uri": "https://localhost:8080/"
    },
    "executionInfo": {
     "elapsed": 766,
     "status": "ok",
     "timestamp": 1606622248288,
     "user": {
      "displayName": "Yuen Hern Yu",
      "photoUrl": "",
      "userId": "17516954092065775720"
     },
     "user_tz": -480
    },
    "id": "4rSO78l27krU",
    "outputId": "acffb85f-9c91-49d1-ebbe-b0951e66c7d9"
   },
   "outputs": [
    {
     "name": "stdout",
     "output_type": "stream",
     "text": [
      "0 + 99 = 99\n",
      "1 + 99 = 100\n",
      "2 + 99 = 101\n",
      "3 + 99 = 102\n",
      "4 + 99 = 103\n",
      "5 + 99 = 104\n",
      "6 + 99 = 105\n",
      "7 + 99 = 106\n",
      "8 + 99 = 107\n",
      "9 + 99 = 108\n",
      "10 + 99 = 109\n"
     ]
    }
   ],
   "source": [
    "original_list = [0, 1, 2, 3, 4, 5, 6, 7, 8, 9, 10] # Define a list with integer from 0 to 10\n",
    "\n",
    "# We will add 99 to each number using for loop here\n",
    "for n in original_list:\n",
    "    var_add = n + 99\n",
    "    print(\"%i + 99 = %i\" % (n, var_add))"
   ]
  },
  {
   "cell_type": "markdown",
   "metadata": {},
   "source": [
    "# Functions\n",
    "\n",
    "A function is a group of organised and reusable code that performs a specific task. Functions provide:\n",
    "\n",
    "1. High modularity in your code\n",
    "2. High degree of code reusing - avoids repetition\n",
    "\n",
    "Syntax of a function\n",
    "\n",
    "```\n",
    "def function_name(arguments):\n",
    "    \"\"\"docstring\"\"\"\n",
    "    statement\n",
    "    return variable\n",
    "```\n",
    "\n",
    "The function name follows similar naming convention as identifiers/variables in Python. Arguments (or inputs of the function) are optional and the colon `:` is to mark the end of the function header.\n",
    "\n",
    "You can also include optional documentation string (docstring) to give more description of the function.\n",
    "\n",
    "The statements in a function must have same indentation level (4 spaces as per PEP20 guidelines).\n",
    "\n",
    "You are free to choose to output a variable or not using the `return` keyword at the end of the function.\n"
   ]
  },
  {
   "cell_type": "markdown",
   "metadata": {},
   "source": [
    "Let's write a function which:\n",
    "1. Has a function name of aggregator\n",
    "2. Has input arguments of two numbers\n",
    "3. Performs a task of adding the two input arguments\n",
    "4. Is able to print the aggregated value of the two input arguments\n",
    "4. Is able to return the aggregated value of the two input arguments"
   ]
  },
  {
   "cell_type": "markdown",
   "metadata": {},
   "source": [
    "Let's define the function."
   ]
  },
  {
   "cell_type": "code",
   "execution_count": 13,
   "metadata": {},
   "outputs": [],
   "source": [
    "def aggregator(num1, num2):\n",
    "    \"\"\"\n",
    "    This function aggregates the two input arguments\n",
    "    \"\"\"\n",
    "    agg = num1 + num2\n",
    "    print(\"The aggregated value of {0} and {1} is: {2}\".format(num1, num2, agg))\n",
    "    return agg"
   ]
  },
  {
   "cell_type": "markdown",
   "metadata": {},
   "source": [
    "After defining a function, let's call the function."
   ]
  },
  {
   "cell_type": "code",
   "execution_count": 14,
   "metadata": {},
   "outputs": [
    {
     "name": "stdout",
     "output_type": "stream",
     "text": [
      "The aggregated value of 1 and 2 is: 3\n"
     ]
    },
    {
     "data": {
      "text/plain": [
       "3"
      ]
     },
     "execution_count": 14,
     "metadata": {},
     "output_type": "execute_result"
    }
   ],
   "source": [
    "aggregator(1, 2)"
   ]
  },
  {
   "cell_type": "markdown",
   "metadata": {
    "id": "bqiNmQHhVQma"
   },
   "source": [
    "# Test Your Understanding"
   ]
  },
  {
   "cell_type": "markdown",
   "metadata": {
    "id": "STeYmaWgVclf"
   },
   "source": [
    "The Challenge:\n",
    "\n",
    "Consider a list of number (e.g. [1, 5, 10, 23, 55]). Write a program using control flow to determine how many digits in the list are divisible by 5.\n"
   ]
  },
  {
   "cell_type": "code",
   "execution_count": 1,
   "metadata": {
    "executionInfo": {
     "elapsed": 1059,
     "status": "ok",
     "timestamp": 1611290529968,
     "user": {
      "displayName": "Yuen Hern Yu",
      "photoUrl": "",
      "userId": "17516954092065775720"
     },
     "user_tz": -480
    },
    "id": "-nX821cvX0lE"
   },
   "outputs": [],
   "source": [
    "test_list = [1, 5, 10, 23, 55, 56, 78, 99, 100] # Input"
   ]
  },
  {
   "cell_type": "code",
   "execution_count": null,
   "metadata": {
    "id": "NbjTLF2mYNhs"
   },
   "outputs": [],
   "source": [
    "# Your code starts here\n",
    "\n",
    "# Your code ends here\n",
    "print(\"There are %s digits in the list which are divisible by 5.\" % divisible_by_5)"
   ]
  },
  {
   "cell_type": "markdown",
   "metadata": {
    "id": "oxxZy2ZJYNDp"
   },
   "source": [
    "Go one step further - ignore the digit if it is more than or equal to 100. "
   ]
  },
  {
   "cell_type": "code",
   "execution_count": null,
   "metadata": {
    "id": "NJAgBf14YyPc"
   },
   "outputs": [],
   "source": [
    "# Your code starts here\n",
    "\n",
    "# Your code ends here\n",
    "print(\"There are %s digits in the list which are divisible by 5, excluding digits more than or equal to 100.\" % divisible_by_5)"
   ]
  },
  {
   "cell_type": "markdown",
   "metadata": {
    "id": "M8w0tMIcZNWF"
   },
   "source": [
    "# Solution - DO NOT PEEK BEFORE YOU TRY THE CHALLENGE!"
   ]
  },
  {
   "cell_type": "markdown",
   "metadata": {
    "id": "zxyCAMtqZXcC"
   },
   "source": [
    "Solution for Challenge 1"
   ]
  },
  {
   "cell_type": "code",
   "execution_count": 7,
   "metadata": {
    "colab": {
     "base_uri": "https://localhost:8080/"
    },
    "executionInfo": {
     "elapsed": 1215,
     "status": "ok",
     "timestamp": 1611290815751,
     "user": {
      "displayName": "Yuen Hern Yu",
      "photoUrl": "",
      "userId": "17516954092065775720"
     },
     "user_tz": -480
    },
    "id": "W5Uh5Zd8ZSBL",
    "outputId": "d9f92a63-92ee-4683-b086-f839edc39329"
   },
   "outputs": [
    {
     "name": "stdout",
     "output_type": "stream",
     "text": [
      "There are 4 digits in the list which are divisible by 5.\n"
     ]
    }
   ],
   "source": [
    "# Your code starts here\n",
    "divisible_by_5 = 0\n",
    "for i in test_list:\n",
    "  if (i % 5 == 0):\n",
    "    divisible_by_5 += 1\n",
    "# Your code ends here\n",
    "print(\"There are %s digits in the list which are divisible by 5.\" % divisible_by_5)"
   ]
  },
  {
   "cell_type": "markdown",
   "metadata": {
    "id": "elXpPRghbHaP"
   },
   "source": [
    "Solution for Challenge 2"
   ]
  },
  {
   "cell_type": "code",
   "execution_count": 8,
   "metadata": {
    "colab": {
     "base_uri": "https://localhost:8080/"
    },
    "executionInfo": {
     "elapsed": 978,
     "status": "ok",
     "timestamp": 1611290915752,
     "user": {
      "displayName": "Yuen Hern Yu",
      "photoUrl": "",
      "userId": "17516954092065775720"
     },
     "user_tz": -480
    },
    "id": "CrGcU3nua0c9",
    "outputId": "251e3e03-162b-4053-dfaf-d6812bf36bfa"
   },
   "outputs": [
    {
     "name": "stdout",
     "output_type": "stream",
     "text": [
      "There are 3 digits in the list which are divisible by 5, excluding digits more than or equal to 100.\n"
     ]
    }
   ],
   "source": [
    "# Your code starts here\n",
    "divisible_by_5 = 0\n",
    "for i in test_list:\n",
    "  if (i >= 100):\n",
    "    pass\n",
    "  elif (i % 5 == 0):\n",
    "    divisible_by_5 += 1\n",
    "# Your code ends here\n",
    "print(\"There are %s digits in the list which are divisible by 5, excluding digits more than or equal to 100.\" % divisible_by_5)"
   ]
  },
  {
   "cell_type": "markdown",
   "metadata": {
    "id": "4QlWNfNiKB-Z"
   },
   "source": [
    "# The End: Control Flow\n",
    "\n",
    "This is the end of the tutorial on control flow. In this lesson, you learnt about the elements which tells a machine step-by-step how to perform a series of actions.\n",
    "\n",
    "However, there is more to control flow than this. Do you know that a `for` and `while` loop can have `else` in their structure? Check this website out for more on Python control flow: \n",
    "\n",
    "https://www.oreilly.com/library/view/python-in-a/0596001886/ch04s09.html#:~:text=A%20program's%20control%20flow%20is,%2C%20loops%2C%20and%20function%20calls.&text=Raising%20and%20handling%20exceptions%20also,are%20covered%20in%20Chapter%206 "
   ]
  }
 ],
 "metadata": {
  "colab": {
   "authorship_tag": "ABX9TyPD3tWCehPeVW2oIv1jM8eo",
   "collapsed_sections": [],
   "name": "M3-2: Control Flow in Python.ipynb",
   "provenance": [],
   "toc_visible": true
  },
  "kernelspec": {
   "display_name": "Python 3",
   "language": "python",
   "name": "python3"
  },
  "language_info": {
   "codemirror_mode": {
    "name": "ipython",
    "version": 3
   },
   "file_extension": ".py",
   "mimetype": "text/x-python",
   "name": "python",
   "nbconvert_exporter": "python",
   "pygments_lexer": "ipython3",
   "version": "3.9.2"
  }
 },
 "nbformat": 4,
 "nbformat_minor": 1
}
